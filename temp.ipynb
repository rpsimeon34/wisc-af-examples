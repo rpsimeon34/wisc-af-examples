{
 "cells": [
  {
   "cell_type": "markdown",
   "id": "c56b5929-955f-40dd-9db1-e5361e54026b",
   "metadata": {},
   "source": [
    "This notebook demonstrates that the XRootD issue when running on a distributed cluster does not show up when running locally.\n",
    "\n",
    "## Contents\n",
    "\n",
    "The first 4 cells set up the code, with some configurable parameters and code setup. The core of the code is in the processor cell defining the TriggerThreshold class, which is set up to just count the number of events in each file, and also add one to a counter for every chunk encountered.\n",
    "\n",
    "After that, we create a local and distributed executor and runner, and then run the code to see the different outcomes."
   ]
  },
  {
   "cell_type": "code",
   "execution_count": 1,
   "id": "f1ce613c-4f5f-48ef-9bc1-9bcfc410fdab",
   "metadata": {
    "tags": []
   },
   "outputs": [],
   "source": [
    "from dask.distributed import Client\n",
    "import os\n",
    "from dask_jobqueue import HTCondorCluster\n",
    "import awkward as ak\n",
    "import coffea.processor as processor\n",
    "from hist import Hist, axis\n",
    "from coffea.analysis_tools import PackedSelection\n",
    "from coffea.nanoevents import NanoAODSchema, NanoEventsFactory\n",
    "from coffea.nanoevents.methods import nanoaod"
   ]
  },
  {
   "cell_type": "code",
   "execution_count": 2,
   "id": "80870c47-a87b-4db5-a290-9faf0a4c7815",
   "metadata": {
    "tags": []
   },
   "outputs": [],
   "source": [
    "MAX_WORKERS = 40\n",
    "MAX_CHUNKS = None\n",
    "CHUNKSIZE = 5000"
   ]
  },
  {
   "cell_type": "code",
   "execution_count": 3,
   "id": "c13186bd-cc62-4a65-9465-43d28c338c4a",
   "metadata": {
    "tags": []
   },
   "outputs": [],
   "source": [
    "redirector = \"root://cmsxrootd.fnal.gov//\"\n",
    "#redirector = \"root://cmsxrootd.fnal.gov//store/test/xrootd/T1_US_FNAL/\"\n",
    "#redirector = \"root://cms-xrd-global.cern.ch//store/test/xrootd/T2_CH_CERN/\"\n",
    "\n",
    "ll_fileset = {\n",
    "    \"ggZH_HToBB_ZToLL\": [\n",
    "        redirector+\"/store/mc/RunIISummer20UL18NanoAODv9/ggZH_HToBB_ZToLL_M-125_TuneCP5_13TeV-powheg-pythia8/NANOAODSIM/106X_upgrade2018_realistic_v16_L1v1-v1/2520000/1412A75E-6CBA-5142-914D-2FE8356F680C.root\",\n",
    "        redirector+\"/store/mc/RunIISummer20UL18NanoAODv9/ggZH_HToBB_ZToLL_M-125_TuneCP5_13TeV-powheg-pythia8/NANOAODSIM/106X_upgrade2018_realistic_v16_L1v1-v1/2520000/7D3C5290-C72C-B140-9233-D7DA01D4B183.root\"\n",
    "    ],\n",
    "    \"ZH_HToBB_ZToLL\": [\n",
    "        redirector+\"/store/mc/RunIISummer20UL18NanoAODv9/ZH_HToBB_ZToLL_M-125_TuneCP5_13TeV-powheg-pythia8/NANOAODSIM/106X_upgrade2018_realistic_v16_L1v1-v1/2520000/56097D21-719D-564E-8E4A-C65214F252F9.root\",\n",
    "        redirector+\"/store/mc/RunIISummer20UL18NanoAODv9/ZH_HToBB_ZToLL_M-125_TuneCP5_13TeV-powheg-pythia8/NANOAODSIM/106X_upgrade2018_realistic_v16_L1v1-v1/2820000/FE6AF237-7A43-C640-A0C0-672C18B80526.root\"\n",
    "    ]\n",
    "}\n",
    "\n",
    "background_fileset1 = {\n",
    "    \"Z1Jets_NuNu_ZpT_50To150_18\": [\n",
    "        redirector+\"/store/mc/RunIISummer20UL18NanoAODv9/Z1JetsToNuNu_M-50_LHEFilterPtZ-50To150_MatchEWPDG20_TuneCP5_13TeV-amcatnloFXFX-pythia8/NANOAODSIM/106X_upgrade2018_realistic_v16_L1v1-v2/230000/0F8CC648-9AF6-B044-802A-0EB7C835E0A2.root\",\n",
    "        redirector+\"/store/mc/RunIISummer20UL18NanoAODv9/Z1JetsToNuNu_M-50_LHEFilterPtZ-50To150_MatchEWPDG20_TuneCP5_13TeV-amcatnloFXFX-pythia8/NANOAODSIM/106X_upgrade2018_realistic_v16_L1v1-v2/230000/28D97AEC-59D5-B740-A770-93FE1BAEE2B4.root\"\n",
    "    ],\n",
    "    \"Z1Jets_NuNu_ZpT_150To250_18\": [\n",
    "        redirector+\"/store/mc/RunIISummer20UL18NanoAODv9/Z1JetsToNuNu_M-50_LHEFilterPtZ-150To250_MatchEWPDG20_TuneCP5_13TeV-amcatnloFXFX-pythia8/NANOAODSIM/106X_upgrade2018_realistic_v16_L1v1-v2/100000/172EBACB-6262-9F4B-A0F4-2FAAFDE0C5E4.root\",\n",
    "        redirector+\"/store/mc/RunIISummer20UL18NanoAODv9/Z1JetsToNuNu_M-50_LHEFilterPtZ-150To250_MatchEWPDG20_TuneCP5_13TeV-amcatnloFXFX-pythia8/NANOAODSIM/106X_upgrade2018_realistic_v16_L1v1-v2/100000/330D8B69-4B47-1E4B-A887-693EBC256F72.root\"\n",
    "    ],\n",
    "    \"Z1Jets_NuNu_ZpT_250To400_18\": [\n",
    "        redirector+\"/store/mc/RunIISummer20UL18NanoAODv9/Z1JetsToNuNu_M-50_LHEFilterPtZ-250To400_MatchEWPDG20_TuneCP5_13TeV-amcatnloFXFX-pythia8/NANOAODSIM/106X_upgrade2018_realistic_v16_L1v1-v2/100000/0125BE86-EAB7-0A41-991C-0AAAE0E1B411.root\",\n",
    "        redirector+\"/store/mc/RunIISummer20UL18NanoAODv9/Z1JetsToNuNu_M-50_LHEFilterPtZ-250To400_MatchEWPDG20_TuneCP5_13TeV-amcatnloFXFX-pythia8/NANOAODSIM/106X_upgrade2018_realistic_v16_L1v1-v2/100000/214C20C9-FE96-624E-B066-9E93A3ECCCC6.root\"\n",
    "    ],\n",
    "    \"Z1Jets_NuNu_ZpT_400Toinf_18\": [\n",
    "        redirector+\"/store/mc/RunIISummer20UL18NanoAODv9/Z1JetsToNuNu_M-50_LHEFilterPtZ-400ToInf_MatchEWPDG20_TuneCP5_13TeV-amcatnloFXFX-pythia8/NANOAODSIM/106X_upgrade2018_realistic_v16_L1v1-v2/2430000/D96F633E-4E9F-E840-9D6A-7A0F2C9A4782.root\",\n",
    "        redirector+\"/store/mc/RunIISummer20UL18NanoAODv9/Z1JetsToNuNu_M-50_LHEFilterPtZ-400ToInf_MatchEWPDG20_TuneCP5_13TeV-amcatnloFXFX-pythia8/NANOAODSIM/106X_upgrade2018_realistic_v16_L1v1-v2/2500000/2D1166D3-D36E-FE48-831B-3E5129DF86B2.root\"\n",
    "    ],\n",
    "    \"Z2Jets_NuNu_ZpT_50To150_18\": [\n",
    "        redirector+\"/store/mc/RunIISummer20UL18NanoAODv9/Z2JetsToNuNu_M-50_LHEFilterPtZ-50To150_MatchEWPDG20_TuneCP5_13TeV-amcatnloFXFX-pythia8/NANOAODSIM/106X_upgrade2018_realistic_v16_L1v1-v2/260000/139DD796-FB80-FB4C-832C-32910737F15C.root\",\n",
    "        redirector+\"/store/mc/RunIISummer20UL18NanoAODv9/Z2JetsToNuNu_M-50_LHEFilterPtZ-50To150_MatchEWPDG20_TuneCP5_13TeV-amcatnloFXFX-pythia8/NANOAODSIM/106X_upgrade2018_realistic_v16_L1v1-v2/260000/1533FD48-0478-D046-9619-984D2795AB13.root\"\n",
    "    ],\n",
    "    \"Z2Jets_NuNu_ZpT_150To250_18\": [\n",
    "        redirector+\"/store/mc/RunIISummer20UL18NanoAODv9/Z2JetsToNuNu_M-50_LHEFilterPtZ-150To250_MatchEWPDG20_TuneCP5_13TeV-amcatnloFXFX-pythia8/NANOAODSIM/106X_upgrade2018_realistic_v16_L1v1-v2/2520000/4258322E-C506-D948-A741-8215643FA65B.root\",\n",
    "        redirector+\"/store/mc/RunIISummer20UL18NanoAODv9/Z2JetsToNuNu_M-50_LHEFilterPtZ-150To250_MatchEWPDG20_TuneCP5_13TeV-amcatnloFXFX-pythia8/NANOAODSIM/106X_upgrade2018_realistic_v16_L1v1-v2/2520000/8192962A-B27D-A84D-84BE-56308098E439.root\"\n",
    "    ],\n",
    "    \"Z2Jets_NuNu_ZpT_250To400_18\": [\n",
    "        redirector+\"/store/mc/RunIISummer20UL18NanoAODv9/Z2JetsToNuNu_M-50_LHEFilterPtZ-250To400_MatchEWPDG20_TuneCP5_13TeV-amcatnloFXFX-pythia8/NANOAODSIM/106X_upgrade2018_realistic_v16_L1v1-v2/110000/0578AAC5-73D9-2549-81AE-15780AA2AC09.root\",\n",
    "        redirector+\"/store/mc/RunIISummer20UL18NanoAODv9/Z2JetsToNuNu_M-50_LHEFilterPtZ-250To400_MatchEWPDG20_TuneCP5_13TeV-amcatnloFXFX-pythia8/NANOAODSIM/106X_upgrade2018_realistic_v16_L1v1-v2/110000/10F5455F-F6B7-574D-96AF-BB5BE84F0E96.root\"\n",
    "    ],\n",
    "    \"Z2Jets_NuNu_ZpT_400Toinf_18\": [\n",
    "        redirector+\"/store/mc/RunIISummer20UL18NanoAODv9/Z2JetsToNuNu_M-50_LHEFilterPtZ-400ToInf_MatchEWPDG20_TuneCP5_13TeV-amcatnloFXFX-pythia8/NANOAODSIM/106X_upgrade2018_realistic_v16_L1v1-v2/250000/00F85493-F90B-614F-9A15-8FAC7F453087.root\",\n",
    "        redirector+\"/store/mc/RunIISummer20UL18NanoAODv9/Z2JetsToNuNu_M-50_LHEFilterPtZ-400ToInf_MatchEWPDG20_TuneCP5_13TeV-amcatnloFXFX-pythia8/NANOAODSIM/106X_upgrade2018_realistic_v16_L1v1-v2/250000/2EF80BFA-3194-D74C-A563-15A037A209DC.root\"\n",
    "    ]\n",
    "}\n",
    "\n",
    "background_fileset2 = {\n",
    "    \"DYJets_LL_HT_70To100_18\": [\n",
    "        redirector+\"/store/mc/RunIISummer20UL18NanoAODv9/DYJetsToLL_M-50_HT-70to100_TuneCP5_PSweights_13TeV-madgraphMLM-pythia8/NANOAODSIM/106X_upgrade2018_realistic_v16_L1v1-v1/270000/088661DE-FACE-A94C-925A-54AAEF6F3DCF.root\",\n",
    "        redirector+\"/store/mc/RunIISummer20UL18NanoAODv9/DYJetsToLL_M-50_HT-70to100_TuneCP5_PSweights_13TeV-madgraphMLM-pythia8/NANOAODSIM/106X_upgrade2018_realistic_v16_L1v1-v1/270000/158E3EB5-BC86-5D4A-8FF5-9A56D48DF51F.root\"\n",
    "    ],\n",
    "    \"DYJets_LL_HT_100To200_18\": [\n",
    "        redirector+\"/store/mc/RunIISummer20UL18NanoAODv9/DYJetsToLL_M-50_HT-100to200_TuneCP5_PSweights_13TeV-madgraphMLM-pythia8/NANOAODSIM/106X_upgrade2018_realistic_v16_L1v1-v1/270000/CBACD077-17BA-2F45-8D53-E85FA418AC38.root\",\n",
    "        redirector+\"/store/mc/RunIISummer20UL18NanoAODv9/DYJetsToLL_M-50_HT-100to200_TuneCP5_PSweights_13TeV-madgraphMLM-pythia8/NANOAODSIM/106X_upgrade2018_realistic_v16_L1v1-v1/280000/0D6F4737-5496-CB46-96FF-0BF753D8BA6B.root\"\n",
    "    ],\n",
    "    \"DYJets_LL_HT_200To400_18\": [\n",
    "        redirector+\"/store/mc/RunIISummer20UL18NanoAODv9/DYJetsToLL_M-50_HT-200to400_TuneCP5_PSweights_13TeV-madgraphMLM-pythia8/NANOAODSIM/106X_upgrade2018_realistic_v16_L1v1-v1/120000/1DF66202-5953-FC43-947A-DAB20E014690.root\",\n",
    "        redirector+\"/store/mc/RunIISummer20UL18NanoAODv9/DYJetsToLL_M-50_HT-200to400_TuneCP5_PSweights_13TeV-madgraphMLM-pythia8/NANOAODSIM/106X_upgrade2018_realistic_v16_L1v1-v1/130000/049A53D2-0293-F341-A519-D05EC501B569.root\"\n",
    "    ],\n",
    "    \"DYJets_LL_HT_600To800_18\": [\n",
    "        redirector+\"/store/mc/RunIISummer20UL18NanoAODv9/DYJetsToLL_M-50_HT-600to800_TuneCP5_PSweights_13TeV-madgraphMLM-pythia8/NANOAODSIM/106X_upgrade2018_realistic_v16_L1v1-v1/120000/A180B4E8-7AAA-A64B-B279-D21C2054AAFC.root\",\n",
    "        redirector+\"/store/mc/RunIISummer20UL18NanoAODv9/DYJetsToLL_M-50_HT-600to800_TuneCP5_PSweights_13TeV-madgraphMLM-pythia8/NANOAODSIM/106X_upgrade2018_realistic_v16_L1v1-v1/130000/79AB1FF0-3ADB-C246-91EE-B9C14BC21CE8.root\"\n",
    "    ],\n",
    "    \"DYJets_LL_HT_1200To2500_18\": [\n",
    "        redirector+\"/store/mc/RunIISummer20UL18NanoAODv9/DYJetsToLL_M-50_HT-1200to2500_TuneCP5_PSweights_13TeV-madgraphMLM-pythia8/NANOAODSIM/106X_upgrade2018_realistic_v16_L1v1-v1/120000/26793660-5D04-C24B-813E-3C1744C84D2D.root\",\n",
    "        redirector+\"/store/mc/RunIISummer20UL18NanoAODv9/DYJetsToLL_M-50_HT-1200to2500_TuneCP5_PSweights_13TeV-madgraphMLM-pythia8/NANOAODSIM/106X_upgrade2018_realistic_v16_L1v1-v1/120000/6275C5B3-2FF5-E64B-972A-795610435C10.root\"\n",
    "    ],\n",
    "    \"DYJets_LL_HT_400To600_18\": [\n",
    "        redirector+\"/store/mc/RunIISummer20UL18NanoAODv9/DYJetsToLL_M-50_HT-400to600_TuneCP5_PSweights_13TeV-madgraphMLM-pythia8/NANOAODSIM/106X_upgrade2018_realistic_v16_L1v1-v1/120000/91C0A1FE-594B-584F-830A-002AC104B529.root\",\n",
    "        redirector+\"/store/mc/RunIISummer20UL18NanoAODv9/DYJetsToLL_M-50_HT-400to600_TuneCP5_PSweights_13TeV-madgraphMLM-pythia8/NANOAODSIM/106X_upgrade2018_realistic_v16_L1v1-v1/130000/00846A4F-433D-6D4E-8381-DD588DAE4954.root\"\n",
    "    ],\n",
    "    \"DYJets_LL_HT_800To1200_18\": [\n",
    "        redirector+\"/store/mc/RunIISummer20UL18NanoAODv9/DYJetsToLL_M-50_HT-800to1200_TuneCP5_PSweights_13TeV-madgraphMLM-pythia8/NANOAODSIM/106X_upgrade2018_realistic_v16_L1v1-v1/280000/021E8C2F-03FB-A043-AE3B-6868A0CB4D37.root\",\n",
    "        redirector+\"/store/mc/RunIISummer20UL18NanoAODv9/DYJetsToLL_M-50_HT-800to1200_TuneCP5_PSweights_13TeV-madgraphMLM-pythia8/NANOAODSIM/106X_upgrade2018_realistic_v16_L1v1-v1/280000/0352722F-19DF-6D4D-8854-08F6E44F009D.root\"\n",
    "    ],\n",
    "    \"DYJets_LL_HT_2500Toinf_18\": [\n",
    "        redirector+\"/store/mc/RunIISummer20UL18NanoAODv9/DYJetsToLL_M-50_HT-2500toInf_TuneCP5_PSweights_13TeV-madgraphMLM-pythia8/NANOAODSIM/106X_upgrade2018_realistic_v16_L1v1-v1/100000/0454549E-D951-B14A-B548-B59B5C0E95D7.root\",\n",
    "        redirector+\"/store/mc/RunIISummer20UL18NanoAODv9/DYJetsToLL_M-50_HT-2500toInf_TuneCP5_PSweights_13TeV-madgraphMLM-pythia8/NANOAODSIM/106X_upgrade2018_realistic_v16_L1v1-v1/110000/02076515-44A3-CE49-B9D6-B4CD7D05B0B9.root\"\n",
    "    ]\n",
    "}\n",
    "\n",
    "background_fileset4 = {\n",
    "    \"ST_tchannel_top_18\": [\n",
    "        redirector+\"/store/mc/RunIISummer20UL18NanoAODv9/ST_t-channel_top_4f_InclusiveDecays_TuneCP5_13TeV-powheg-madspin-pythia8/NANOAODSIM/106X_upgrade2018_realistic_v16_L1v1-v1/2540000/0D659B3B-F2D9-8341-9EB1-1EFCD1807617.root\",\n",
    "        redirector+\"/store/mc/RunIISummer20UL18NanoAODv9/ST_t-channel_top_4f_InclusiveDecays_TuneCP5_13TeV-powheg-madspin-pythia8/NANOAODSIM/106X_upgrade2018_realistic_v16_L1v1-v1/2540000/11B6AA30-B615-0941-AAF0-164A70BE3350.root\"\n",
    "    ],\n",
    "    \"ST_tchannel_antitop_18\": [\n",
    "        redirector+\"/store/mc/RunIISummer20UL18NanoAODv9/ST_t-channel_antitop_4f_InclusiveDecays_TuneCP5_13TeV-powheg-madspin-pythia8/NANOAODSIM/106X_upgrade2018_realistic_v16_L1v1-v1/2540000/8288F355-084C-0541-B8CD-EA2DE15FA214.root\",\n",
    "        redirector+\"/store/mc/RunIISummer20UL18NanoAODv9/ST_t-channel_antitop_4f_InclusiveDecays_TuneCP5_13TeV-powheg-madspin-pythia8/NANOAODSIM/106X_upgrade2018_realistic_v16_L1v1-v1/2550000/1307BC2B-75C3-2047-9F66-F6E6FEBCA11F.root\"\n",
    "    ],\n",
    "    \"ST_tW_top_18\": [\n",
    "        redirector+\"/store/mc/RunIISummer20UL18NanoAODv9/ST_tW_top_5f_inclusiveDecays_TuneCP5_13TeV-powheg-pythia8/NANOAODSIM/106X_upgrade2018_realistic_v16_L1v1-v2/100000/60FB6FDE-25EA-6C4E-80E5-96ED7EF8C294.root\",\n",
    "        redirector+\"/store/mc/RunIISummer20UL18NanoAODv9/ST_tW_top_5f_inclusiveDecays_TuneCP5_13TeV-powheg-pythia8/NANOAODSIM/106X_upgrade2018_realistic_v16_L1v1-v2/100000/8D4046EF-A074-CC49-8B9C-4E75DDBAF3D0.root\"\n",
    "    ],\n",
    "    \"ST_tW_antitop_18\": [\n",
    "        redirector+\"/store/mc/RunIISummer20UL18NanoAODv9/ST_tW_antitop_5f_inclusiveDecays_TuneCP5_13TeV-powheg-pythia8/NANOAODSIM/106X_upgrade2018_realistic_v16_L1v1-v2/230000/6371B801-DE75-5B4B-A781-98523A058E30.root\",\n",
    "        redirector+\"/store/mc/RunIISummer20UL18NanoAODv9/ST_tW_antitop_5f_inclusiveDecays_TuneCP5_13TeV-powheg-pythia8/NANOAODSIM/106X_upgrade2018_realistic_v16_L1v1-v2/230000/872D46BD-1E52-D347-A96D-DCA176E252E5.root\"\n",
    "    ],\n",
    "    \"TTToSemiLeptonic_18\": [\n",
    "        redirector+\"/store/mc/RunIISummer20UL18NanoAODv9/TTToSemiLeptonic_TuneCP5_13TeV-powheg-pythia8/NANOAODSIM/106X_upgrade2018_realistic_v16_L1v1-v1/120000/0520A050-AF68-EF43-AA5B-5AA77C74ED73.root\",\n",
    "        redirector+\"/store/mc/RunIISummer20UL18NanoAODv9/TTToSemiLeptonic_TuneCP5_13TeV-powheg-pythia8/NANOAODSIM/106X_upgrade2018_realistic_v16_L1v1-v1/120000/0E9EA19A-AE0E-3149-88C3-D733240FF5AB.root\"\n",
    "    ],\n",
    "    \"TTToHadronic_18\": [\n",
    "        redirector+\"/store/mc/RunIISummer20UL18NanoAODv9/TTToHadronic_TuneCP5_13TeV-powheg-pythia8/NANOAODSIM/106X_upgrade2018_realistic_v16_L1v1-v1/130000/0307C1DA-E49C-AB4B-9179-C70BE232321E.root\",\n",
    "        redirector+\"/store/mc/RunIISummer20UL18NanoAODv9/TTToHadronic_TuneCP5_13TeV-powheg-pythia8/NANOAODSIM/106X_upgrade2018_realistic_v16_L1v1-v1/130000/048D5B7E-A63F-554D-8386-4E8BFA761E62.root\"\n",
    "    ],\n",
    "    \"TTTo2L2Nu_18\": [\n",
    "        redirector+\"/store/mc/RunIISummer20UL18NanoAODv9/TTTo2L2Nu_TuneCP5_13TeV-powheg-pythia8/NANOAODSIM/106X_upgrade2018_realistic_v16_L1v1-v1/130000/0804DEBA-97D5-BE46-BB9D-B1125570966E.root\",\n",
    "        redirector+\"/store/mc/RunIISummer20UL18NanoAODv9/TTTo2L2Nu_TuneCP5_13TeV-powheg-pythia8/NANOAODSIM/106X_upgrade2018_realistic_v16_L1v1-v1/130000/10671CD1-1127-0842-AE7F-AF20DA985C45.root\"\n",
    "    ],\n",
    "    \"WZ_2L2Q_18\": [\n",
    "        redirector+\"/store/mc/RunIISummer20UL18NanoAODv9/WZTo2Q2L_mllmin4p0_TuneCP5_13TeV-amcatnloFXFX-pythia8/NANOAODSIM/106X_upgrade2018_realistic_v16_L1v1-v1/30000/AEFC36F1-A161-224D-B5F8-6FC8A64C6CD6.root\",\n",
    "        redirector+\"/store/mc/RunIISummer20UL18NanoAODv9/WZTo2Q2L_mllmin4p0_TuneCP5_13TeV-amcatnloFXFX-pythia8/NANOAODSIM/106X_upgrade2018_realistic_v16_L1v1-v1/80000/071B5530-E46B-324F-BC0A-EB039B421ECD.root\"\n",
    "    ],\n",
    "    \"WZ_3L1Nu_18\": [\n",
    "        redirector+\"/store/mc/RunIISummer20UL18NanoAODv9/WZTo3LNu_TuneCP5_13TeV-amcatnloFXFX-pythia8/NANOAODSIM/106X_upgrade2018_realistic_v16_L1v1-v2/2500000/2117CDEE-EE70-8F4A-8D0E-174A8F3F7CCA.root\",\n",
    "        redirector+\"/store/mc/RunIISummer20UL18NanoAODv9/WZTo3LNu_TuneCP5_13TeV-amcatnloFXFX-pythia8/NANOAODSIM/106X_upgrade2018_realistic_v16_L1v1-v2/2500000/27AFDC22-E023-7444-9C16-735B40275131.root\"\n",
    "    ],\n",
    "    \"ZZ_2L2Q_18\": [\n",
    "        redirector+\"/store/mc/RunIISummer20UL18NanoAODv9/ZZTo2Q2L_mllmin4p0_TuneCP5_13TeV-amcatnloFXFX-pythia8/NANOAODSIM/106X_upgrade2018_realistic_v16_L1v1-v1/2540000/A58AE71A-0273-8546-8FBD-3F729CAF6516.root\",\n",
    "        redirector+\"/store/mc/RunIISummer20UL18NanoAODv9/ZZTo2Q2L_mllmin4p0_TuneCP5_13TeV-amcatnloFXFX-pythia8/NANOAODSIM/106X_upgrade2018_realistic_v16_L1v1-v1/30000/164068D4-2101-A34C-BF4A-15AD715B04D4.root\"\n",
    "    ],\n",
    "    \"ZZ_4L_18\": [\n",
    "        redirector+\"/store/mc/RunIISummer20UL18NanoAODv9/ZZTo4L_TuneCP5_13TeV_powheg_pythia8/NANOAODSIM/106X_upgrade2018_realistic_v16_L1v1-v2/100000/6242D8A1-C702-B84C-BF5B-CB36A8B6C6D7.root\",\n",
    "        redirector+\"/store/mc/RunIISummer20UL18NanoAODv9/ZZTo4L_TuneCP5_13TeV_powheg_pythia8/NANOAODSIM/106X_upgrade2018_realistic_v16_L1v1-v2/110000/03F4D6CD-A6DF-AB4B-BC8A-442292B87ACF.root\"\n",
    "    ],\n",
    "    \"WW_2L2Nu_18\": [\n",
    "        redirector+\"/store/mc/RunIISummer20UL18NanoAODv9/WWTo2L2Nu_TuneCP5_13TeV-powheg-pythia8/NANOAODSIM/106X_upgrade2018_realistic_v16_L1v1-v2/100000/DDE0E00A-D9CE-004B-B973-9F4BE582BE78.root\",\n",
    "        redirector+\"/store/mc/RunIISummer20UL18NanoAODv9/WWTo2L2Nu_TuneCP5_13TeV-powheg-pythia8/NANOAODSIM/106X_upgrade2018_realistic_v16_L1v1-v2/120000/5C849601-1B81-204C-A4C1-4D7F708507FF.root\"\n",
    "    ],\n",
    "    \"WZ_1L1Nu2Q_18\": [\n",
    "        redirector+\"/store/mc/RunIISummer20UL18NanoAODv9/WZTo1L1Nu2Q_4f_TuneCP5_13TeV-amcatnloFXFX-pythia8/NANOAODSIM/106X_upgrade2018_realistic_v16_L1v1-v1/60000/2089373A-9AF8-DC46-9142-1DC3DC97D3AE.root\",\n",
    "        redirector+\"/store/mc/RunIISummer20UL18NanoAODv9/WZTo1L1Nu2Q_4f_TuneCP5_13TeV-amcatnloFXFX-pythia8/NANOAODSIM/106X_upgrade2018_realistic_v16_L1v1-v1/60000/5E47E4FC-3A70-064A-8938-1D9038FAD03D.root\"\n",
    "    ],\n",
    "    \"ZZ_2L2Nu_18\": [\n",
    "        redirector+\"/store/mc/RunIISummer20UL18NanoAODv9/ZZTo2L2Nu_TuneCP5_13TeV_powheg_pythia8/NANOAODSIM/106X_upgrade2018_realistic_v16_L1v1-v1/130000/0EA802F0-ACFA-2444-B77A-C3ED9061CE32.root\",\n",
    "        redirector+\"/store/mc/RunIISummer20UL18NanoAODv9/ZZTo2L2Nu_TuneCP5_13TeV_powheg_pythia8/NANOAODSIM/106X_upgrade2018_realistic_v16_L1v1-v1/130000/0F83174C-034B-254C-B335-0582C26CA0EF.root\"\n",
    "    ],\n",
    "    \"ZZ_2Q2Nu_18\": [\n",
    "        redirector+\"/store/mc/RunIISummer20UL18NanoAODv9/ZZTo2Q2Nu_TuneCP5_13TeV-amcatnloFXFX-pythia8/NANOAODSIM/106X_upgrade2018_realistic_v16_L1v1-v1/230000/22216217-0194-114A-8CD0-B069A89456D7.root\",\n",
    "        redirector+\"/store/mc/RunIISummer20UL18NanoAODv9/ZZTo2Q2Nu_TuneCP5_13TeV-amcatnloFXFX-pythia8/NANOAODSIM/106X_upgrade2018_realistic_v16_L1v1-v1/230000/3EA019A0-9430-AB45-BC47-CE79EF0267F6.root\"\n",
    "    ],\n",
    "    \"WJets_LNu_WPt_100To250_18\": [\n",
    "        redirector+\"/store/mc/RunIISummer20UL18NanoAODv9/WJetsToLNu_Pt-100To250_MatchEWPDG20_TuneCP5_13TeV-amcatnloFXFX-pythia8/NANOAODSIM/106X_upgrade2018_realistic_v16_L1v1-v1/100000/00448C1B-25DD-9840-9639-F9E0660C764A.root\",\n",
    "        redirector+\"/store/mc/RunIISummer20UL18NanoAODv9/WJetsToLNu_Pt-100To250_MatchEWPDG20_TuneCP5_13TeV-amcatnloFXFX-pythia8/NANOAODSIM/106X_upgrade2018_realistic_v16_L1v1-v1/100000/0061BFC8-C386-EB45-A5FE-45D7A9A699A9.root\"\n",
    "    ]\n",
    "}\n",
    "\n",
    "background_fileset5 = {\n",
    "    \"WJets_LNu_WPt_250To400_18\": [\n",
    "        redirector+\"/store/mc/RunIISummer20UL18NanoAODv9/WJetsToLNu_Pt-250To400_MatchEWPDG20_TuneCP5_13TeV-amcatnloFXFX-pythia8/NANOAODSIM/106X_upgrade2018_realistic_v16_L1v1-v1/130000/03236F17-AAB9-5A48-9679-D1DAF9CCAA90.root\",\n",
    "        redirector+\"/store/mc/RunIISummer20UL18NanoAODv9/WJetsToLNu_Pt-250To400_MatchEWPDG20_TuneCP5_13TeV-amcatnloFXFX-pythia8/NANOAODSIM/106X_upgrade2018_realistic_v16_L1v1-v1/130000/0F8F0363-7055-3949-833A-68968B2CBEE7.root\"\n",
    "    ],\n",
    "    \"WJets_LNu_WPt_400To600_18\": [\n",
    "        redirector+\"/store/mc/RunIISummer20UL18NanoAODv9/WJetsToLNu_Pt-400To600_MatchEWPDG20_TuneCP5_13TeV-amcatnloFXFX-pythia8/NANOAODSIM/106X_upgrade2018_realistic_v16_L1v1-v1/250000/002D75D6-1924-7B4B-AA94-361DB2FDFE50.root\",\n",
    "        redirector+\"/store/mc/RunIISummer20UL18NanoAODv9/WJetsToLNu_Pt-400To600_MatchEWPDG20_TuneCP5_13TeV-amcatnloFXFX-pythia8/NANOAODSIM/106X_upgrade2018_realistic_v16_L1v1-v1/250000/398C2A62-A9E5-594E-BD55-64D6360080A2.root\"\n",
    "    ],\n",
    "    \"WJets_LNu_WPt_600Toinf_18\": [\n",
    "        redirector+\"/store/mc/RunIISummer20UL18NanoAODv9/WJetsToLNu_Pt-600ToInf_MatchEWPDG20_TuneCP5_13TeV-amcatnloFXFX-pythia8/NANOAODSIM/106X_upgrade2018_realistic_v16_L1v1-v1/130000/14C0708C-9710-FB45-8A7B-E751D511B23E.root\",\n",
    "        redirector+\"/store/mc/RunIISummer20UL18NanoAODv9/WJetsToLNu_Pt-600ToInf_MatchEWPDG20_TuneCP5_13TeV-amcatnloFXFX-pythia8/NANOAODSIM/106X_upgrade2018_realistic_v16_L1v1-v1/130000/1C6DA670-DC97-2F44-9342-385758AC01AF.root\"\n",
    "    ]\n",
    "}"
   ]
  },
  {
   "cell_type": "code",
   "execution_count": 4,
   "id": "67368ce1-6c38-415c-9a8d-f0e7c4e7eae0",
   "metadata": {
    "tags": []
   },
   "outputs": [],
   "source": [
    "ELE_ISO_WP = 0.4 #from CMS AN -2019/229\n",
    "MU_ISO_WP = 0.4 #from CMS AN -2019/229\n",
    "BTAG_WP = 0.2 #baseline for now - slightly higher than highest \"loose\" WP in CMS AN -2019/229\n",
    "\n",
    "class TriggerThreshold(processor.ProcessorABC):\n",
    "\n",
    "    def __init__(self):\n",
    "        #Initialize Coffea processor\n",
    "        ak.behavior.update(nanoaod.behavior)\n",
    "\n",
    "        ### Accumulator for holding histograms and value counts\n",
    "        self._accumulator = {}\n",
    "\n",
    "    @property\n",
    "    def accumulator(self):\n",
    "        return self._accumulator\n",
    "\n",
    "    def process(self,events):\n",
    "        output = {}\n",
    "        output = processor.accumulate([output,self.process_shift(events)])\n",
    "\n",
    "        output[events.metadata[\"dataset\"]][\"EventCount\"] += 1\n",
    "\n",
    "        return output\n",
    "\n",
    "    def process_shift(self,events):\n",
    "\n",
    "        dataset = events.metadata[\"dataset\"]\n",
    "\n",
    "        output = {}\n",
    "        output[dataset] = {\n",
    "            \"EventCount\": processor.value_accumulator(int),\n",
    "            \"Test\": processor.value_accumulator(int)\n",
    "        }\n",
    "        \n",
    "        output[dataset][\"Test\"] += 1\n",
    "\n",
    "        return output\n",
    "\n",
    "    def postprocess(self,accumulator):\n",
    "        return accumulator"
   ]
  },
  {
   "cell_type": "markdown",
   "id": "7924f555-985d-47d4-8db4-29a46a9dcbc1",
   "metadata": {},
   "source": [
    "# Running\n",
    "\n",
    "Now that we set up the processor and the filesets, we run the local and distributed executors, which for me shows the local executor succeeding, and the distributed executor failing with an XRootD error.\n",
    "\n",
    "## Executor Creation\n",
    "The next two cells create the local and distributed executors, respectively"
   ]
  },
  {
   "cell_type": "code",
   "execution_count": 5,
   "id": "a5fc1e73-0bba-4156-b2ac-82a590bef44d",
   "metadata": {
    "tags": []
   },
   "outputs": [
    {
     "name": "stdout",
     "output_type": "stream",
     "text": [
      "Local executor created\n"
     ]
    }
   ],
   "source": [
    "Localexecutor = processor.IterativeExecutor(status=True)\n",
    "print(\"Local executor created\")"
   ]
  },
  {
   "cell_type": "code",
   "execution_count": 5,
   "id": "6b722d96-5452-4954-a285-95e2c003784e",
   "metadata": {
    "tags": []
   },
   "outputs": [
    {
     "name": "stdout",
     "output_type": "stream",
     "text": [
      "Transferring contents of /afs/hep.wisc.edu/user/rsimeon/examples to workers\n",
      "Condor logs, output files, error files in /scratch/rsimeon\n",
      "Distributed executor created\n"
     ]
    },
    {
     "data": {
      "text/html": [
       "<div>\n",
       "    <div style=\"width: 24px; height: 24px; background-color: #e1e1e1; border: 3px solid #9D9D9D; border-radius: 5px; position: absolute;\"> </div>\n",
       "    <div style=\"margin-left: 48px;\">\n",
       "        <h3 style=\"margin-bottom: 0px;\">Client</h3>\n",
       "        <p style=\"color: #9D9D9D; margin-bottom: 0px;\">Client-bf3bca9c-b4a5-11ee-b56e-3cecefda85c8</p>\n",
       "        <table style=\"width: 100%; text-align: left;\">\n",
       "\n",
       "        <tr>\n",
       "        \n",
       "            <td style=\"text-align: left;\"><strong>Connection method:</strong> Cluster object</td>\n",
       "            <td style=\"text-align: left;\"><strong>Cluster type:</strong> dask_jobqueue.HTCondorCluster</td>\n",
       "        \n",
       "        </tr>\n",
       "\n",
       "        \n",
       "            <tr>\n",
       "                <td style=\"text-align: left;\">\n",
       "                    <strong>Dashboard: </strong> <a href=\"proxy/8787/status\" target=\"_blank\">proxy/8787/status</a>\n",
       "                </td>\n",
       "                <td style=\"text-align: left;\"></td>\n",
       "            </tr>\n",
       "        \n",
       "\n",
       "        </table>\n",
       "\n",
       "        \n",
       "            <button style=\"margin-bottom: 12px;\" data-commandlinker-command=\"dask:populate-and-launch-layout\" data-commandlinker-args='{\"url\": \"proxy/8787/status\" }'>\n",
       "                Launch dashboard in JupyterLab\n",
       "            </button>\n",
       "        \n",
       "\n",
       "        \n",
       "            <details>\n",
       "            <summary style=\"margin-bottom: 20px;\"><h3 style=\"display: inline;\">Cluster Info</h3></summary>\n",
       "            <div class=\"jp-RenderedHTMLCommon jp-RenderedHTML jp-mod-trusted jp-OutputArea-output\">\n",
       "    <div style=\"width: 24px; height: 24px; background-color: #e1e1e1; border: 3px solid #9D9D9D; border-radius: 5px; position: absolute;\">\n",
       "    </div>\n",
       "    <div style=\"margin-left: 48px;\">\n",
       "        <h3 style=\"margin-bottom: 0px; margin-top: 0px;\">HTCondorCluster</h3>\n",
       "        <p style=\"color: #9D9D9D; margin-bottom: 0px;\">1f51fbd8</p>\n",
       "        <table style=\"width: 100%; text-align: left;\">\n",
       "            <tr>\n",
       "                <td style=\"text-align: left;\">\n",
       "                    <strong>Dashboard:</strong> <a href=\"proxy/8787/status\" target=\"_blank\">proxy/8787/status</a>\n",
       "                </td>\n",
       "                <td style=\"text-align: left;\">\n",
       "                    <strong>Workers:</strong> 0\n",
       "                </td>\n",
       "            </tr>\n",
       "            <tr>\n",
       "                <td style=\"text-align: left;\">\n",
       "                    <strong>Total threads:</strong> 0\n",
       "                </td>\n",
       "                <td style=\"text-align: left;\">\n",
       "                    <strong>Total memory:</strong> 0 B\n",
       "                </td>\n",
       "            </tr>\n",
       "            \n",
       "        </table>\n",
       "\n",
       "        <details>\n",
       "            <summary style=\"margin-bottom: 20px;\">\n",
       "                <h3 style=\"display: inline;\">Scheduler Info</h3>\n",
       "            </summary>\n",
       "\n",
       "            <div style=\"\">\n",
       "    <div>\n",
       "        <div style=\"width: 24px; height: 24px; background-color: #FFF7E5; border: 3px solid #FF6132; border-radius: 5px; position: absolute;\"> </div>\n",
       "        <div style=\"margin-left: 48px;\">\n",
       "            <h3 style=\"margin-bottom: 0px;\">Scheduler</h3>\n",
       "            <p style=\"color: #9D9D9D; margin-bottom: 0px;\">Scheduler-873c11ed-f952-4846-b92d-473f64016f4f</p>\n",
       "            <table style=\"width: 100%; text-align: left;\">\n",
       "                <tr>\n",
       "                    <td style=\"text-align: left;\">\n",
       "                        <strong>Comm:</strong> tcp://144.92.181.248:27843\n",
       "                    </td>\n",
       "                    <td style=\"text-align: left;\">\n",
       "                        <strong>Workers:</strong> 0\n",
       "                    </td>\n",
       "                </tr>\n",
       "                <tr>\n",
       "                    <td style=\"text-align: left;\">\n",
       "                        <strong>Dashboard:</strong> <a href=\"proxy/8787/status\" target=\"_blank\">proxy/8787/status</a>\n",
       "                    </td>\n",
       "                    <td style=\"text-align: left;\">\n",
       "                        <strong>Total threads:</strong> 0\n",
       "                    </td>\n",
       "                </tr>\n",
       "                <tr>\n",
       "                    <td style=\"text-align: left;\">\n",
       "                        <strong>Started:</strong> Just now\n",
       "                    </td>\n",
       "                    <td style=\"text-align: left;\">\n",
       "                        <strong>Total memory:</strong> 0 B\n",
       "                    </td>\n",
       "                </tr>\n",
       "            </table>\n",
       "        </div>\n",
       "    </div>\n",
       "\n",
       "    <details style=\"margin-left: 48px;\">\n",
       "        <summary style=\"margin-bottom: 20px;\">\n",
       "            <h3 style=\"display: inline;\">Workers</h3>\n",
       "        </summary>\n",
       "\n",
       "        \n",
       "\n",
       "    </details>\n",
       "</div>\n",
       "\n",
       "        </details>\n",
       "    </div>\n",
       "</div>\n",
       "            </details>\n",
       "        \n",
       "\n",
       "    </div>\n",
       "</div>"
      ],
      "text/plain": [
       "<Client: 'tcp://144.92.181.248:27843' processes=0 threads=0, memory=0 B>"
      ]
     },
     "execution_count": 5,
     "metadata": {},
     "output_type": "execute_result"
    }
   ],
   "source": [
    "os.environ[\"CONDOR_CONFIG\"] = \"/etc/condor/condor_config\"\n",
    "\n",
    "try:\n",
    "    _x509_localpath = (\n",
    "        [\n",
    "            line\n",
    "            for line in os.popen(\"voms-proxy-info\").read().split(\"\\n\")\n",
    "            if line.startswith(\"path\")\n",
    "        ][0]\n",
    "        .split(\":\")[-1]\n",
    "        .strip()\n",
    "    )\n",
    "except Exception as err:\n",
    "    raise RuntimeError(\n",
    "        \"x509 proxy could not be parsed, try creating it with 'voms-proxy-init'\"\n",
    "    ) from err\n",
    "_x509_path = f'/scratch/{os.environ[\"USER\"]}/{_x509_localpath.split(\"/\")[-1]}'\n",
    "os.system(f\"cp {_x509_localpath} {_x509_path}\")\n",
    "_x509_path = os.path.basename(_x509_localpath)\n",
    "\n",
    "#INPUT_FILES = os.path.join(os.getcwd(),'utils/helpers.py')\n",
    "PWD = os.getcwd()\n",
    "print(f'Transferring contents of {PWD} to workers')\n",
    "INITIAL_DIR = f'/scratch/{os.environ[\"USER\"]}'\n",
    "cluster = HTCondorCluster(\n",
    "    cores=1,\n",
    "    memory=\"2 GB\",\n",
    "    disk=\"1 GB\",\n",
    "    death_timeout = '60',\n",
    "    #python=\"/usr/local/bin/python3.8\",\n",
    "    job_extra_directives={\n",
    "        \"+JobFlavour\": '\"tomorrow\"',\n",
    "        \"log\": \"dask_job_output.$(PROCESS).$(CLUSTER).log\",\n",
    "        \"output\": \"dask_job_output.$(PROCESS).$(CLUSTER).out\",\n",
    "        \"error\": \"dask_job_output.$(PROCESS).$(CLUSTER).err\",\n",
    "        \"should_transfer_files\": \"yes\",\n",
    "        \"when_to_transfer_output\": \"ON_EXIT_OR_EVICT\",\n",
    "        \"+SingularityImage\": '\"/cvmfs/unpacked.cern.ch/registry.hub.docker.com/coffeateam/coffea-dask:0.7.22-py3.10-g7cbcc\"',\n",
    "        #\"+SingularityImage\": '\"/cvmfs/unpacked.cern.ch/registry.hub.docker.com/coffeateam/coffea-dask:0.7.21-fastjet-3.4.0.1-g6238ea8\"',\n",
    "        #\"+SingularityImage\": '\"/cvmfs/unpacked.cern.ch/registry.hub.docker.com/coffeateam/coffea-dask-cc7:0.7.21-fastjet-3.4.0.1-ge327427\"',\n",
    "        #\"+SingularityImage\": '\"/cvmfs/unpacked.cern.ch/registry.hub.docker.com/coffeateam/coffea-dask:0.7.21-fastjet-3.4.0.1-gc3d707c\"',\n",
    "        \"Requirements\": \"HasSingularityJobStart\",\n",
    "        #\"request_GPUs\" : \"1\",\n",
    "        \"InitialDir\": INITIAL_DIR,\n",
    "        \"transfer_input_files\": f'{_x509_path}'\n",
    "        #\"transfer_input_files\": f'{_x509_path},{INPUT_FILES}'\n",
    "        #\"transfer_input_files\": f'{_x509_path},{os.getcwd()}'\n",
    "    },\n",
    "    job_script_prologue=[\n",
    "        \"export XRD_RUNFORKHANDLER=1\",\n",
    "        f\"export X509_USER_PROXY={_x509_path}\",\n",
    "    ]\n",
    ")\n",
    "print('Condor logs, output files, error files in {}'.format(INITIAL_DIR))\n",
    "cluster.adapt(minimum=1, maximum=MAX_WORKERS)\n",
    "client = Client(cluster)\n",
    "Distexecutor = processor.DaskExecutor(client=client, status=True)\n",
    "print(\"Distributed executor created\")\n",
    "\n",
    "client"
   ]
  },
  {
   "cell_type": "markdown",
   "id": "74e0d77b-58ca-45db-ba07-a1a61dac02ef",
   "metadata": {},
   "source": [
    "## Runners\n",
    "\n",
    "These two cells create the local runner (using the local executor) and the distributed runner."
   ]
  },
  {
   "cell_type": "code",
   "execution_count": 10,
   "id": "d5523bf3-a35b-4b68-be1c-31610b87b4e6",
   "metadata": {
    "tags": []
   },
   "outputs": [
    {
     "name": "stdout",
     "output_type": "stream",
     "text": [
      "Creating local runner\n",
      "Using chunksize: 5000 and maxchunks None\n"
     ]
    }
   ],
   "source": [
    "print(\"Creating local runner\")\n",
    "print(\"Using chunksize: {} and maxchunks {}\".format(CHUNKSIZE,MAX_CHUNKS))\n",
    "Localrunner = processor.Runner(\n",
    "    executor=Localexecutor,\n",
    "    schema=NanoAODSchema,\n",
    "    chunksize=CHUNKSIZE,\n",
    "    maxchunks=MAX_CHUNKS,\n",
    "    skipbadfiles=True,\n",
    "    xrootdtimeout=300,\n",
    ")"
   ]
  },
  {
   "cell_type": "code",
   "execution_count": 6,
   "id": "9a8c9351-b551-4e1d-8116-47ee7d33c88f",
   "metadata": {
    "tags": []
   },
   "outputs": [
    {
     "name": "stdout",
     "output_type": "stream",
     "text": [
      "Creating distributed runner\n",
      "Using chunksize: 5000 and maxchunks None\n"
     ]
    }
   ],
   "source": [
    "print(\"Creating distributed runner\")\n",
    "print(\"Using chunksize: {} and maxchunks {}\".format(CHUNKSIZE,MAX_CHUNKS))\n",
    "Distrunner = processor.Runner(\n",
    "    executor=Distexecutor,\n",
    "    schema=NanoAODSchema,\n",
    "    chunksize=CHUNKSIZE,\n",
    "    maxchunks=MAX_CHUNKS,\n",
    "    skipbadfiles=True,\n",
    "    xrootdtimeout=300,\n",
    ")"
   ]
  },
  {
   "cell_type": "markdown",
   "id": "871fe007-1e17-4aa0-9286-9abb8f6759e9",
   "metadata": {},
   "source": [
    "## Running the Runners\n",
    "\n",
    "The next cell calls the local runner. It can take ~15 minutes to run, but it does succeed. The cell after that calls the distributed runner. It typically fails in under 10 minutes."
   ]
  },
  {
   "cell_type": "code",
   "execution_count": 12,
   "id": "84bf82b8-cc93-4a4d-85a5-bc5116bdf381",
   "metadata": {
    "tags": []
   },
   "outputs": [
    {
     "data": {
      "application/vnd.jupyter.widget-view+json": {
       "model_id": "42599a02c1c844cfb2fffb6eb72d9fd5",
       "version_major": 2,
       "version_minor": 0
      },
      "text/plain": [
       "Output()"
      ]
     },
     "metadata": {},
     "output_type": "display_data"
    },
    {
     "name": "stdout",
     "output_type": "stream",
     "text": [
      "Calling runner\n"
     ]
    },
    {
     "data": {
      "text/html": [
       "<pre style=\"white-space:pre;overflow-x:auto;line-height:normal;font-family:Menlo,'DejaVu Sans Mono',consolas,'Courier New',monospace\"></pre>\n"
      ],
      "text/plain": []
     },
     "metadata": {},
     "output_type": "display_data"
    },
    {
     "data": {
      "text/html": [
       "<pre style=\"white-space:pre;overflow-x:auto;line-height:normal;font-family:Menlo,'DejaVu Sans Mono',consolas,'Courier New',monospace\">\n",
       "</pre>\n"
      ],
      "text/plain": [
       "\n"
      ]
     },
     "metadata": {},
     "output_type": "display_data"
    },
    {
     "data": {
      "application/vnd.jupyter.widget-view+json": {
       "model_id": "1ace813c7a4e4202aea4b7158ab3ccdd",
       "version_major": 2,
       "version_minor": 0
      },
      "text/plain": [
       "Output()"
      ]
     },
     "metadata": {},
     "output_type": "display_data"
    },
    {
     "data": {
      "text/html": [
       "<pre style=\"white-space:pre;overflow-x:auto;line-height:normal;font-family:Menlo,'DejaVu Sans Mono',consolas,'Courier New',monospace\"></pre>\n"
      ],
      "text/plain": []
     },
     "metadata": {},
     "output_type": "display_data"
    },
    {
     "data": {
      "text/html": [
       "<pre style=\"white-space:pre;overflow-x:auto;line-height:normal;font-family:Menlo,'DejaVu Sans Mono',consolas,'Courier New',monospace\">\n",
       "</pre>\n"
      ],
      "text/plain": [
       "\n"
      ]
     },
     "metadata": {},
     "output_type": "display_data"
    }
   ],
   "source": [
    "print(\"Calling runner\")\n",
    "local_results = Localrunner(\n",
    "    background_fileset2,\n",
    "    treename=\"Events\",\n",
    "    processor_instance=TriggerThreshold(),\n",
    ")"
   ]
  },
  {
   "cell_type": "code",
   "execution_count": 7,
   "id": "e4bd240a-5dfa-4411-847b-819e21757200",
   "metadata": {
    "tags": []
   },
   "outputs": [
    {
     "name": "stdout",
     "output_type": "stream",
     "text": [
      "Calling runner\n",
      "[                                        ] | 0% Completed |  0.0sin 28.8s\u001b[2K\u001b[2K\r"
     ]
    },
    {
     "ename": "AttributeError",
     "evalue": "Can't get attribute '_function_setstate' on <module 'cloudpickle.cloudpickle' from '/opt/conda/lib/python3.8/site-packages/cloudpickle/cloudpickle.py'>",
     "output_type": "error",
     "traceback": [
      "\u001b[0;31m---------------------------------------------------------------------------\u001b[0m",
      "\u001b[0;31mAttributeError\u001b[0m                            Traceback (most recent call last)",
      "Cell \u001b[0;32mIn[7], line 2\u001b[0m\n\u001b[1;32m      1\u001b[0m \u001b[38;5;28mprint\u001b[39m(\u001b[38;5;124m\"\u001b[39m\u001b[38;5;124mCalling runner\u001b[39m\u001b[38;5;124m\"\u001b[39m)\n\u001b[0;32m----> 2\u001b[0m dist_results \u001b[38;5;241m=\u001b[39m \u001b[43mDistrunner\u001b[49m\u001b[43m(\u001b[49m\n\u001b[1;32m      3\u001b[0m \u001b[43m    \u001b[49m\u001b[43mbackground_fileset2\u001b[49m\u001b[43m,\u001b[49m\n\u001b[1;32m      4\u001b[0m \u001b[43m    \u001b[49m\u001b[43mtreename\u001b[49m\u001b[38;5;241;43m=\u001b[39;49m\u001b[38;5;124;43m\"\u001b[39;49m\u001b[38;5;124;43mEvents\u001b[39;49m\u001b[38;5;124;43m\"\u001b[39;49m\u001b[43m,\u001b[49m\n\u001b[1;32m      5\u001b[0m \u001b[43m    \u001b[49m\u001b[43mprocessor_instance\u001b[49m\u001b[38;5;241;43m=\u001b[39;49m\u001b[43mTriggerThreshold\u001b[49m\u001b[43m(\u001b[49m\u001b[43m)\u001b[49m\u001b[43m,\u001b[49m\n\u001b[1;32m      6\u001b[0m \u001b[43m)\u001b[49m\n",
      "File \u001b[0;32m/opt/conda/lib/python3.10/site-packages/coffea/processor/executor.py:1700\u001b[0m, in \u001b[0;36mRunner.__call__\u001b[0;34m(self, fileset, treename, processor_instance)\u001b[0m\n\u001b[1;32m   1679\u001b[0m \u001b[38;5;28;01mdef\u001b[39;00m \u001b[38;5;21m__call__\u001b[39m(\n\u001b[1;32m   1680\u001b[0m     \u001b[38;5;28mself\u001b[39m,\n\u001b[1;32m   1681\u001b[0m     fileset: Dict,\n\u001b[1;32m   1682\u001b[0m     treename: \u001b[38;5;28mstr\u001b[39m,\n\u001b[1;32m   1683\u001b[0m     processor_instance: ProcessorABC,\n\u001b[1;32m   1684\u001b[0m ) \u001b[38;5;241m-\u001b[39m\u001b[38;5;241m>\u001b[39m Accumulatable:\n\u001b[1;32m   1685\u001b[0m \u001b[38;5;250m    \u001b[39m\u001b[38;5;124;03m\"\"\"Run the processor_instance on a given fileset\u001b[39;00m\n\u001b[1;32m   1686\u001b[0m \n\u001b[1;32m   1687\u001b[0m \u001b[38;5;124;03m    Parameters\u001b[39;00m\n\u001b[0;32m   (...)\u001b[0m\n\u001b[1;32m   1697\u001b[0m \u001b[38;5;124;03m            An instance of a class deriving from ProcessorABC\u001b[39;00m\n\u001b[1;32m   1698\u001b[0m \u001b[38;5;124;03m    \"\"\"\u001b[39;00m\n\u001b[0;32m-> 1700\u001b[0m     wrapped_out \u001b[38;5;241m=\u001b[39m \u001b[38;5;28;43mself\u001b[39;49m\u001b[38;5;241;43m.\u001b[39;49m\u001b[43mrun\u001b[49m\u001b[43m(\u001b[49m\u001b[43mfileset\u001b[49m\u001b[43m,\u001b[49m\u001b[43m \u001b[49m\u001b[43mprocessor_instance\u001b[49m\u001b[43m,\u001b[49m\u001b[43m \u001b[49m\u001b[43mtreename\u001b[49m\u001b[43m)\u001b[49m\n\u001b[1;32m   1701\u001b[0m     \u001b[38;5;28;01mif\u001b[39;00m \u001b[38;5;28mself\u001b[39m\u001b[38;5;241m.\u001b[39muse_dataframes:\n\u001b[1;32m   1702\u001b[0m         \u001b[38;5;28;01mreturn\u001b[39;00m wrapped_out  \u001b[38;5;66;03m# not wrapped anymore\u001b[39;00m\n",
      "File \u001b[0;32m/opt/conda/lib/python3.10/site-packages/coffea/processor/executor.py:1848\u001b[0m, in \u001b[0;36mRunner.run\u001b[0;34m(self, fileset, processor_instance, treename)\u001b[0m\n\u001b[1;32m   1843\u001b[0m closure \u001b[38;5;241m=\u001b[39m partial(\n\u001b[1;32m   1844\u001b[0m     \u001b[38;5;28mself\u001b[39m\u001b[38;5;241m.\u001b[39mautomatic_retries, \u001b[38;5;28mself\u001b[39m\u001b[38;5;241m.\u001b[39mretries, \u001b[38;5;28mself\u001b[39m\u001b[38;5;241m.\u001b[39mskipbadfiles, closure\n\u001b[1;32m   1845\u001b[0m )\n\u001b[1;32m   1847\u001b[0m executor \u001b[38;5;241m=\u001b[39m \u001b[38;5;28mself\u001b[39m\u001b[38;5;241m.\u001b[39mexecutor\u001b[38;5;241m.\u001b[39mcopy(\u001b[38;5;241m*\u001b[39m\u001b[38;5;241m*\u001b[39mexe_args)\n\u001b[0;32m-> 1848\u001b[0m wrapped_out, e \u001b[38;5;241m=\u001b[39m \u001b[43mexecutor\u001b[49m\u001b[43m(\u001b[49m\u001b[43mchunks\u001b[49m\u001b[43m,\u001b[49m\u001b[43m \u001b[49m\u001b[43mclosure\u001b[49m\u001b[43m,\u001b[49m\u001b[43m \u001b[49m\u001b[38;5;28;43;01mNone\u001b[39;49;00m\u001b[43m)\u001b[49m\n\u001b[1;32m   1849\u001b[0m \u001b[38;5;28;01mif\u001b[39;00m wrapped_out \u001b[38;5;129;01mis\u001b[39;00m \u001b[38;5;28;01mNone\u001b[39;00m:\n\u001b[1;32m   1850\u001b[0m     \u001b[38;5;28;01mraise\u001b[39;00m \u001b[38;5;167;01mValueError\u001b[39;00m(\n\u001b[1;32m   1851\u001b[0m         \u001b[38;5;124m\"\u001b[39m\u001b[38;5;124mNo chunks returned results, verify ``processor`` instance structure.\u001b[39m\u001b[38;5;130;01m\\n\u001b[39;00m\u001b[38;5;130;01m\\\u001b[39;00m\n\u001b[1;32m   1852\u001b[0m \u001b[38;5;124m        if you used skipbadfiles=True, it is possible all your files are bad.\u001b[39m\u001b[38;5;124m\"\u001b[39m\n\u001b[1;32m   1853\u001b[0m     )\n",
      "File \u001b[0;32m/opt/conda/lib/python3.10/site-packages/coffea/processor/executor.py:974\u001b[0m, in \u001b[0;36mDaskExecutor.__call__\u001b[0;34m(self, items, function, accumulator)\u001b[0m\n\u001b[1;32m    967\u001b[0m         \u001b[38;5;66;03m# FIXME: fancy widget doesn't appear, have to live with boring pbar\u001b[39;00m\n\u001b[1;32m    968\u001b[0m         progress(work, multi\u001b[38;5;241m=\u001b[39m\u001b[38;5;28;01mTrue\u001b[39;00m, notebook\u001b[38;5;241m=\u001b[39m\u001b[38;5;28;01mFalse\u001b[39;00m)\n\u001b[1;32m    969\u001b[0m     \u001b[38;5;28;01mreturn\u001b[39;00m (\n\u001b[1;32m    970\u001b[0m         accumulate(\n\u001b[1;32m    971\u001b[0m             [\n\u001b[1;32m    972\u001b[0m                 work\u001b[38;5;241m.\u001b[39mresult()\n\u001b[1;32m    973\u001b[0m                 \u001b[38;5;28;01mif\u001b[39;00m \u001b[38;5;28mself\u001b[39m\u001b[38;5;241m.\u001b[39mcompression \u001b[38;5;129;01mis\u001b[39;00m \u001b[38;5;28;01mNone\u001b[39;00m\n\u001b[0;32m--> 974\u001b[0m                 \u001b[38;5;28;01melse\u001b[39;00m _decompress(\u001b[43mwork\u001b[49m\u001b[38;5;241;43m.\u001b[39;49m\u001b[43mresult\u001b[49m\u001b[43m(\u001b[49m\u001b[43m)\u001b[49m)\n\u001b[1;32m    975\u001b[0m             ],\n\u001b[1;32m    976\u001b[0m             accumulator,\n\u001b[1;32m    977\u001b[0m         ),\n\u001b[1;32m    978\u001b[0m         \u001b[38;5;241m0\u001b[39m,\n\u001b[1;32m    979\u001b[0m     )\n\u001b[1;32m    980\u001b[0m \u001b[38;5;28;01mexcept\u001b[39;00m KilledWorker \u001b[38;5;28;01mas\u001b[39;00m ex:\n\u001b[1;32m    981\u001b[0m     baditem \u001b[38;5;241m=\u001b[39m key_to_item[ex\u001b[38;5;241m.\u001b[39mtask]\n",
      "File \u001b[0;32m/opt/conda/lib/python3.10/site-packages/distributed/client.py:287\u001b[0m, in \u001b[0;36mFuture.result\u001b[0;34m(self, timeout)\u001b[0m\n\u001b[1;32m    285\u001b[0m \u001b[38;5;28;01mif\u001b[39;00m \u001b[38;5;28mself\u001b[39m\u001b[38;5;241m.\u001b[39mstatus \u001b[38;5;241m==\u001b[39m \u001b[38;5;124m\"\u001b[39m\u001b[38;5;124merror\u001b[39m\u001b[38;5;124m\"\u001b[39m:\n\u001b[1;32m    286\u001b[0m     typ, exc, tb \u001b[38;5;241m=\u001b[39m result\n\u001b[0;32m--> 287\u001b[0m     \u001b[38;5;28;01mraise\u001b[39;00m exc\u001b[38;5;241m.\u001b[39mwith_traceback(tb)\n\u001b[1;32m    288\u001b[0m \u001b[38;5;28;01melif\u001b[39;00m \u001b[38;5;28mself\u001b[39m\u001b[38;5;241m.\u001b[39mstatus \u001b[38;5;241m==\u001b[39m \u001b[38;5;124m\"\u001b[39m\u001b[38;5;124mcancelled\u001b[39m\u001b[38;5;124m\"\u001b[39m:\n\u001b[1;32m    289\u001b[0m     \u001b[38;5;28;01mraise\u001b[39;00m result\n",
      "File \u001b[0;32m/opt/conda/lib/python3.8/site-packages/distributed/protocol/pickle.py:96\u001b[0m, in \u001b[0;36mloads\u001b[0;34m()\u001b[0m\n",
      "\u001b[0;31mAttributeError\u001b[0m: Can't get attribute '_function_setstate' on <module 'cloudpickle.cloudpickle' from '/opt/conda/lib/python3.8/site-packages/cloudpickle/cloudpickle.py'>"
     ]
    }
   ],
   "source": [
    "print(\"Calling runner\")\n",
    "dist_results = Distrunner(\n",
    "    background_fileset2,\n",
    "    treename=\"Events\",\n",
    "    processor_instance=TriggerThreshold(),\n",
    ")"
   ]
  },
  {
   "cell_type": "markdown",
   "id": "7787f3c4-0dbd-4f94-9bfe-e337254720db",
   "metadata": {},
   "source": [
    "# Simple File Read\n",
    "\n",
    "The local runner working shows that the error-raising file is actually readable. To back this up, the next cell does a bare-bones uproot read of the file. In fact, we can use Dask distributed workers to read the file successfully, and we can read the individual file with Coffea's NanoEventsFacotyr. It's only in the Coffea runner framework when trying to execute a processor that it seems to fail."
   ]
  },
  {
   "cell_type": "code",
   "execution_count": 5,
   "id": "50b7df94-0db1-423f-a071-d35e8a1f097d",
   "metadata": {
    "tags": []
   },
   "outputs": [
    {
     "name": "stdout",
     "output_type": "stream",
     "text": [
      "['tag;1', 'Events;1', 'LuminosityBlocks;1', 'Runs;1', 'MetaData;1', 'ParameterSets;1']\n",
      "<class 'uproot.models.TTree.Model_TTree_v20'>\n"
     ]
    }
   ],
   "source": [
    "import uproot\n",
    "file = \"root://cmsxrootd.fnal.gov///store/mc/RunIISummer20UL18NanoAODv9/DYJetsToLL_M-50_HT-70to100_TuneCP5_PSweights_13TeV-madgraphMLM-pythia8/NANOAODSIM/106X_upgrade2018_realistic_v16_L1v1-v1/270000/158E3EB5-BC86-5D4A-8FF5-9A56D48DF51F.root\"\n",
    "with uproot.open({file: None}) as f:\n",
    "    print(f.keys())\n",
    "    print(type(f['Events;1']))"
   ]
  },
  {
   "cell_type": "code",
   "execution_count": 6,
   "id": "8205e987-5689-4db4-84b2-666eac206fbb",
   "metadata": {
    "tags": []
   },
   "outputs": [
    {
     "name": "stdout",
     "output_type": "stream",
     "text": [
      "0\n",
      "['tag;1', 'Events;1', 'LuminosityBlocks;1', 'Runs;1', 'MetaData;1', 'ParameterSets;1']\n",
      "5\n",
      "['tag;1', 'Events;1', 'LuminosityBlocks;1', 'Runs;1', 'MetaData;1', 'ParameterSets;1']\n",
      "10\n",
      "['tag;1', 'Events;1', 'LuminosityBlocks;1', 'Runs;1', 'MetaData;1', 'ParameterSets;1']\n",
      "15\n",
      "['tag;1', 'Events;1', 'LuminosityBlocks;1', 'Runs;1', 'MetaData;1', 'ParameterSets;1']\n"
     ]
    }
   ],
   "source": [
    "with uproot.open(file) as f:\n",
    "    for future in client.map(lambda x: x * 5, range(4)):\n",
    "        print(future.result())\n",
    "        print(f.keys())"
   ]
  },
  {
   "cell_type": "code",
   "execution_count": 10,
   "id": "5384625c-c19e-48c1-8c71-f0009b3e7771",
   "metadata": {
    "tags": []
   },
   "outputs": [
    {
     "name": "stdout",
     "output_type": "stream",
     "text": [
      "1720969\n"
     ]
    }
   ],
   "source": [
    "events = NanoEventsFactory.from_root(\n",
    "    file,\n",
    "    schemaclass=NanoAODSchema.v6,\n",
    ").events()\n",
    "print(len(events))"
   ]
  },
  {
   "cell_type": "code",
   "execution_count": 13,
   "id": "e78b728e-c518-4f21-a1ff-6cc4355edac2",
   "metadata": {
    "tags": []
   },
   "outputs": [
    {
     "name": "stdout",
     "output_type": "stream",
     "text": [
      "1720969\n",
      "1720969\n",
      "1720969\n",
      "1720969\n"
     ]
    }
   ],
   "source": [
    "for future in client.map(lambda x: x * 5, range(4)):\n",
    "    events = NanoEventsFactory.from_root(\n",
    "        file,\n",
    "        schemaclass=NanoAODSchema.v6,\n",
    "    ).events()\n",
    "    print(len(events))"
   ]
  },
  {
   "cell_type": "code",
   "execution_count": 10,
   "id": "c2d16f26-61f3-4b36-a61d-7108ef88ec0f",
   "metadata": {
    "tags": []
   },
   "outputs": [],
   "source": [
    "client.shutdown()"
   ]
  },
  {
   "cell_type": "code",
   "execution_count": null,
   "id": "e38148c6-df86-477b-bda1-59b509b37b9b",
   "metadata": {},
   "outputs": [],
   "source": []
  }
 ],
 "metadata": {
  "kernelspec": {
   "display_name": "Python 3 (ipykernel)",
   "language": "python",
   "name": "python3"
  },
  "language_info": {
   "codemirror_mode": {
    "name": "ipython",
    "version": 3
   },
   "file_extension": ".py",
   "mimetype": "text/x-python",
   "name": "python",
   "nbconvert_exporter": "python",
   "pygments_lexer": "ipython3",
   "version": "3.10.8"
  }
 },
 "nbformat": 4,
 "nbformat_minor": 5
}
