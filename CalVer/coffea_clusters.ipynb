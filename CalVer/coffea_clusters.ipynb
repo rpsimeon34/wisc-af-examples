{
 "cells": [
  {
   "cell_type": "markdown",
   "id": "5d25372d-bee7-4bfa-b8f8-e725bf6654ca",
   "metadata": {},
   "source": [
    "# Distributed Coffea Jobs at UW Analysis Facility\n",
    "\n",
    "This notebook demonstrates how one can run a full coffea analysis with Condor jobs on the Analysis Facility's cluster. As with the other notebooks, you should have already run your `voms-proxy-init` command in a terminal window before running anything here, as this example does access files remotely with XRootD.\n",
    "\n",
    "As of February 2025, this notebook can also be used as a template for many coffea version >= v2023 analyses. This template should at least get an analysis up and running with some tweaks."
   ]
  },
  {
   "cell_type": "code",
   "execution_count": 1,
   "id": "f1ce613c-4f5f-48ef-9bc1-9bcfc410fdab",
   "metadata": {
    "tags": []
   },
   "outputs": [
    {
     "name": "stderr",
     "output_type": "stream",
     "text": [
      "/usr/local/lib/python3.11/site-packages/coffea/nanoevents/schemas/fcc.py:5: FutureWarning: In version 2025.1.0 (target date: 2024-12-31 11:59:59-06:00), this will be an error.\n",
      "To raise these warnings as errors (and get stack traces to find out where they're called), run\n",
      "    import warnings\n",
      "    warnings.filterwarnings(\"error\", module=\"coffea.*\")\n",
      "after the first `import coffea` or use `@pytest.mark.filterwarnings(\"error:::coffea.*\")` in pytest.\n",
      "Issue: coffea.nanoevents.methods.vector will be removed and replaced with scikit-hep vector. Nanoevents schemas internal to coffea will be migrated. Otherwise please consider using that package!.\n",
      "  from coffea.nanoevents.methods import vector\n"
     ]
    },
    {
     "name": "stdout",
     "output_type": "stream",
     "text": [
      "Using cowtools!\n"
     ]
    }
   ],
   "source": [
    "from dask.distributed import Client\n",
    "import os\n",
    "from dask_jobqueue import HTCondorCluster\n",
    "from dask.diagnostics import ProgressBar\n",
    "import dask\n",
    "import awkward as ak\n",
    "from hist import Hist, axis\n",
    "import hist.dask as hda\n",
    "from coffea.analysis_tools import PackedSelection\n",
    "from coffea.dataset_tools import preprocess, apply_to_fileset\n",
    "\n",
    "#If the environment has cowtools installed, use that to build the client later\n",
    "try:\n",
    "    import cowtools\n",
    "    HAS_COWTOOLS = True\n",
    "except ModuleNotFoundError:\n",
    "    HAS_COWTOOLS = False\n",
    "\n",
    "if HAS_COWTOOLS:\n",
    "    print(\"Using cowtools!\")\n",
    "else:\n",
    "    print(\"Not using cowtools!\")"
   ]
  },
  {
   "cell_type": "markdown",
   "id": "5d9d504c-bb3f-4313-a26e-fd3804dc10d9",
   "metadata": {},
   "source": [
    "We'll configure some settings here to be used later. For this example, it's only one: `MAX_WORKERS`.\n",
    "\n",
    "`MAX_WORKERS`: The maximum number of Condor workers to try and use at a time."
   ]
  },
  {
   "cell_type": "code",
   "execution_count": 2,
   "id": "80870c47-a87b-4db5-a290-9faf0a4c7815",
   "metadata": {
    "tags": []
   },
   "outputs": [],
   "source": [
    "MAX_WORKERS = 5"
   ]
  },
  {
   "cell_type": "markdown",
   "id": "1ff142ae-b3f2-460e-9ede-efa1d5485d25",
   "metadata": {},
   "source": [
    "Broadly speaking, we want to apply some function, say `ExampleAnalyzer`, to a number of events stored across multiple files. We'll do this with `coffea.dataset_tools.apply_to_fileset`.\n",
    "\n",
    "In order to give our files to `apply_to_fileset`, we need to preprocess them. We do that here with `coffea.dataset_tools.preprocess`. Our input to `preprocess` should be a dictionary, mapping dataset names to dictionaries. Those map at least the string 'files' to dictionaries. Those map file paths to tree names (usually 'Events').\n",
    "\n",
    "Utilities exist to assemble these input filesets for you, if you are using CMS data. See [dataset discovery tools](https://coffea-hep.readthedocs.io/en/latest/notebooks/dataset_discovery.html). We will not use that tool here."
   ]
  },
  {
   "cell_type": "code",
   "execution_count": 3,
   "id": "c13186bd-cc62-4a65-9465-43d28c338c4a",
   "metadata": {
    "tags": []
   },
   "outputs": [],
   "source": [
    "redirector = \"root://cmsxrootd.fnal.gov//\"\n",
    "\n",
    "fileset = {\n",
    "    \"ggZH_HToBB_ZToLL\": {\"files\": {\n",
    "        redirector+\"/store/mc/RunIISummer20UL18NanoAODv9/ggZH_HToBB_ZToLL_M-125_TuneCP5_13TeV-powheg-pythia8/NANOAODSIM/106X_upgrade2018_realistic_v16_L1v1-v1/2520000/1412A75E-6CBA-5142-914D-2FE8356F680C.root\": \"Events\",\n",
    "        redirector+\"/store/mc/RunIISummer20UL18NanoAODv9/ggZH_HToBB_ZToLL_M-125_TuneCP5_13TeV-powheg-pythia8/NANOAODSIM/106X_upgrade2018_realistic_v16_L1v1-v1/2520000/7D3C5290-C72C-B140-9233-D7DA01D4B183.root\": \"Events\"\n",
    "    }},\n",
    "    \"ZH_HToBB_ZToLL\": {\"files\": {\n",
    "        redirector+\"/store/mc/RunIISummer20UL18NanoAODv9/ZH_HToBB_ZToLL_M-125_TuneCP5_13TeV-powheg-pythia8/NANOAODSIM/106X_upgrade2018_realistic_v16_L1v1-v1/2520000/56097D21-719D-564E-8E4A-C65214F252F9.root\": \"Events\",\n",
    "        redirector+\"/store/mc/RunIISummer20UL18NanoAODv9/ZH_HToBB_ZToLL_M-125_TuneCP5_13TeV-powheg-pythia8/NANOAODSIM/106X_upgrade2018_realistic_v16_L1v1-v1/2820000/FE6AF237-7A43-C640-A0C0-672C18B80526.root\": \"Events\"\n",
    "    }}\n",
    "}"
   ]
  },
  {
   "cell_type": "markdown",
   "id": "4fb47c9c-de93-4c8f-8138-6543637ea3fe",
   "metadata": {},
   "source": [
    "Now, we write our function. The function must take in only one argument, which will be the trees taken from the above root files (eg: the `events` objects we encountered in the earlier notebooks). It should return something that can be accumulated across chunks of files, for example sums, histograms, and data structures composed thereof. In our example, the function returns a dictionary that maps labels to numbers or histograms.\n",
    "\n",
    "When `apply_to_fileset` takes this function, it will split our files up into \"chunks\" of events, run the function on each chunk, and then sum the results across the chunks. Here, that will add up `EventCount`, `Test`, `OtherTest`, and the histogram `MyHist`."
   ]
  },
  {
   "cell_type": "code",
   "execution_count": 4,
   "id": "67368ce1-6c38-415c-9a8d-f0e7c4e7eae0",
   "metadata": {
    "tags": []
   },
   "outputs": [],
   "source": [
    "def ExampleAnalyzer(events):\n",
    "    '''\n",
    "    An example function that counts the events in files, adds one for each chunk processed, and fills a histogram with arbitrarily chosen data.\n",
    "\n",
    "    Input:\n",
    "        events: (Array) An array of data\n",
    "    '''\n",
    "    myAxis = axis.Regular(10,-0.5,9.5,name='data',label='example data')\n",
    "\n",
    "    output = {}\n",
    "    output = {\n",
    "        \"EventCount\": 0,\n",
    "        \"Test\": 0,\n",
    "        \"OtherTest\": 0,\n",
    "        \"MyHist\": hda.Hist(myAxis) #Create a dask.hist.Hist instead of regular Hist, since our function will run in delayed mode\n",
    "    }\n",
    "\n",
    "    #Do some physics here (make cuts, select objects, calculate masses, etc.)\n",
    "    \n",
    "    #Fill in output\n",
    "    output[\"Test\"] += ak.sum(ak.ones_like(events.Electron.pt))\n",
    "    output[\"OtherTest\"] += ak.prod(ak.where(events.Electron.charge < 0, 5, -2))\n",
    "    output[\"EventCount\"] += ak.num(events,axis=0)\n",
    "    output[\"MyHist\"].fill(ak.num(events.Jet)) #Histogram the number of jets in each event\n",
    "\n",
    "    return output"
   ]
  },
  {
   "cell_type": "markdown",
   "id": "45dd2865-de95-4162-bd68-80919468b4df",
   "metadata": {},
   "source": [
    "Now, we want to preprocess our files and feed that preprocessed fileset to our function. We'll do this locally first, and then we'll scale up to using a cluster.\n",
    "\n",
    "## Running Locally"
   ]
  },
  {
   "cell_type": "code",
   "execution_count": 5,
   "id": "3522a37a-821c-48d3-bd3d-53c7427f41ba",
   "metadata": {},
   "outputs": [
    {
     "name": "stderr",
     "output_type": "stream",
     "text": [
      "/usr/local/lib/python3.11/site-packages/distributed/node.py:187: UserWarning: Port 8787 is already in use.\n",
      "Perhaps you already have a cluster running?\n",
      "Hosting the HTTP server on port 31827 instead\n",
      "  warnings.warn(\n"
     ]
    },
    {
     "name": "stdout",
     "output_type": "stream",
     "text": [
      "About to preprocess\n",
      "[########################################] | 100% Completed | 101.57 ms\n"
     ]
    },
    {
     "name": "stderr",
     "output_type": "stream",
     "text": [
      "/usr/local/lib/python3.11/site-packages/coffea/nanoevents/schemas/fcc.py:5: FutureWarning: In version 2025.1.0 (target date: 2024-12-31 11:59:59-06:00), this will be an error.\n",
      "To raise these warnings as errors (and get stack traces to find out where they're called), run\n",
      "    import warnings\n",
      "    warnings.filterwarnings(\"error\", module=\"coffea.*\")\n",
      "after the first `import coffea` or use `@pytest.mark.filterwarnings(\"error:::coffea.*\")` in pytest.\n",
      "Issue: coffea.nanoevents.methods.vector will be removed and replaced with scikit-hep vector. Nanoevents schemas internal to coffea will be migrated. Otherwise please consider using that package!.\n",
      "  from coffea.nanoevents.methods import vector\n",
      "/usr/local/lib/python3.11/site-packages/coffea/nanoevents/schemas/fcc.py:5: FutureWarning: In version 2025.1.0 (target date: 2024-12-31 11:59:59-06:00), this will be an error.\n",
      "To raise these warnings as errors (and get stack traces to find out where they're called), run\n",
      "    import warnings\n",
      "    warnings.filterwarnings(\"error\", module=\"coffea.*\")\n",
      "after the first `import coffea` or use `@pytest.mark.filterwarnings(\"error:::coffea.*\")` in pytest.\n",
      "Issue: coffea.nanoevents.methods.vector will be removed and replaced with scikit-hep vector. Nanoevents schemas internal to coffea will be migrated. Otherwise please consider using that package!.\n",
      "  from coffea.nanoevents.methods import vector\n",
      "/usr/local/lib/python3.11/site-packages/coffea/nanoevents/schemas/fcc.py:5: FutureWarning: In version 2025.1.0 (target date: 2024-12-31 11:59:59-06:00), this will be an error.\n",
      "To raise these warnings as errors (and get stack traces to find out where they're called), run\n",
      "    import warnings\n",
      "    warnings.filterwarnings(\"error\", module=\"coffea.*\")\n",
      "after the first `import coffea` or use `@pytest.mark.filterwarnings(\"error:::coffea.*\")` in pytest.\n",
      "Issue: coffea.nanoevents.methods.vector will be removed and replaced with scikit-hep vector. Nanoevents schemas internal to coffea will be migrated. Otherwise please consider using that package!.\n",
      "  from coffea.nanoevents.methods import vector\n",
      "/usr/local/lib/python3.11/site-packages/coffea/nanoevents/schemas/fcc.py:5: FutureWarning: In version 2025.1.0 (target date: 2024-12-31 11:59:59-06:00), this will be an error.\n",
      "To raise these warnings as errors (and get stack traces to find out where they're called), run\n",
      "    import warnings\n",
      "    warnings.filterwarnings(\"error\", module=\"coffea.*\")\n",
      "after the first `import coffea` or use `@pytest.mark.filterwarnings(\"error:::coffea.*\")` in pytest.\n",
      "Issue: coffea.nanoevents.methods.vector will be removed and replaced with scikit-hep vector. Nanoevents schemas internal to coffea will be migrated. Otherwise please consider using that package!.\n",
      "  from coffea.nanoevents.methods import vector\n"
     ]
    },
    {
     "name": "stdout",
     "output_type": "stream",
     "text": [
      "Finished preprocessing. Here is the pre-processed fileset:\n",
      "{'ggZH_HToBB_ZToLL': {'files': {'root://cmsxrootd.fnal.gov:1094///store/mc/RunIISummer20UL18NanoAODv9/ggZH_HToBB_ZToLL_M-125_TuneCP5_13TeV-powheg-pythia8/NANOAODSIM/106X_upgrade2018_realistic_v16_L1v1-v1/2520000/1412A75E-6CBA-5142-914D-2FE8356F680C.root': {'object_path': 'Events', 'steps': [[0, 3000]], 'num_entries': 3000, 'uuid': 'a77a9146-ae8c-11ec-9ef1-88339e86beef'}, 'root://cmsxrootd.fnal.gov:1094///store/mc/RunIISummer20UL18NanoAODv9/ggZH_HToBB_ZToLL_M-125_TuneCP5_13TeV-powheg-pythia8/NANOAODSIM/106X_upgrade2018_realistic_v16_L1v1-v1/2520000/7D3C5290-C72C-B140-9233-D7DA01D4B183.root': {'object_path': 'Events', 'steps': [[0, 11000]], 'num_entries': 11000, 'uuid': 'd1111db8-ae8c-11ec-b7d7-8a969e86beef'}}, 'form': None, 'metadata': None}, 'ZH_HToBB_ZToLL': {'files': {'root://cmsxrootd.fnal.gov:1094///store/mc/RunIISummer20UL18NanoAODv9/ZH_HToBB_ZToLL_M-125_TuneCP5_13TeV-powheg-pythia8/NANOAODSIM/106X_upgrade2018_realistic_v16_L1v1-v1/2520000/56097D21-719D-564E-8E4A-C65214F252F9.root': {'object_path': 'Events', 'steps': [[0, 60759]], 'num_entries': 60759, 'uuid': '2be7153a-bb4e-11ec-b745-2f2212acbeef'}, 'root://cmsxrootd.fnal.gov:1094///store/mc/RunIISummer20UL18NanoAODv9/ZH_HToBB_ZToLL_M-125_TuneCP5_13TeV-powheg-pythia8/NANOAODSIM/106X_upgrade2018_realistic_v16_L1v1-v1/2820000/FE6AF237-7A43-C640-A0C0-672C18B80526.root': {'object_path': 'Events', 'steps': [[0, 239553]], 'num_entries': 239553, 'uuid': '511fa2ba-cb91-11ec-bb47-a1890d0abeef'}}, 'form': None, 'metadata': None}}\n"
     ]
    },
    {
     "name": "stderr",
     "output_type": "stream",
     "text": [
      "/usr/local/lib/python3.11/site-packages/coffea/nanoevents/schemas/nanoaod.py:264: RuntimeWarning: Missing cross-reference index for LowPtElectron_electronIdx => Electron\n",
      "  warnings.warn(\n",
      "/usr/local/lib/python3.11/site-packages/coffea/nanoevents/schemas/nanoaod.py:264: RuntimeWarning: Missing cross-reference index for LowPtElectron_photonIdx => Photon\n",
      "  warnings.warn(\n"
     ]
    },
    {
     "name": "stdout",
     "output_type": "stream",
     "text": [
      "About to compute the outputs\n",
      "[########################################] | 100% Completed | 105.40 ms\n"
     ]
    },
    {
     "name": "stderr",
     "output_type": "stream",
     "text": [
      "/usr/local/lib/python3.11/site-packages/coffea/nanoevents/schemas/fcc.py:5: FutureWarning: In version 2025.1.0 (target date: 2024-12-31 11:59:59-06:00), this will be an error.\n",
      "To raise these warnings as errors (and get stack traces to find out where they're called), run\n",
      "    import warnings\n",
      "    warnings.filterwarnings(\"error\", module=\"coffea.*\")\n",
      "after the first `import coffea` or use `@pytest.mark.filterwarnings(\"error:::coffea.*\")` in pytest.\n",
      "Issue: coffea.nanoevents.methods.vector will be removed and replaced with scikit-hep vector. Nanoevents schemas internal to coffea will be migrated. Otherwise please consider using that package!.\n",
      "  from coffea.nanoevents.methods import vector\n",
      "/usr/local/lib/python3.11/site-packages/coffea/nanoevents/schemas/fcc.py:5: FutureWarning: In version 2025.1.0 (target date: 2024-12-31 11:59:59-06:00), this will be an error.\n",
      "To raise these warnings as errors (and get stack traces to find out where they're called), run\n",
      "    import warnings\n",
      "    warnings.filterwarnings(\"error\", module=\"coffea.*\")\n",
      "after the first `import coffea` or use `@pytest.mark.filterwarnings(\"error:::coffea.*\")` in pytest.\n",
      "Issue: coffea.nanoevents.methods.vector will be removed and replaced with scikit-hep vector. Nanoevents schemas internal to coffea will be migrated. Otherwise please consider using that package!.\n",
      "  from coffea.nanoevents.methods import vector\n",
      "/usr/local/lib/python3.11/site-packages/coffea/nanoevents/schemas/fcc.py:5: FutureWarning: In version 2025.1.0 (target date: 2024-12-31 11:59:59-06:00), this will be an error.\n",
      "To raise these warnings as errors (and get stack traces to find out where they're called), run\n",
      "    import warnings\n",
      "    warnings.filterwarnings(\"error\", module=\"coffea.*\")\n",
      "after the first `import coffea` or use `@pytest.mark.filterwarnings(\"error:::coffea.*\")` in pytest.\n",
      "Issue: coffea.nanoevents.methods.vector will be removed and replaced with scikit-hep vector. Nanoevents schemas internal to coffea will be migrated. Otherwise please consider using that package!.\n",
      "  from coffea.nanoevents.methods import vector\n",
      "/usr/local/lib/python3.11/site-packages/coffea/nanoevents/schemas/fcc.py:5: FutureWarning: In version 2025.1.0 (target date: 2024-12-31 11:59:59-06:00), this will be an error.\n",
      "To raise these warnings as errors (and get stack traces to find out where they're called), run\n",
      "    import warnings\n",
      "    warnings.filterwarnings(\"error\", module=\"coffea.*\")\n",
      "after the first `import coffea` or use `@pytest.mark.filterwarnings(\"error:::coffea.*\")` in pytest.\n",
      "Issue: coffea.nanoevents.methods.vector will be removed and replaced with scikit-hep vector. Nanoevents schemas internal to coffea will be migrated. Otherwise please consider using that package!.\n",
      "  from coffea.nanoevents.methods import vector\n"
     ]
    },
    {
     "name": "stdout",
     "output_type": "stream",
     "text": [
      "Finished computing outputs\n"
     ]
    }
   ],
   "source": [
    "client = Client() #Create local Dask cluster\n",
    "#Run using our local cluster, and include a progress bar for convenience (not required)\n",
    "with client, ProgressBar():\n",
    "    print(\"About to preprocess\")\n",
    "    fileset_runnable, _ = preprocess(fileset)\n",
    "    print(\"Finished preprocessing. Here is the pre-processed fileset:\")\n",
    "    print(fileset_runnable)\n",
    "    #Run across the fileset\n",
    "    outputs, reports = apply_to_fileset(ExampleAnalyzer,fileset_runnable,uproot_options={\"allow_read_errors_with_report\": True, \"skipbadfiles\": True, \"timeout\": 300})\n",
    "    #Actually compute the outputs\n",
    "    print(\"About to compute the outputs\")\n",
    "    coutputs, creports = dask.compute(outputs,reports)\n",
    "    print(\"Finished computing outputs\")"
   ]
  },
  {
   "cell_type": "markdown",
   "id": "3068c867-6a98-47df-9ecf-69b9b6c995ce",
   "metadata": {},
   "source": [
    "Now that we ran our function on the fileset, we can examine the results, and then move on to running our jobs through Condor."
   ]
  },
  {
   "cell_type": "code",
   "execution_count": 6,
   "id": "24b793fe-b076-44a5-b15b-5a5e47c78ac9",
   "metadata": {},
   "outputs": [
    {
     "name": "stdout",
     "output_type": "stream",
     "text": [
      "Dataset: ggZH_HToBB_ZToLL\n",
      "Event count: 14000\n",
      "Test value: 19245.0\n",
      "Other test value: 0\n",
      "Dataset: ZH_HToBB_ZToLL\n",
      "Event count: 300312\n",
      "Test value: 337925.0\n",
      "Other test value: 0\n"
     ]
    },
    {
     "data": {
      "text/plain": [
       "[StairsArtists(stairs=<matplotlib.patches.StepPatch object at 0x7f2a9841bf10>, errorbar=None, legend_artist=None)]"
      ]
     },
     "execution_count": 6,
     "metadata": {},
     "output_type": "execute_result"
    },
    {
     "data": {
      "image/png": "[encoded data removed]",
      "text/plain": [
       "<Figure size 640x480 with 1 Axes>"
      ]
     },
     "metadata": {},
     "output_type": "display_data"
    }
   ],
   "source": [
    "for dset,results in coutputs.items():\n",
    "    print(f\"Dataset: {dset}\")\n",
    "    print(f\"Event count: {results['EventCount']}\")\n",
    "    print(f\"Test value: {results['Test']}\")\n",
    "    print(f\"Other test value: {results['OtherTest']}\")\n",
    "\n",
    "coutputs[\"ZH_HToBB_ZToLL\"][\"MyHist\"].plot()"
   ]
  },
  {
   "cell_type": "markdown",
   "id": "f17665f7-a823-4850-85b5-1037a6326ffb",
   "metadata": {},
   "source": [
    "## Running on a Cluster\n",
    "\n",
    "This next cell gets you ready to run on Condor, including taking any specifications the user needs to make for the Condor cluster. To avoid issues, we also shut down the previous cluster, in case it did not close on its own. If it errors and says it was already closed, you can skip that cell.\n",
    "\n",
    "If the environment you are running this in has the `cowtools` package installed, we will use that to create our cluster client, pre-configured to work with the Wisconsin AF's cluster. Otherwise, we'll make it by hand. Note that within this notebook, the very first cell detects whether or not `cowtools` is installed - by default, it should be installed whenever you use the Wisconsin AF.\n",
    "\n",
    "If you are creating the cluster \"by hand\", make sure that the `\"container_image\"` classAd below matches the information given in `/container-info.yml`."
   ]
  },
  {
   "cell_type": "code",
   "execution_count": 7,
   "id": "6b722d96-5452-4954-a285-95e2c003784e",
   "metadata": {
    "tags": []
   },
   "outputs": [
    {
     "name": "stdout",
     "output_type": "stream",
     "text": [
      "dask workers will run in /scratch/rsimeon/notebook.sif\n",
      "Condor logs, output files, error files in /scratch/rsimeon\n"
     ]
    },
    {
     "name": "stderr",
     "output_type": "stream",
     "text": [
      "/usr/local/lib/python3.11/site-packages/distributed/node.py:187: UserWarning: Port 8787 is already in use.\n",
      "Perhaps you already have a cluster running?\n",
      "Hosting the HTTP server on port 22427 instead\n",
      "  warnings.warn(\n"
     ]
    }
   ],
   "source": [
    "#If your environment has cowtools (it should), then this cell is really just one line\n",
    "if HAS_COWTOOLS:\n",
    "    client = cowtools.GetCondorClient(max_workers=MAX_WORKERS)\n",
    "#The entire rest of this cell is only necessary if cowtools is not installed/not working\n",
    "else:\n",
    "    os.environ[\"CONDOR_CONFIG\"] = \"/etc/condor/condor_config\"\n",
    "    \n",
    "    try:\n",
    "        _x509_localpath = (\n",
    "            [\n",
    "                line\n",
    "                for line in os.popen(\"voms-proxy-info\").read().split(\"\\n\")\n",
    "                if line.startswith(\"path\")\n",
    "            ][0]\n",
    "            .split(\":\")[-1]\n",
    "            .strip()\n",
    "        )\n",
    "    except Exception as err:\n",
    "        raise RuntimeError(\n",
    "            \"x509 proxy could not be parsed, try creating it with 'voms-proxy-init'\"\n",
    "        ) from err\n",
    "    _x509_path = f'/scratch/{os.environ[\"USER\"]}/{_x509_localpath.split(\"/\")[-1]}'\n",
    "    os.system(f\"cp {_x509_localpath} {_x509_path}\")\n",
    "    _x509_path = os.path.basename(_x509_localpath)\n",
    "    \n",
    "    PWD = os.getcwd()\n",
    "    print(f'Transferring contents of {PWD} to workers')\n",
    "    INITIAL_DIR = f'/scratch/{os.environ[\"USER\"]}'\n",
    "    cluster = HTCondorCluster(\n",
    "        cores=1,\n",
    "        memory=\"2 GB\",\n",
    "        disk=\"1 GB\",\n",
    "        death_timeout = '60',\n",
    "        job_extra_directives={\n",
    "            #\"Requirements\": 'Microarch != \"x86_64-v2\"',\n",
    "            \"+JobFlavour\": '\"tomorrow\"',\n",
    "            \"log\": \"dask_job_output.$(PROCESS).$(CLUSTER).log\",\n",
    "            \"output\": \"dask_job_output.$(PROCESS).$(CLUSTER).out\",\n",
    "            \"error\": \"dask_job_output.$(PROCESS).$(CLUSTER).err\",\n",
    "            \"should_transfer_files\": \"yes\",\n",
    "            \"when_to_transfer_output\": \"ON_EXIT_OR_EVICT\",\n",
    "            \"container_image\": \"/cvmfs/unpacked.cern.ch/registry.hub.docker.com/coffeateam/coffea-dask-almalinux8:2024.11.0-py3.11\",\n",
    "            \"InitialDir\": INITIAL_DIR,\n",
    "            \"transfer_input_files\": f'{_x509_path}'\n",
    "        },\n",
    "        job_script_prologue=[\n",
    "            \"export XRD_RUNFORKHANDLER=1\",\n",
    "            f\"export X509_USER_PROXY={_x509_path}\",\n",
    "        ]\n",
    "    )\n",
    "    print('Condor logs, output files, error files in {}'.format(INITIAL_DIR))\n",
    "    cluster.adapt(minimum=1, maximum=MAX_WORKERS)\n",
    "    client = Client(cluster)\n",
    "    print(\"HTCondorCluster client created\")"
   ]
  },
  {
   "cell_type": "code",
   "execution_count": 8,
   "id": "453a1e9a-85bd-4f4c-bc57-a6fe41253265",
   "metadata": {},
   "outputs": [
    {
     "data": {
      "text/html": [
       "<div>\n",
       "    <div style=\"width: 24px; height: 24px; background-color: #e1e1e1; border: 3px solid #9D9D9D; border-radius: 5px; position: absolute;\"> </div>\n",
       "    <div style=\"margin-left: 48px;\">\n",
       "        <h3 style=\"margin-bottom: 0px;\">Client</h3>\n",
       "        <p style=\"color: #9D9D9D; margin-bottom: 0px;\">Client-bb389a6b-f03e-11ef-a4d8-3cecefda85c8</p>\n",
       "        <table style=\"width: 100%; text-align: left;\">\n",
       "\n",
       "        <tr>\n",
       "        \n",
       "            <td style=\"text-align: left;\"><strong>Connection method:</strong> Cluster object</td>\n",
       "            <td style=\"text-align: left;\"><strong>Cluster type:</strong> dask_jobqueue.HTCondorCluster</td>\n",
       "        \n",
       "        </tr>\n",
       "\n",
       "        \n",
       "            <tr>\n",
       "                <td style=\"text-align: left;\">\n",
       "                    <strong>Dashboard: </strong> <a href=\"proxy/22427/status\" target=\"_blank\">proxy/22427/status</a>\n",
       "                </td>\n",
       "                <td style=\"text-align: left;\"></td>\n",
       "            </tr>\n",
       "        \n",
       "\n",
       "        </table>\n",
       "\n",
       "        \n",
       "            <button style=\"margin-bottom: 12px;\" data-commandlinker-command=\"dask:populate-and-launch-layout\" data-commandlinker-args='{\"url\": \"proxy/22427/status\" }'>\n",
       "                Launch dashboard in JupyterLab\n",
       "            </button>\n",
       "        \n",
       "\n",
       "        \n",
       "            <details>\n",
       "            <summary style=\"margin-bottom: 20px;\"><h3 style=\"display: inline;\">Cluster Info</h3></summary>\n",
       "            <div class=\"jp-RenderedHTMLCommon jp-RenderedHTML jp-mod-trusted jp-OutputArea-output\">\n",
       "    <div style=\"width: 24px; height: 24px; background-color: #e1e1e1; border: 3px solid #9D9D9D; border-radius: 5px; position: absolute;\">\n",
       "    </div>\n",
       "    <div style=\"margin-left: 48px;\">\n",
       "        <h3 style=\"margin-bottom: 0px; margin-top: 0px;\">HTCondorCluster</h3>\n",
       "        <p style=\"color: #9D9D9D; margin-bottom: 0px;\">85e79a28</p>\n",
       "        <table style=\"width: 100%; text-align: left;\">\n",
       "            <tr>\n",
       "                <td style=\"text-align: left;\">\n",
       "                    <strong>Dashboard:</strong> <a href=\"proxy/22427/status\" target=\"_blank\">proxy/22427/status</a>\n",
       "                </td>\n",
       "                <td style=\"text-align: left;\">\n",
       "                    <strong>Workers:</strong> 0\n",
       "                </td>\n",
       "            </tr>\n",
       "            <tr>\n",
       "                <td style=\"text-align: left;\">\n",
       "                    <strong>Total threads:</strong> 0\n",
       "                </td>\n",
       "                <td style=\"text-align: left;\">\n",
       "                    <strong>Total memory:</strong> 0 B\n",
       "                </td>\n",
       "            </tr>\n",
       "            \n",
       "        </table>\n",
       "\n",
       "        <details>\n",
       "            <summary style=\"margin-bottom: 20px;\">\n",
       "                <h3 style=\"display: inline;\">Scheduler Info</h3>\n",
       "            </summary>\n",
       "\n",
       "            <div style=\"\">\n",
       "    <div>\n",
       "        <div style=\"width: 24px; height: 24px; background-color: #FFF7E5; border: 3px solid #FF6132; border-radius: 5px; position: absolute;\"> </div>\n",
       "        <div style=\"margin-left: 48px;\">\n",
       "            <h3 style=\"margin-bottom: 0px;\">Scheduler</h3>\n",
       "            <p style=\"color: #9D9D9D; margin-bottom: 0px;\">Scheduler-dea1abcc-e5b3-4e4b-9707-7816f4f9cd03</p>\n",
       "            <table style=\"width: 100%; text-align: left;\">\n",
       "                <tr>\n",
       "                    <td style=\"text-align: left;\">\n",
       "                        <strong>Comm:</strong> tcp://144.92.181.248:4649\n",
       "                    </td>\n",
       "                    <td style=\"text-align: left;\">\n",
       "                        <strong>Workers:</strong> 0\n",
       "                    </td>\n",
       "                </tr>\n",
       "                <tr>\n",
       "                    <td style=\"text-align: left;\">\n",
       "                        <strong>Dashboard:</strong> <a href=\"proxy/22427/status\" target=\"_blank\">proxy/22427/status</a>\n",
       "                    </td>\n",
       "                    <td style=\"text-align: left;\">\n",
       "                        <strong>Total threads:</strong> 0\n",
       "                    </td>\n",
       "                </tr>\n",
       "                <tr>\n",
       "                    <td style=\"text-align: left;\">\n",
       "                        <strong>Started:</strong> Just now\n",
       "                    </td>\n",
       "                    <td style=\"text-align: left;\">\n",
       "                        <strong>Total memory:</strong> 0 B\n",
       "                    </td>\n",
       "                </tr>\n",
       "            </table>\n",
       "        </div>\n",
       "    </div>\n",
       "\n",
       "    <details style=\"margin-left: 48px;\">\n",
       "        <summary style=\"margin-bottom: 20px;\">\n",
       "            <h3 style=\"display: inline;\">Workers</h3>\n",
       "        </summary>\n",
       "\n",
       "        \n",
       "\n",
       "    </details>\n",
       "</div>\n",
       "\n",
       "        </details>\n",
       "    </div>\n",
       "</div>\n",
       "            </details>\n",
       "        \n",
       "\n",
       "    </div>\n",
       "</div>"
      ],
      "text/plain": [
       "<Client: 'tcp://144.92.181.248:4649' processes=0 threads=0, memory=0 B>"
      ]
     },
     "execution_count": 8,
     "metadata": {},
     "output_type": "execute_result"
    }
   ],
   "source": [
    "client"
   ]
  },
  {
   "cell_type": "markdown",
   "id": "da40e01b-dc1f-47fa-af29-bcb00e56af40",
   "metadata": {},
   "source": [
    "The above cell should have produced a `Client` object, with a button that says \"Launch dashboard in JupyterLab\". Clicking that button will allow you to see the memory usage and worker status of your Condor workers in roughly real time.\n",
    "\n",
    "The next cell again preprocesses our fileset and applies `ExampleAnalyzer`, but this time it runs distributed jobs on the cluster. You should be able to see your jobs moving in the dashboard, but it may take a few minutes. Running the jobs should finish in under 10 minutes."
   ]
  },
  {
   "cell_type": "code",
   "execution_count": 9,
   "id": "84bf82b8-cc93-4a4d-85a5-bc5116bdf381",
   "metadata": {
    "tags": []
   },
   "outputs": [
    {
     "name": "stdout",
     "output_type": "stream",
     "text": [
      "About to preprocess\n",
      "[########################################] | 100% Completed | 101.94 ms\n",
      "Finished preprocessing. Here is the pre-processed fileset:\n"
     ]
    },
    {
     "name": "stderr",
     "output_type": "stream",
     "text": [
      "/usr/local/lib/python3.11/site-packages/coffea/nanoevents/schemas/nanoaod.py:264: RuntimeWarning: Missing cross-reference index for LowPtElectron_electronIdx => Electron\n",
      "  warnings.warn(\n",
      "/usr/local/lib/python3.11/site-packages/coffea/nanoevents/schemas/nanoaod.py:264: RuntimeWarning: Missing cross-reference index for LowPtElectron_photonIdx => Photon\n",
      "  warnings.warn(\n"
     ]
    },
    {
     "name": "stdout",
     "output_type": "stream",
     "text": [
      "About to compute the outputs\n",
      "[########################################] | 100% Completed | 101.22 ms\n",
      "Finished computing outputs\n"
     ]
    }
   ],
   "source": [
    "with client, ProgressBar():\n",
    "    print(\"About to preprocess\")\n",
    "    fileset_runnable, _ = preprocess(fileset)\n",
    "    print(\"Finished preprocessing. Here is the pre-processed fileset:\")\n",
    "    #Run across the fileset\n",
    "    outputs, reports = apply_to_fileset(ExampleAnalyzer,fileset_runnable,uproot_options={\"allow_read_errors_with_report\": True, \"skipbadfiles\": True, \"timeout\": 300})\n",
    "    #Actually compute the outputs\n",
    "    print(\"About to compute the outputs\")\n",
    "    coutputs_dist, creports_dist = dask.compute(outputs,reports)\n",
    "    print(\"Finished computing outputs\")"
   ]
  },
  {
   "cell_type": "markdown",
   "id": "0e8ed6aa-44d6-4970-8573-1828c5f16347",
   "metadata": {},
   "source": [
    "Again, we can look at the results."
   ]
  },
  {
   "cell_type": "code",
   "execution_count": 10,
   "id": "4a6dc906-5961-4f86-aa0d-fd81754dbd0c",
   "metadata": {},
   "outputs": [
    {
     "name": "stdout",
     "output_type": "stream",
     "text": [
      "Dataset: ggZH_HToBB_ZToLL\n",
      "Event count: 14000\n",
      "Dataset: ZH_HToBB_ZToLL\n",
      "Event count: 300312\n"
     ]
    },
    {
     "data": {
      "text/plain": [
       "[StairsArtists(stairs=<matplotlib.patches.StepPatch object at 0x7f2a7875a8d0>, errorbar=None, legend_artist=None)]"
      ]
     },
     "execution_count": 10,
     "metadata": {},
     "output_type": "execute_result"
    },
    {
     "data": {
      "image/png": "[encoded data removed]",
      "text/plain": [
       "<Figure size 640x480 with 1 Axes>"
      ]
     },
     "metadata": {},
     "output_type": "display_data"
    }
   ],
   "source": [
    "for dset,results in coutputs_dist.items():\n",
    "    print(f\"Dataset: {dset}\")\n",
    "    print(f\"Event count: {results['EventCount']}\")\n",
    "\n",
    "coutputs_dist[\"ZH_HToBB_ZToLL\"][\"MyHist\"].plot()"
   ]
  },
  {
   "cell_type": "markdown",
   "id": "0cfdf329-6dbd-40d1-8086-0fbf6c991285",
   "metadata": {},
   "source": [
    "Finally, make sure to shut down your Condor client when you are done, just to avoid issues. If you forget, shutting down the notebook kernel also works."
   ]
  },
  {
   "cell_type": "code",
   "execution_count": 11,
   "id": "c2d16f26-61f3-4b36-a61d-7108ef88ec0f",
   "metadata": {
    "tags": []
   },
   "outputs": [],
   "source": [
    "client.shutdown()"
   ]
  },
  {
   "cell_type": "code",
   "execution_count": null,
   "id": "cfbb7bc9-898c-4ebf-a6f2-208fc36569f7",
   "metadata": {},
   "outputs": [],
   "source": []
  }
 ],
 "metadata": {
  "kernelspec": {
   "display_name": "Python 3 (ipykernel)",
   "language": "python",
   "name": "python3"
  },
  "language_info": {
   "codemirror_mode": {
    "name": "ipython",
    "version": 3
   },
   "file_extension": ".py",
   "mimetype": "text/x-python",
   "name": "python",
   "nbconvert_exporter": "python",
   "pygments_lexer": "ipython3",
   "version": "3.11.11"
  }
 },
 "nbformat": 4,
 "nbformat_minor": 5
}
