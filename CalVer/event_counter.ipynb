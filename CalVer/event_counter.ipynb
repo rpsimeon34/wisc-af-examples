{
 "cells": [
  {
   "cell_type": "markdown",
   "id": "9662d157-9a47-498a-a4d1-e682f8635931",
   "metadata": {},
   "source": [
    "# Event Counting Example\n",
    "\n",
    "This notebook shows you how to open individual root files, and then do some quick exploration of the contents of those files with Awkward Array.\n",
    "\n",
    "To start, we create a list of some example files to use. These will be accessed remotely through XRootD, so make sure that you perform a `voms-proxy-init` command before running the notebook. You can do this in a terminal window within the Jupyterlab interface."
   ]
  },
  {
   "cell_type": "code",
   "execution_count": 1,
   "id": "bef9025a-3a7a-4cd9-a232-efb2d6ec041f",
   "metadata": {
    "tags": []
   },
   "outputs": [
    {
     "name": "stderr",
     "output_type": "stream",
     "text": [
      "/usr/local/lib/python3.12/site-packages/coffea/nanoevents/schemas/fcc.py:5: FutureWarning: In version 2025.1.0 (target date: 2024-12-31 11:59:59-06:00), this will be an error.\n",
      "To raise these warnings as errors (and get stack traces to find out where they're called), run\n",
      "    import warnings\n",
      "    warnings.filterwarnings(\"error\", module=\"coffea.*\")\n",
      "after the first `import coffea` or use `@pytest.mark.filterwarnings(\"error:::coffea.*\")` in pytest.\n",
      "Issue: coffea.nanoevents.methods.vector will be removed and replaced with scikit-hep vector. Nanoevents schemas internal to coffea will be migrated. Otherwise please consider using that package!.\n",
      "  from coffea.nanoevents.methods import vector\n"
     ]
    }
   ],
   "source": [
    "import awkward as ak\n",
    "import numpy as np\n",
    "from coffea.nanoevents import NanoEventsFactory\n",
    "\n",
    "redirector = \"root://cmsxrootd.fnal.gov//\"\n",
    "files = [\n",
    "    redirector+\"/store/mc/RunIISummer20UL17NanoAODv9/Z1JetsToNuNu_M-50_LHEFilterPtZ-50To150_MatchEWPDG20_TuneCP5_13TeV-amcatnloFXFX-pythia8/NANOAODSIM/106X_mc2017_realistic_v9-v2/100000/E8AEC1F0-3899-664D-84E2-A775A5D5D2B6.root\",\n",
    "    redirector+\"/store/mc/RunIISummer20UL17NanoAODv9/Z1JetsToNuNu_M-50_LHEFilterPtZ-50To150_MatchEWPDG20_TuneCP5_13TeV-amcatnloFXFX-pythia8/NANOAODSIM/106X_mc2017_realistic_v9-v2/230000/7C6C5ABC-F034-1945-90B9-E4906A6C1988.root\",\n",
    "    #Z1Jets_NuNu_ZpT_150To250_17\n",
    "    redirector+\"/store/mc/RunIISummer20UL17NanoAODv9/Z1JetsToNuNu_M-50_LHEFilterPtZ-150To250_MatchEWPDG20_TuneCP5_13TeV-amcatnloFXFX-pythia8/NANOAODSIM/106X_mc2017_realistic_v9-v2/100000/E5093A2F-49A7-194C-AB9F-2B66DACB00A2.root\",\n",
    "    redirector+\"/store/mc/RunIISummer20UL17NanoAODv9/Z1JetsToNuNu_M-50_LHEFilterPtZ-150To250_MatchEWPDG20_TuneCP5_13TeV-amcatnloFXFX-pythia8/NANOAODSIM/106X_mc2017_realistic_v9-v2/230000/56A8AA83-6151-B14D-9F80-975164A68B14.root\",\n",
    "    #Z1Jets_NuNu_ZpT_250To400_17\n",
    "    redirector+\"/store/mc/RunIISummer20UL17NanoAODv9/Z1JetsToNuNu_M-50_LHEFilterPtZ-250To400_MatchEWPDG20_TuneCP5_13TeV-amcatnloFXFX-pythia8/NANOAODSIM/106X_mc2017_realistic_v9-v2/100000/A7E2FD5B-6F80-E242-934D-7C9B3AEC6EE8.root\",\n",
    "    redirector+\"/store/mc/RunIISummer20UL17NanoAODv9/Z1JetsToNuNu_M-50_LHEFilterPtZ-250To400_MatchEWPDG20_TuneCP5_13TeV-amcatnloFXFX-pythia8/NANOAODSIM/106X_mc2017_realistic_v9-v2/100000/CE06E0D0-AD05-9548-B6CA-2C2722C73174.root\",\n",
    "    #Z1Jets_NuNu_ZpT_400Toinf_17\n",
    "    redirector+\"/store/mc/RunIISummer20UL17NanoAODv9/Z1JetsToNuNu_M-50_LHEFilterPtZ-400ToInf_MatchEWPDG20_TuneCP5_13TeV-amcatnloFXFX-pythia8/NANOAODSIM/106X_mc2017_realistic_v9-v2/100000/1AB5032D-1B75-2241-A309-CC2A872A63FC.root\",\n",
    "    redirector+\"/store/mc/RunIISummer20UL17NanoAODv9/Z1JetsToNuNu_M-50_LHEFilterPtZ-400ToInf_MatchEWPDG20_TuneCP5_13TeV-amcatnloFXFX-pythia8/NANOAODSIM/106X_mc2017_realistic_v9-v2/230000/0289B401-1C1E-1244-922A-0556DAF328E2.root\"\n",
    "]"
   ]
  },
  {
   "cell_type": "markdown",
   "id": "4e993450-3224-4ce7-bd12-104c9f35f28d",
   "metadata": {},
   "source": [
    "We can go through this list of files and print the number of events in each one using coffea's `NanoEventsFactory`. We are appending the string `\":Events\"` to the file names to tell the `NanoEventsFactory` which tree in the root file we want to read."
   ]
  },
  {
   "cell_type": "code",
   "execution_count": 2,
   "id": "6a14da51-4f6b-42cb-80a4-c548e692c2b6",
   "metadata": {},
   "outputs": [
    {
     "name": "stderr",
     "output_type": "stream",
     "text": [
      "/usr/local/lib/python3.12/site-packages/coffea/nanoevents/schemas/nanoaod.py:264: RuntimeWarning: Missing cross-reference index for LowPtElectron_electronIdx => Electron\n",
      "  warnings.warn(\n",
      "/usr/local/lib/python3.12/site-packages/coffea/nanoevents/schemas/nanoaod.py:264: RuntimeWarning: Missing cross-reference index for LowPtElectron_photonIdx => Photon\n",
      "  warnings.warn(\n"
     ]
    },
    {
     "name": "stdout",
     "output_type": "stream",
     "text": [
      "35889\n",
      "497627\n",
      "208207\n",
      "17997\n",
      "5070\n",
      "61090\n",
      "16356\n",
      "30391\n"
     ]
    }
   ],
   "source": [
    "for f in files:\n",
    "    events = NanoEventsFactory.from_root(\n",
    "        f+\":Events\",\n",
    "    ).events()\n",
    "    print(ak.num(events,axis=0).compute())"
   ]
  },
  {
   "cell_type": "markdown",
   "id": "f6b1aec9-7aa0-44c8-b5b9-d616f3ee2cae",
   "metadata": {},
   "source": [
    "The expected output is:\n",
    "\n",
    "35889<br>\n",
    "497627<br>\n",
    "208207<br>\n",
    "17997<br>\n",
    "5070<br>\n",
    "61090<br>\n",
    "16356<br>\n",
    "30391<br>\n",
    "\n",
    "Now, let's grab one particular file and break down that last cell."
   ]
  },
  {
   "cell_type": "code",
   "execution_count": 3,
   "id": "033eb6e3-bb2f-4784-9874-369c690e9acc",
   "metadata": {},
   "outputs": [
    {
     "data": {
      "text/plain": [
       "dask_awkward.lib.core.Array"
      ]
     },
     "execution_count": 3,
     "metadata": {},
     "output_type": "execute_result"
    }
   ],
   "source": [
    "filename = redirector+\"/store/mc/RunIISummer20UL17NanoAODv9/Z1JetsToNuNu_M-50_LHEFilterPtZ-250To400_MatchEWPDG20_TuneCP5_13TeV-amcatnloFXFX-pythia8/NANOAODSIM/106X_mc2017_realistic_v9-v2/100000/A7E2FD5B-6F80-E242-934D-7C9B3AEC6EE8.root\"\n",
    "events = NanoEventsFactory.from_root(filename+\":Events\").events()\n",
    "type(events)"
   ]
  },
  {
   "cell_type": "markdown",
   "id": "44f1131d-4682-4270-9924-0959ef0051db",
   "metadata": {},
   "source": [
    "The `NanoEventsFactory` object allows us to get an `events` object, which here is a dask-awkward object. This is a delayed object, meaning that we haven't actually loaded the full file into memory. Also, if we ask for some data from it, we won't get floats or bools, but another delayed object. For example, the `ak.num` function, which counts objects, returns another dask-awkward object instead of a number.\n",
    "\n",
    "Here, we use `axis=0` to count the outermost axis (ie: the rows of the array)."
   ]
  },
  {
   "cell_type": "code",
   "execution_count": 4,
   "id": "791e4796-50ad-48f1-87ce-dc61c8778adf",
   "metadata": {},
   "outputs": [
    {
     "name": "stdout",
     "output_type": "stream",
     "text": [
      "<class 'dask_awkward.lib.core.Scalar'>\n",
      "dask.awkward<numaxis0, type=Scalar, dtype=int64>\n"
     ]
    }
   ],
   "source": [
    "x = ak.num(events,axis=0)\n",
    "print(type(x))\n",
    "print(x)"
   ]
  },
  {
   "cell_type": "markdown",
   "id": "2d056202-abdd-45d9-80f6-73d1b490ef9b",
   "metadata": {},
   "source": [
    "In order to get an actual number, we need to compute the object."
   ]
  },
  {
   "cell_type": "code",
   "execution_count": 5,
   "id": "ff16fa0a-69f9-4e84-81d3-db09176e6d7a",
   "metadata": {},
   "outputs": [
    {
     "name": "stdout",
     "output_type": "stream",
     "text": [
      "<class 'numpy.int64'>\n",
      "5070\n"
     ]
    }
   ],
   "source": [
    "y = x.compute()\n",
    "print(type(y))\n",
    "print(y)"
   ]
  },
  {
   "cell_type": "markdown",
   "id": "fca0f760-64e1-4e8e-82d9-2d258027a2b9",
   "metadata": {},
   "source": [
    "It is possible to load the entire event at once, but this is generally suboptimal from a compute perspective. It can be useful, however, to do this when you are exploring new data, and will need to do lots of small, short commands on a small number of events. This can be done by setting `delayed=False` in the `from_root` call, as follows."
   ]
  },
  {
   "cell_type": "code",
   "execution_count": 6,
   "id": "b50dbe9b-1227-41d2-81bc-02e5c3e7d28f",
   "metadata": {},
   "outputs": [
    {
     "data": {
      "text/plain": [
       "coffea.nanoevents.methods.base.NanoEventsArray"
      ]
     },
     "execution_count": 6,
     "metadata": {},
     "output_type": "execute_result"
    }
   ],
   "source": [
    "events_eager = NanoEventsFactory.from_root(filename+\":Events\",delayed=False).events()\n",
    "type(events_eager)"
   ]
  },
  {
   "cell_type": "markdown",
   "id": "cf667fe4-19d9-45a2-bd90-9fb0462943ae",
   "metadata": {},
   "source": [
    "Otherwise, dask-awkward arrays will usually need a `.compute()` at the end to materialize a result.\n",
    "\n",
    "An exception to this pattern is metadata. For example, to access the list of branches in the events, one can do `events.fields`, and this command need no `.compute()`."
   ]
  },
  {
   "cell_type": "code",
   "execution_count": 7,
   "id": "b34c6802-3888-4f0e-a99c-3a2da8cf2ca7",
   "metadata": {},
   "outputs": [
    {
     "name": "stdout",
     "output_type": "stream",
     "text": [
      "Fields in events are: ['SoftActivityJetNjets2', 'Muon', 'Electron', 'CaloMET', 'HLTriggerFinalPath', 'genTtbarId', 'SoftActivityJetHT', 'PV', 'L1', 'Jet', 'boostedTau', 'LHEScaleWeight', 'DeepMETResponseTune', 'btagWeight', 'LHEPart', 'fixedGridRhoFastjetAll', 'fixedGridRhoFastjetCentralCalo', 'SoftActivityJetHT2', 'SV', 'FsrPhoton', 'LHEPdfWeight', 'Generator', 'RawMET', 'CorrT1METJet', 'L1simulation', 'PuppiMET', 'fixedGridRhoFastjetCentral', 'GenJet', 'Tau', 'SoftActivityJet', 'LHEReweightingWeight', 'fixedGridRhoFastjetCentralNeutral', 'L1PreFiringWeight', 'ChsMET', 'genWeight', 'Pileup', 'luminosityBlock', 'LHEWeight', 'event', 'FatJet', 'MET', 'LHE', 'Flag', 'DeepMETResolutionTune', 'SoftActivityJetHT5', 'fixedGridRhoFastjetCentralChargedPileUp', 'SubGenJetAK8', 'GenIsolatedPhoton', 'run', 'GenJetAK8', 'GenVisTau', 'LowPtElectron', 'GenVtx', 'HTXS', 'L1Reco', 'SubJet', 'RawPuppiMET', 'GenMET', 'SoftActivityJetHT10', 'HLTriggerFirstPath', 'GenDressedLepton', 'SoftActivityJetNjets10', 'HLT', 'GenPart', 'SoftActivityJetNjets5', 'TrigObj', 'OtherPV', 'PSWeight', 'IsoTrack', 'Photon', 'TkMET']\n"
     ]
    }
   ],
   "source": [
    "print(f\"Fields in events are: {events.fields}\")"
   ]
  },
  {
   "cell_type": "markdown",
   "id": "092ef706-4153-493d-a967-9793b9a84e6c",
   "metadata": {},
   "source": [
    "To access branches in the events array, the syntax is `events.branch_name`. To get more information on a field in the array, one can do `events.field_name?`. For example, to learn more about the Jet array,"
   ]
  },
  {
   "cell_type": "code",
   "execution_count": 8,
   "id": "c960b0ff-bc6c-4331-960a-d8df94343785",
   "metadata": {},
   "outputs": [
    {
     "data": {
      "text/plain": [
       "\u001b[0;31mType:\u001b[0m            Array\n",
       "\u001b[0;31mString form:\u001b[0m     dask.awkward<Jet, npartitions=1>\n",
       "\u001b[0;31mFile:\u001b[0m            /usr/local/lib/python3.12/site-packages/dask_awkward/lib/core.py\n",
       "\u001b[0;31mDocstring:\u001b[0m       slimmedJets, i.e. ak4 PFJets CHS with JECs applied, after basic selection (pt > 15)\n",
       "\u001b[0;31mClass docstring:\u001b[0m\n",
       "Partitioned, lazy, and parallel Awkward Array Dask collection.\n",
       "\n",
       "The class constructor is not intended for users. Instead use\n",
       "factory functions like :py:func:`~dask_awkward.from_parquet`,\n",
       ":py:func:`~dask_awkward.from_json`, etc.\n",
       "\n",
       "Within dask-awkward the ``new_array_object`` factory function is\n",
       "used for creating new instances."
      ]
     },
     "metadata": {},
     "output_type": "display_data"
    }
   ],
   "source": [
    "events.Jet?"
   ]
  },
  {
   "cell_type": "markdown",
   "id": "8283632b-b890-4686-93d4-2532e566cc26",
   "metadata": {},
   "source": [
    "Now, let's get two particular jets and check them out. Here, we look at the $12^\\text{th}$ event and take the first and second jet in the array in that event."
   ]
  },
  {
   "cell_type": "code",
   "execution_count": 9,
   "id": "8bdf4a83-67de-4c7b-af8a-fdcc56658100",
   "metadata": {
    "tags": []
   },
   "outputs": [
    {
     "name": "stdout",
     "output_type": "stream",
     "text": [
      "<class 'coffea.nanoevents.methods.nanoaod.JetArray'>\n",
      "Jet 1's phi: -1.04\n",
      "Jet 2's phi: 1.30\n",
      "Jet 1's eta: -0.21\n",
      "Jet 2's eta: 1.73\n",
      "The delta-R between the jets: 3.04\n",
      "Manually calculated delta-R between the jets: 3.04\n"
     ]
    }
   ],
   "source": [
    "jet1 = events_eager.Jet[12][:1]\n",
    "jet2 = events_eager.Jet[12][1:2]\n",
    "print(type(jet1))\n",
    "print(f\"Jet 1's phi: {jet1.phi[0]:.2f}\")\n",
    "print(f\"Jet 2's phi: {jet2.phi[0]:.2f}\")\n",
    "print(f\"Jet 1's eta: {jet1.eta[0]:.2f}\")\n",
    "print(f\"Jet 2's eta: {jet2.eta[0]:.2f}\")\n",
    "print(f\"The delta-R between the jets: {jet1.delta_r(jet2)[0]:.2f}\") #Awkward Array has some very useful HEP-centric methods, like delta_r!\n",
    "print(f\"Manually calculated delta-R between the jets: {np.sqrt((jet1.phi-jet2.phi)**2+(jet1.eta-jet2.eta)**2)[0]:.2f}\")"
   ]
  },
  {
   "cell_type": "markdown",
   "id": "2918789a-7c02-46eb-844a-e3fb14a89a0d",
   "metadata": {},
   "source": [
    "We could also go to the $12^\\text{th}$ event and look at all the jets' $\\phi$, for example, at once."
   ]
  },
  {
   "cell_type": "code",
   "execution_count": 10,
   "id": "ab86c868-a1d4-4f21-a485-76126f450047",
   "metadata": {
    "tags": []
   },
   "outputs": [
    {
     "data": {
      "text/html": [
       "<pre>[-1.04,\n",
       " 1.3,\n",
       " -2.61,\n",
       " 2.24,\n",
       " 0.46]\n",
       "------------------------------------------------\n",
       "backend: cpu\n",
       "nbytes: 20 B\n",
       "type: 5 * float32[parameters={&quot;__doc__&quot;: &quot;phi&quot;}]</pre>"
      ],
      "text/plain": [
       "<Array [-1.04, 1.3, -2.61, 2.24, 0.46] type='5 * float32[parameters={\"__doc...'>"
      ]
     },
     "execution_count": 10,
     "metadata": {},
     "output_type": "execute_result"
    }
   ],
   "source": [
    "events_eager[12].Jet.phi"
   ]
  },
  {
   "cell_type": "markdown",
   "id": "82f95760-4d5d-41e9-918e-5581bcada635",
   "metadata": {
    "tags": []
   },
   "source": [
    "Or, we can look at jets' $\\phi$ across (in principle, all) events at once. This is a window into the columnar framework that we explore more in the following notebooks - the idea is that if we want to access jet $\\phi$ in each event, we can refer to all those jets' $\\phi$ at once.\n",
    "\n",
    "Of course, we have 5070 events here, so we can't conveniently print them all at once."
   ]
  },
  {
   "cell_type": "code",
   "execution_count": 11,
   "id": "c56932a6-e94b-47e6-b8b1-fea0544ee5b6",
   "metadata": {
    "tags": []
   },
   "outputs": [
    {
     "data": {
      "text/html": [
       "<pre>[[-0.238],\n",
       " [-0.282],\n",
       " [-0.896, -0.525, 0.791],\n",
       " [2.25, 0.717],\n",
       " [-0.957],\n",
       " [-0.0245, 3.1],\n",
       " [2.61, -1.31, 0.739],\n",
       " [0.862, -0.286, -0.515, 0.425, -2.54, 1.22],\n",
       " [-0.514],\n",
       " [0.421, 0.377, -1.85, -0.104, 1.26, -2.17, -1.66],\n",
       " ...,\n",
       " [-0.718, -2.42, -1.98, 0.241, 2.05, -1.69],\n",
       " [-1.24, -1.61, -0.623, 2.19],\n",
       " [-0.823, -0.344, 0.695],\n",
       " [-1.18, 0.673, 2.06],\n",
       " [-0.358, -1.9, -0.0518, 1.26, 1.62],\n",
       " [-2.23, 0.808, 2.3, -2.75],\n",
       " [0.279, -1.66, -0.358, -0.476, -0.967, 0.131, 2.08, 0.364],\n",
       " [0.878, 0.374, -2.91, 2.81, -2.44, -0.946, -2.91, -0.364],\n",
       " [2.73, -3.06, -2.43, 2.56, -1.21, -0.729, -2.55]]\n",
       "------------------------------------------------------------\n",
       "backend: cpu\n",
       "nbytes: 117.2 kB\n",
       "type: 5070 * var * float32[parameters={&quot;__doc__&quot;: &quot;phi&quot;}]</pre>"
      ],
      "text/plain": [
       "<Array [[-0.238], ..., [2.73, ..., -2.55]] type='5070 * var * float32[param...'>"
      ]
     },
     "execution_count": 11,
     "metadata": {},
     "output_type": "execute_result"
    }
   ],
   "source": [
    "events_eager.Jet.phi"
   ]
  },
  {
   "cell_type": "code",
   "execution_count": null,
   "id": "f02d3183-d07d-4832-a2c9-c8fe183ad86b",
   "metadata": {},
   "outputs": [],
   "source": []
  }
 ],
 "metadata": {
  "kernelspec": {
   "display_name": "Python 3 (ipykernel)",
   "language": "python",
   "name": "python3"
  },
  "language_info": {
   "codemirror_mode": {
    "name": "ipython",
    "version": 3
   },
   "file_extension": ".py",
   "mimetype": "text/x-python",
   "name": "python",
   "nbconvert_exporter": "python",
   "pygments_lexer": "ipython3",
   "version": "3.12.9"
  }
 },
 "nbformat": 4,
 "nbformat_minor": 5
}
