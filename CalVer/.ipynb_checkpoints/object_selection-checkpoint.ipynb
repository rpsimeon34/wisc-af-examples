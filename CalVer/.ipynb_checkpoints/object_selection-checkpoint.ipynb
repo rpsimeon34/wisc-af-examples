{
 "cells": [
  {
   "cell_type": "markdown",
   "id": "65f7045a-688d-4ddf-accf-9fca964aff59",
   "metadata": {},
   "source": [
    "# Object Selection Example\n",
    "\n",
    "This notebook looks at how you can apply selections on NanoAOD objects with Awkward Array. We'll do this in a single event, as well as across multiple events simultaneously.\n",
    "\n",
    "As in the event counting notebook, you will need to have run the appropriate `voms-proxy-init` command to be able to access the root file in this notebook.\n",
    "\n",
    "We'll start by getting the events from one file, like in the previous example."
   ]
  },
  {
   "cell_type": "code",
   "execution_count": 1,
   "id": "4e73dc85-b498-4e9a-88e9-f08020df7e9a",
   "metadata": {
    "tags": []
   },
   "outputs": [
    {
     "name": "stderr",
     "output_type": "stream",
     "text": [
      "/opt/conda/lib/python3.10/site-packages/pandas/core/computation/expressions.py:21: UserWarning: Pandas requires version '2.8.4' or newer of 'numexpr' (version '2.7.3' currently installed).\n",
      "  from pandas.core.computation.check import NUMEXPR_INSTALLED\n",
      "/opt/conda/lib/python3.10/site-packages/coffea/nanoevents/methods/candidate.py:11: FutureWarning: In version 2024.7.0 (target date: 2024-06-30 11:59:59-05:00), this will be an error.\n",
      "To raise these warnings as errors (and get stack traces to find out where they're called), run\n",
      "    import warnings\n",
      "    warnings.filterwarnings(\"error\", module=\"coffea.*\")\n",
      "after the first `import coffea` or use `@pytest.mark.filterwarnings(\"error:::coffea.*\")` in pytest.\n",
      "Issue: coffea.nanoevents.methods.vector will be removed and replaced with scikit-hep vector. Nanoevents schemas internal to coffea will be migrated. Otherwise please consider using that package!.\n",
      "  from coffea.nanoevents.methods import vector\n"
     ]
    },
    {
     "name": "stdout",
     "output_type": "stream",
     "text": [
      "Events loaded\n"
     ]
    }
   ],
   "source": [
    "import awkward as ak\n",
    "import numpy as np\n",
    "from coffea.nanoevents import NanoEventsFactory\n",
    "from coffea.analysis_tools import PackedSelection\n",
    "\n",
    "redirector = \"root://cmsxrootd.fnal.gov//\"\n",
    "file = redirector+\"/store/mc/RunIISummer20UL17NanoAODv9/Z2JetsToNuNu_M-50_LHEFilterPtZ-400ToInf_MatchEWPDG20_TuneCP5_13TeV-amcatnloFXFX-pythia8/NANOAODSIM/106X_mc2017_realistic_v9-v2/2510000/012B57B0-38DB-8246-B875-2E5E4625C134.root\"\n",
    "events = NanoEventsFactory.from_root(\n",
    "        file+\":Events\",\n",
    "    ).events()\n",
    "print(\"Events loaded\")"
   ]
  },
  {
   "cell_type": "markdown",
   "id": "8c37fc22-fee0-459a-853a-76c86afbc1f3",
   "metadata": {},
   "source": [
    "## One Event\n",
    "\n",
    "Let's grab the first event, and then just its AK4 jets. We can see the $p_t$ of the jets in the event as before."
   ]
  },
  {
   "cell_type": "code",
   "execution_count": 2,
   "id": "e29b609c-f8b4-4899-8500-71abafcec565",
   "metadata": {},
   "outputs": [
    {
     "name": "stdout",
     "output_type": "stream",
     "text": [
      "p_t of AK4 jets in first event: [489, 72.1, 45.2, 41.8, 35.7, 22.8, 20, 15.7, 15.6]\n"
     ]
    }
   ],
   "source": [
    "event0 = events[0]\n",
    "jets0 = event0.Jet\n",
    "print(f\"p_t of AK4 jets in first event: {jets0.pt.compute()}\")"
   ]
  },
  {
   "cell_type": "markdown",
   "id": "4b684ef3-b3fe-4274-afba-2ee22b46b899",
   "metadata": {},
   "source": [
    "Suppose we want only jets with at least 30 GeV of $p_t$. We can create a filter as follows. In our filter, an entry is True if the corresponding jet has > 30 GeV, and is False otherwise."
   ]
  },
  {
   "cell_type": "code",
   "execution_count": 3,
   "id": "85f24526-185e-4185-bc94-c2c85110c6fe",
   "metadata": {},
   "outputs": [
    {
     "name": "stdout",
     "output_type": "stream",
     "text": [
      "Our p_t filter for the first event: [True, True, True, True, True, False, False, False, False]\n"
     ]
    }
   ],
   "source": [
    "pt_filter0 = jets0.pt > 30\n",
    "print(f\"Our p_t filter for the first event: {pt_filter0.compute()}\")"
   ]
  },
  {
   "cell_type": "markdown",
   "id": "f41c3340-ad96-46a0-903e-26c048e7b5ce",
   "metadata": {},
   "source": [
    "Now, we can filter out the jets we want. We'll print the filtered jets' $p_t$ to confirm that this worked."
   ]
  },
  {
   "cell_type": "code",
   "execution_count": 4,
   "id": "65481e58-fb85-4764-8aea-ec43b7f3e597",
   "metadata": {},
   "outputs": [
    {
     "name": "stdout",
     "output_type": "stream",
     "text": [
      "p_t of AK4 jets in first event after filtering: [489, 72.1, 45.2, 41.8, 35.7]\n",
      "eta of AK4 jets in first event after filtering: [0.811, -2.01, -1.83, -2.32, 1.71]\n"
     ]
    }
   ],
   "source": [
    "filtered_jets0 = jets0[pt_filter0]\n",
    "print(f\"p_t of AK4 jets in first event after filtering: {filtered_jets0.pt.compute()}\")\n",
    "print(f\"eta of AK4 jets in first event after filtering: {filtered_jets0.eta.compute()}\")"
   ]
  },
  {
   "cell_type": "markdown",
   "id": "c3a241e1-f715-4dc6-ac71-ee8045cab32a",
   "metadata": {},
   "source": [
    "We can further filter on eta. Suppose we only want jets with $|\\eta|$ < 2.0."
   ]
  },
  {
   "cell_type": "code",
   "execution_count": 5,
   "id": "ffad0073-88e7-43ae-bb26-e5b3effd7053",
   "metadata": {},
   "outputs": [
    {
     "name": "stdout",
     "output_type": "stream",
     "text": [
      "p_t of AK4 jets in first event after filtering twice: [489, 45.2, 35.7]\n",
      "eta of AK4 jets in first event after filtering twice: [0.811, -1.83, 1.71]\n"
     ]
    }
   ],
   "source": [
    "twice_filtered_jets0 = filtered_jets0[abs(filtered_jets0.eta) < 2.0]\n",
    "print(f\"p_t of AK4 jets in first event after filtering twice: {twice_filtered_jets0.pt.compute()}\")\n",
    "print(f\"eta of AK4 jets in first event after filtering twice: {twice_filtered_jets0.eta.compute()}\")"
   ]
  },
  {
   "cell_type": "markdown",
   "id": "4720044e-fdee-43ae-bddf-5ce03cda3e72",
   "metadata": {},
   "source": [
    "We also could have done those both at once by performing logical operations on the filters. For example, this gives the same set of jets as the above:"
   ]
  },
  {
   "cell_type": "code",
   "execution_count": 6,
   "id": "6e9eb015-42ad-4cad-b6cc-184fe78e5f74",
   "metadata": {},
   "outputs": [
    {
     "name": "stdout",
     "output_type": "stream",
     "text": [
      "p_t of AK4 jets in first event with both filters: [489, 45.2, 35.7]\n",
      "eta of AK4 jets in first event with both filters: [0.811, -1.83, 1.71]\n"
     ]
    }
   ],
   "source": [
    "also_twice_filtered_jets0 = jets0[(jets0.pt > 30) & (abs(jets0.eta) < 2.0)]\n",
    "print(f\"p_t of AK4 jets in first event with both filters: {also_twice_filtered_jets0.pt.compute()}\")\n",
    "print(f\"eta of AK4 jets in first event with both filters: {also_twice_filtered_jets0.eta.compute()}\")"
   ]
  },
  {
   "cell_type": "markdown",
   "id": "588d87e1-7c40-4631-9a10-46326b6e1940",
   "metadata": {},
   "source": [
    "## Multiple Events\n",
    "\n",
    "To apply the same selections on multiple events, we can use the same syntax as above, just replacing `event0` with `events`."
   ]
  },
  {
   "cell_type": "code",
   "execution_count": 8,
   "id": "0c8a359c-806e-4e17-8350-54a4d828c18d",
   "metadata": {},
   "outputs": [],
   "source": [
    "jets = events.Jet\n",
    "pt_filter = jets.pt > 30\n",
    "eta_filter = abs(jets.eta) < 2.0\n",
    "filtered_jets = jets[pt_filter & eta_filter]"
   ]
  },
  {
   "cell_type": "markdown",
   "id": "051bca8b-50f2-4526-bd71-76035ea2968a",
   "metadata": {},
   "source": [
    "To see that this worked, let's look at the pt and eta of jets in the first event before and after filtering. It should be the same as what we got in the last section."
   ]
  },
  {
   "cell_type": "code",
   "execution_count": 9,
   "id": "d0d10688-f297-44f6-8a40-c7f3158b798c",
   "metadata": {},
   "outputs": [
    {
     "name": "stdout",
     "output_type": "stream",
     "text": [
      "p_t of AK4 jets in first event before filtering: [489, 72.1, 45.2, 41.8, 35.7, 22.8, 20, 15.7, 15.6]\n",
      "eta of AK4 jets in first event before filtering: [0.811, -2.01, -1.83, -2.32, 1.71, -3.26, 1.29, 2.1, 1.15]\n",
      "p_t of AK4 jets in first event after filtering: [489, 45.2, 35.7]\n",
      "eta of AK4 jets in first event after filtering: [0.811, -1.83, 1.71]\n"
     ]
    }
   ],
   "source": [
    "print(f\"p_t of AK4 jets in first event before filtering: {jets[0].pt.compute()}\")\n",
    "print(f\"eta of AK4 jets in first event before filtering: {jets[0].eta.compute()}\")\n",
    "print(f\"p_t of AK4 jets in first event after filtering: {filtered_jets[0].pt.compute()}\")\n",
    "print(f\"eta of AK4 jets in first event after filtering: {filtered_jets[0].eta.compute()}\")"
   ]
  },
  {
   "cell_type": "markdown",
   "id": "851bf5a7-a008-49f6-b5a5-c1945883dbfc",
   "metadata": {},
   "source": [
    "We also made the same selections in the second, and all other events. Looking at the second event:"
   ]
  },
  {
   "cell_type": "code",
   "execution_count": 11,
   "id": "af52fbd9-1927-4b83-8c10-559298968b59",
   "metadata": {},
   "outputs": [
    {
     "name": "stdout",
     "output_type": "stream",
     "text": [
      "p_t of AK4 jets in second event before filtering: [346, 76.1, 29.6, 21.5, 18.9, 17.8, 16.3, 15.7, 15.6]\n",
      "eta of AK4 jets in second event before filtering: [-0.796, -1.54, -0.0024, -4.39, 1.91, -0.403, 4.64, -3.08, -0.805]\n",
      "p_t of AK4 jets in second event after filtering: [346, 76.1]\n",
      "eta of AK4 jets in second event after filtering: [-0.796, -1.54]\n"
     ]
    }
   ],
   "source": [
    "print(f\"p_t of AK4 jets in second event before filtering: {jets[1].pt.compute()}\")\n",
    "print(f\"eta of AK4 jets in second event before filtering: {jets[1].eta.compute()}\")\n",
    "print(f\"p_t of AK4 jets in second event after filtering: {filtered_jets[1].pt.compute()}\")\n",
    "print(f\"eta of AK4 jets in second event after filtering: {filtered_jets[1].eta.compute()}\")"
   ]
  },
  {
   "cell_type": "markdown",
   "id": "ad11b3ff-85b6-4549-ad1c-19bc769c786c",
   "metadata": {},
   "source": [
    "## Masking\n",
    "\n",
    "Awkward array provides another way to select objects, but without losing information about where the dropped object were, or how many were dropped. This is with `ak.mask`.\n",
    "\n",
    "Instead of dropping jets that don't meet the requirements, they are replaced with None. This can become useful when combining multiple selections for more complicated requirements. We give an example of this with the first event in our file."
   ]
  },
  {
   "cell_type": "code",
   "execution_count": 27,
   "id": "4301a92e-ac2d-40f3-9660-4659a4e2d632",
   "metadata": {},
   "outputs": [
    {
     "name": "stdout",
     "output_type": "stream",
     "text": [
      "Masked array of jets in event 1: [Jet, ...]\n",
      "pt of the masked array of jets in event 1: [489, 72.1, 45.2, 41.8, 35.7, None, None, None, None]\n"
     ]
    }
   ],
   "source": [
    "jets0 = events.Jet[0]\n",
    "pt_filter0 = jets0.pt > 30\n",
    "masked_jets0 = ak.mask(jets0,pt_filter0)\n",
    "print(f\"Masked array of jets in event 1: {masked_jets0.compute()}\")\n",
    "print(f\"pt of the masked array of jets in event 1: {masked_jets0.pt.compute()}\")"
   ]
  },
  {
   "cell_type": "code",
   "execution_count": null,
   "id": "cf4d94f5-7c5f-4da3-9680-07a481312bf8",
   "metadata": {},
   "outputs": [],
   "source": []
  }
 ],
 "metadata": {
  "kernelspec": {
   "display_name": "Python 3 (ipykernel)",
   "language": "python",
   "name": "python3"
  },
  "language_info": {
   "codemirror_mode": {
    "name": "ipython",
    "version": 3
   },
   "file_extension": ".py",
   "mimetype": "text/x-python",
   "name": "python",
   "nbconvert_exporter": "python",
   "pygments_lexer": "ipython3",
   "version": "3.10.12"
  }
 },
 "nbformat": 4,
 "nbformat_minor": 5
}
