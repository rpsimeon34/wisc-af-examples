{
 "cells": [
  {
   "cell_type": "markdown",
   "id": "9662d157-9a47-498a-a4d1-e682f8635931",
   "metadata": {},
   "source": [
    "# Event Counting Example\n",
    "\n",
    "This notebook shows you how to open individual root files, and then do some quick exploration of the contents of those files with Awkward Array.\n",
    "\n",
    "To start, we create a list of some example files to use. These will be accessed remotely through XRootD, so make sure that you perform a `voms-proxy-init` command before running the notebook. You can do this in a terminal window within the Jupyterlab interface."
   ]
  },
  {
   "cell_type": "code",
   "execution_count": 4,
   "id": "bef9025a-3a7a-4cd9-a232-efb2d6ec041f",
   "metadata": {
    "tags": []
   },
   "outputs": [],
   "source": [
    "import awkward as ak\n",
    "import numpy as np\n",
    "from coffea.nanoevents import NanoEventsFactory, NanoAODSchema\n",
    "\n",
    "redirector = \"root://cmsxrootd.fnal.gov//\"\n",
    "files = [\n",
    "    redirector+\"/store/mc/RunIISummer20UL17NanoAODv9/Z1JetsToNuNu_M-50_LHEFilterPtZ-50To150_MatchEWPDG20_TuneCP5_13TeV-amcatnloFXFX-pythia8/NANOAODSIM/106X_mc2017_realistic_v9-v2/100000/E8AEC1F0-3899-664D-84E2-A775A5D5D2B6.root\",\n",
    "    redirector+\"/store/mc/RunIISummer20UL17NanoAODv9/Z1JetsToNuNu_M-50_LHEFilterPtZ-50To150_MatchEWPDG20_TuneCP5_13TeV-amcatnloFXFX-pythia8/NANOAODSIM/106X_mc2017_realistic_v9-v2/230000/7C6C5ABC-F034-1945-90B9-E4906A6C1988.root\",\n",
    "    #Z1Jets_NuNu_ZpT_150To250_17\n",
    "    redirector+\"/store/mc/RunIISummer20UL17NanoAODv9/Z1JetsToNuNu_M-50_LHEFilterPtZ-150To250_MatchEWPDG20_TuneCP5_13TeV-amcatnloFXFX-pythia8/NANOAODSIM/106X_mc2017_realistic_v9-v2/100000/E5093A2F-49A7-194C-AB9F-2B66DACB00A2.root\",\n",
    "    redirector+\"/store/mc/RunIISummer20UL17NanoAODv9/Z1JetsToNuNu_M-50_LHEFilterPtZ-150To250_MatchEWPDG20_TuneCP5_13TeV-amcatnloFXFX-pythia8/NANOAODSIM/106X_mc2017_realistic_v9-v2/230000/56A8AA83-6151-B14D-9F80-975164A68B14.root\",\n",
    "    #Z1Jets_NuNu_ZpT_250To400_17\n",
    "    redirector+\"/store/mc/RunIISummer20UL17NanoAODv9/Z1JetsToNuNu_M-50_LHEFilterPtZ-250To400_MatchEWPDG20_TuneCP5_13TeV-amcatnloFXFX-pythia8/NANOAODSIM/106X_mc2017_realistic_v9-v2/100000/A7E2FD5B-6F80-E242-934D-7C9B3AEC6EE8.root\",\n",
    "    redirector+\"/store/mc/RunIISummer20UL17NanoAODv9/Z1JetsToNuNu_M-50_LHEFilterPtZ-250To400_MatchEWPDG20_TuneCP5_13TeV-amcatnloFXFX-pythia8/NANOAODSIM/106X_mc2017_realistic_v9-v2/100000/CE06E0D0-AD05-9548-B6CA-2C2722C73174.root\",\n",
    "    #Z1Jets_NuNu_ZpT_400Toinf_17\n",
    "    redirector+\"/store/mc/RunIISummer20UL17NanoAODv9/Z1JetsToNuNu_M-50_LHEFilterPtZ-400ToInf_MatchEWPDG20_TuneCP5_13TeV-amcatnloFXFX-pythia8/NANOAODSIM/106X_mc2017_realistic_v9-v2/100000/1AB5032D-1B75-2241-A309-CC2A872A63FC.root\",\n",
    "    redirector+\"/store/mc/RunIISummer20UL17NanoAODv9/Z1JetsToNuNu_M-50_LHEFilterPtZ-400ToInf_MatchEWPDG20_TuneCP5_13TeV-amcatnloFXFX-pythia8/NANOAODSIM/106X_mc2017_realistic_v9-v2/230000/0289B401-1C1E-1244-922A-0556DAF328E2.root\"\n",
    "]"
   ]
  },
  {
   "cell_type": "markdown",
   "id": "4e993450-3224-4ce7-bd12-104c9f35f28d",
   "metadata": {},
   "source": [
    "We can go through this list of files and print the number of events in each one using coffea's NanoEventsFactory."
   ]
  },
  {
   "cell_type": "code",
   "execution_count": 5,
   "id": "6a14da51-4f6b-42cb-80a4-c548e692c2b6",
   "metadata": {},
   "outputs": [
    {
     "name": "stdout",
     "output_type": "stream",
     "text": [
      "35889\n",
      "497627\n",
      "208207\n",
      "17997\n",
      "5070\n",
      "61090\n",
      "16356\n",
      "30391\n"
     ]
    }
   ],
   "source": [
    "for f in files:\n",
    "    events = NanoEventsFactory.from_root(\n",
    "        f,\n",
    "        schemaclass=NanoAODSchema.v6,\n",
    "    ).events()\n",
    "    print(len(events))"
   ]
  },
  {
   "cell_type": "markdown",
   "id": "f6b1aec9-7aa0-44c8-b5b9-d616f3ee2cae",
   "metadata": {},
   "source": [
    "The expected output is:\n",
    "\n",
    "35889<br>\n",
    "497627<br>\n",
    "208207<br>\n",
    "17997<br>\n",
    "5070<br>\n",
    "61090<br>\n",
    "16356<br>\n",
    "30391<br>\n",
    "\n",
    "Now, let's grab one particular file and look at some of its contents."
   ]
  },
  {
   "cell_type": "code",
   "execution_count": 6,
   "id": "033eb6e3-bb2f-4784-9874-369c690e9acc",
   "metadata": {},
   "outputs": [],
   "source": [
    "filename = redirector+\"/store/mc/RunIISummer20UL17NanoAODv9/Z1JetsToNuNu_M-50_LHEFilterPtZ-250To400_MatchEWPDG20_TuneCP5_13TeV-amcatnloFXFX-pythia8/NANOAODSIM/106X_mc2017_realistic_v9-v2/100000/A7E2FD5B-6F80-E242-934D-7C9B3AEC6EE8.root\"\n",
    "events = NanoEventsFactory.from_root(filename,schemaclass=NanoAODSchema.v6).events()"
   ]
  },
  {
   "cell_type": "markdown",
   "id": "cf667fe4-19d9-45a2-bd90-9fb0462943ae",
   "metadata": {},
   "source": [
    "To access branches in the events array, the syntax is `events.branch_name`. A special case is `events.fields`, which displays all things you can access with the `events.something` syntax."
   ]
  },
  {
   "cell_type": "code",
   "execution_count": 8,
   "id": "b34c6802-3888-4f0e-a99c-3a2da8cf2ca7",
   "metadata": {},
   "outputs": [
    {
     "name": "stdout",
     "output_type": "stream",
     "text": [
      "Fields in events are: ['MET', 'fixedGridRhoFastjetCentralNeutral', 'RawPuppiMET', 'L1PreFiringWeight', 'L1Reco', 'DeepMETResolutionTune', 'GenVisTau', 'TkMET', 'SoftActivityJetHT2', 'luminosityBlock', 'LHEScaleWeight', 'genWeight', 'SoftActivityJetHT', 'DeepMETResponseTune', 'SoftActivityJetHT10', 'FsrPhoton', 'GenDressedLepton', 'SoftActivityJetHT5', 'Tau', 'SubGenJetAK8', 'LHE', 'HTXS', 'FatJet', 'GenMET', 'Jet', 'GenJet', 'run', 'genTtbarId', 'OtherPV', 'event', 'L1simulation', 'LHEReweightingWeight', 'SV', 'PSWeight', 'GenJetAK8', 'Photon', 'HLT', 'PuppiMET', 'IsoTrack', 'LowPtElectron', 'Electron', 'GenIsolatedPhoton', 'LHEPdfWeight', 'GenPart', 'CorrT1METJet', 'fixedGridRhoFastjetCentral', 'Generator', 'Flag', 'SoftActivityJetNjets2', 'RawMET', 'fixedGridRhoFastjetCentralCalo', 'fixedGridRhoFastjetAll', 'SoftActivityJetNjets10', 'L1', 'Muon', 'SubJet', 'Pileup', 'HLTriggerFinalPath', 'boostedTau', 'SoftActivityJetNjets5', 'CaloMET', 'fixedGridRhoFastjetCentralChargedPileUp', 'SoftActivityJet', 'btagWeight', 'LHEWeight', 'PV', 'LHEPart', 'HLTriggerFirstPath', 'ChsMET', 'TrigObj', 'GenVtx']\n"
     ]
    }
   ],
   "source": [
    "print(f\"Fields in events are: {events.fields}\")"
   ]
  },
  {
   "cell_type": "markdown",
   "id": "092ef706-4153-493d-a967-9793b9a84e6c",
   "metadata": {},
   "source": [
    "To get more information on a field in the array, one can do `events.field_name?`. For example, to learn more about the Jet array,"
   ]
  },
  {
   "cell_type": "code",
   "execution_count": 10,
   "id": "c960b0ff-bc6c-4331-960a-d8df94343785",
   "metadata": {},
   "outputs": [
    {
     "data": {
      "text/plain": [
       "\u001b[0;31mType:\u001b[0m            JetArray\n",
       "\u001b[0;31mString form:\u001b[0m     [[Jet], [Jet], [Jet, Jet, Jet], ... Jet], [Jet, Jet, Jet, Jet, Jet, Jet, Jet]]\n",
       "\u001b[0;31mLength:\u001b[0m          5070\n",
       "\u001b[0;31mFile:\u001b[0m            /opt/conda/lib/python3.10/site-packages/coffea/nanoevents/methods/nanoaod.py\n",
       "\u001b[0;31mDocstring:\u001b[0m       slimmedJets, i.e. ak4 PFJets CHS with JECs applied, after basic selection (pt > 15)\n",
       "\u001b[0;31mClass docstring:\u001b[0m NanoAOD narrow radius jet object"
      ]
     },
     "metadata": {},
     "output_type": "display_data"
    }
   ],
   "source": [
    "events.Jet?"
   ]
  },
  {
   "cell_type": "markdown",
   "id": "8283632b-b890-4686-93d4-2532e566cc26",
   "metadata": {},
   "source": [
    "Now, let's get two particular jets and check them out. Here, we look at the $12^\\text{th}$ event and take the first and second jet in the array in that event."
   ]
  },
  {
   "cell_type": "code",
   "execution_count": 12,
   "id": "8bdf4a83-67de-4c7b-af8a-fdcc56658100",
   "metadata": {
    "tags": []
   },
   "outputs": [
    {
     "name": "stdout",
     "output_type": "stream",
     "text": [
      "Jet 1's phi: -1.04\n",
      "Jet 2's phi: 1.30\n",
      "Jet 1's eta: -0.21\n",
      "Jet 2's eta: 1.73\n",
      "The delta-R between the jets: 3.04\n",
      "Manually calculated delta-R between the jets: 3.04\n"
     ]
    }
   ],
   "source": [
    "jet1 = events.Jet[12][0]\n",
    "jet2 = events.Jet[12][1]\n",
    "print(f\"Jet 1's phi: {jet1.phi:.2f}\")\n",
    "print(f\"Jet 2's phi: {jet2.phi:.2f}\")\n",
    "print(f\"Jet 1's eta: {jet1.eta:.2f}\")\n",
    "print(f\"Jet 2's eta: {jet2.eta:.2f}\")\n",
    "print(f\"The delta-R between the jets: {jet1.delta_r(jet2):.2f}\") #Awkward Array has some very useful HEP-centric methods, like delta_r!\n",
    "print(f\"Manually calculated delta-R between the jets: {np.sqrt((jet1.phi-jet2.phi)**2+(jet1.eta-jet2.eta)**2):.2f}\")"
   ]
  },
  {
   "cell_type": "markdown",
   "id": "2918789a-7c02-46eb-844a-e3fb14a89a0d",
   "metadata": {},
   "source": [
    "We could also go to the $12^\\text{th}$ event and look at all the jets' $\\phi$, for example, at once."
   ]
  },
  {
   "cell_type": "code",
   "execution_count": 14,
   "id": "ab86c868-a1d4-4f21-a485-76126f450047",
   "metadata": {
    "tags": []
   },
   "outputs": [
    {
     "data": {
      "text/plain": [
       "<Array [-1.04, 1.3, -2.61, 2.24, 0.46] type='5 * float32[parameters={\"__doc__\": ...'>"
      ]
     },
     "execution_count": 14,
     "metadata": {},
     "output_type": "execute_result"
    }
   ],
   "source": [
    "events[12].Jet.phi"
   ]
  },
  {
   "cell_type": "markdown",
   "id": "82f95760-4d5d-41e9-918e-5581bcada635",
   "metadata": {
    "tags": []
   },
   "source": [
    "Or, we can look at jets' $\\phi$ across (in principle, all) events at once. This is a window into the columnar framework that we explore more in the following notebooks - the idea is that if we want to access jet $\\phi$ in each event, we can refer to all those jets' $\\phi$ at once.\n",
    "\n",
    "Of course, we have 5070 events here, so we can't conveniently print them all at once."
   ]
  },
  {
   "cell_type": "code",
   "execution_count": 16,
   "id": "c56932a6-e94b-47e6-b8b1-fea0544ee5b6",
   "metadata": {
    "tags": []
   },
   "outputs": [
    {
     "data": {
      "text/plain": [
       "<Array [[-0.238], ... -1.21, -0.729, -2.55]] type='5070 * var * float32[paramete...'>"
      ]
     },
     "execution_count": 16,
     "metadata": {},
     "output_type": "execute_result"
    }
   ],
   "source": [
    "events.Jet.phi"
   ]
  }
 ],
 "metadata": {
  "kernelspec": {
   "display_name": "Python 3 (ipykernel)",
   "language": "python",
   "name": "python3"
  },
  "language_info": {
   "codemirror_mode": {
    "name": "ipython",
    "version": 3
   },
   "file_extension": ".py",
   "mimetype": "text/x-python",
   "name": "python",
   "nbconvert_exporter": "python",
   "pygments_lexer": "ipython3",
   "version": "3.10.8"
  }
 },
 "nbformat": 4,
 "nbformat_minor": 5
}
