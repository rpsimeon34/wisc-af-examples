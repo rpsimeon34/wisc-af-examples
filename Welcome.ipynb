{
 "cells": [
  {
   "cell_type": "markdown",
   "id": "70b2c7d7-96d6-4340-bbe8-e2cef1b4d83a",
   "metadata": {},
   "source": [
    "# Welcome\n",
    "\n",
    "<div>\n",
    "<img src=\"uw-madison-logo.jpeg\" width=\"150\"/>\n",
    "</div>\n",
    "\n",
    "Welcome to the Analysis Facility at the University of Wisconsin - Madison!\n",
    "\n",
    "The Analysis Facility gives users access to the UW Tier-2 computing cluster, and is configured around the analysis tools and concepts of [coffea](https://coffeateam.github.io/coffea/). So, it is best suited for users looking for access to coffea and associated tools and/or distributed computing resources.\n",
    "\n",
    "## Quickstart (WIP)\n",
    "Here in the Analysis Facility's Jupyterhub, users can run code through Jupyter notebooks, or through the terminal. All code runs in an environment with coffea and common analysis tools available.\n",
    "\n",
    "To open a new notebook or a terminal window, click the \"plus\" sign next to the words \"Welcome.ipynb\" at the top of this notebook.\n",
    "\n",
    "**Important:** To leave the Analysis Facility, first make sure you save any notebooks you edited. Then, please go to the top left of your browser window (next to the orange Jupyter logo), and click File -> Hub Control Panel. There, please select \"Shut Down Server\", and then logout in the top right corner of your window. You can then close your browser window.\n",
    "\n",
    "If your work requires user-specific setup steps (ie: creating a VOMS proxy for data access), this should be done in a terminal window before running your workflow. To obtain a voms proxy, add '-vomses /etc/vomses' to the voms-proxy-init command.\n",
    "\n",
    "## Examples (WIP)\n",
    "These examples are listed very roughly in increasing order of complexity.\n",
    "\n",
    "Note that many of these examples currently requires access to CMS XRootD, so you will need to be able to create a VOMS proxy in a terminal window before running the notebooks. Examples that do not require this are a work in progress. \n",
    "\n",
    "Doing basic data exploration, such as counting the events in a file or seeing what physics objects are available: [Event counter notebook](./event_counter.ipynb).\n",
    "\n",
    "Making object selections in the columnar framework (using Awkward Array): [Object selection notebook](./object_selection.ipynb).\n",
    "\n",
    "Making event selections, with and without manipulating physics objects: [Event selection notebook](./event_selection.ipynb).\n",
    "\n",
    "Filling and plotting histograms with Hist, mplhep, and Awkward array: [Histograms notebook](./fill_histogram.ipynb).\n",
    "\n",
    "Accumulating data, important as soon as you want to distribute your work onto multiple cores (using coffea and Hist): [Accumulators and Hist notebook](./accumulators_Hist_demo.ipynb).\n",
    "\n",
    "Using a coffea processor to do distributed computations with Dask (can be used as a template): [Processors and Dask notebook](./coffea_dask_processor.ipynb).\n",
    "\n",
    "### Non-Coffea (WIP)\n",
    "These examples do not involve coffea, but demonstrate other foreseeable use-cases for the Analysis Facility.\n",
    "\n",
    "Opening a file through XRootD with uproot: [Uproot file load notebook](./uproot_file_load.ipynb).\n",
    "\n",
    "Doing distributed (Dask) computations without coffea. This does not use any CMS data, and so does not need CMS XRootD/VOMS proxy access: [Dask basics notebook](./dask_basics.ipynb)."
   ]
  },
  {
   "cell_type": "code",
   "execution_count": null,
   "id": "ece4fd9c-a7aa-4f47-8c46-b31e78fb2625",
   "metadata": {},
   "outputs": [],
   "source": []
  }
 ],
 "metadata": {
  "kernelspec": {
   "display_name": "Python 3 (ipykernel)",
   "language": "python",
   "name": "python3"
  },
  "language_info": {
   "codemirror_mode": {
    "name": "ipython",
    "version": 3
   },
   "file_extension": ".py",
   "mimetype": "text/x-python",
   "name": "python",
   "nbconvert_exporter": "python",
   "pygments_lexer": "ipython3",
   "version": "3.10.8"
  }
 },
 "nbformat": 4,
 "nbformat_minor": 5
}
