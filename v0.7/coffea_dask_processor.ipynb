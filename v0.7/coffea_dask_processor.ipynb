{
 "cells": [
  {
   "cell_type": "markdown",
   "id": "5d25372d-bee7-4bfa-b8f8-e725bf6654ca",
   "metadata": {},
   "source": [
    "# Distributed Coffea Jobs at UW Analysis Facility\n",
    "\n",
    "This notebook demonstrates how one can run a full coffea (version pre-2023 ie: 0.7) analysis with Condor jobs on the Analysis Facility's cluster. As with the other notebooks, you should have already run your `voms-proxy-init` command in a terminal window before running anything here, as this example does access files remotely with XRootD.\n",
    "\n",
    "As of January 2024, this notebook can also be used as a template for many coffea v0.7 analyses. We hope to develop some simplifications in terms of the Condor setup, but this template should at least get an analysis up and running with some tweaks."
   ]
  },
  {
   "cell_type": "code",
   "execution_count": 7,
   "id": "f1ce613c-4f5f-48ef-9bc1-9bcfc410fdab",
   "metadata": {
    "tags": []
   },
   "outputs": [],
   "source": [
    "from dask.distributed import Client\n",
    "import os\n",
    "from dask_jobqueue import HTCondorCluster\n",
    "import awkward as ak\n",
    "import coffea.processor as processor\n",
    "from hist import Hist, axis\n",
    "from coffea.analysis_tools import PackedSelection\n",
    "from coffea.nanoevents import NanoAODSchema\n",
    "from coffea.nanoevents.methods import nanoaod"
   ]
  },
  {
   "cell_type": "markdown",
   "id": "5d9d504c-bb3f-4313-a26e-fd3804dc10d9",
   "metadata": {},
   "source": [
    "We'll configure some settings here to be used later.\n",
    "\n",
    "`MAX_WORKERS`: The maximum number of Condor workers to try and use at a time.<br>\n",
    "`CHUNKSIZE`: The number of events in one chunk. Unless you have a reason to use something else, 10,000 and 5,000 are decent starting points.<br>\n",
    "`MAX_CHUNKS`: The maximum number of chunks to run over. For example, if you want to run on only 20,000 events and your chunk size is 5,000, you could set MAX_CHUNKS to 4."
   ]
  },
  {
   "cell_type": "code",
   "execution_count": 8,
   "id": "80870c47-a87b-4db5-a290-9faf0a4c7815",
   "metadata": {
    "tags": []
   },
   "outputs": [],
   "source": [
    "MAX_WORKERS = 5\n",
    "CHUNKSIZE = 5000\n",
    "MAX_CHUNKS = None"
   ]
  },
  {
   "cell_type": "markdown",
   "id": "1ff142ae-b3f2-460e-9ede-efa1d5485d25",
   "metadata": {},
   "source": [
    "Next, we define our fileset. The fileset should be a dictionary mapping dataset names to lists of files. We are using XRootD for file access here, so we give the file addresses with the FNAL redirector. You can also put local files here."
   ]
  },
  {
   "cell_type": "code",
   "execution_count": 17,
   "id": "c13186bd-cc62-4a65-9465-43d28c338c4a",
   "metadata": {
    "tags": []
   },
   "outputs": [],
   "source": [
    "redirector = \"root://cmsxrootd.fnal.gov//\"\n",
    "\n",
    "ll_fileset = {\n",
    "    \"ggZH_HToBB_ZToLL\": [\n",
    "        redirector+\"/store/mc/RunIISummer20UL18NanoAODv9/ggZH_HToBB_ZToLL_M-125_TuneCP5_13TeV-powheg-pythia8/NANOAODSIM/106X_upgrade2018_realistic_v16_L1v1-v1/2520000/1412A75E-6CBA-5142-914D-2FE8356F680C.root\",\n",
    "        redirector+\"/store/mc/RunIISummer20UL18NanoAODv9/ggZH_HToBB_ZToLL_M-125_TuneCP5_13TeV-powheg-pythia8/NANOAODSIM/106X_upgrade2018_realistic_v16_L1v1-v1/2520000/7D3C5290-C72C-B140-9233-D7DA01D4B183.root\"\n",
    "    ],\n",
    "    \"ZH_HToBB_ZToLL\": [\n",
    "        redirector+\"/store/mc/RunIISummer20UL18NanoAODv9/ZH_HToBB_ZToLL_M-125_TuneCP5_13TeV-powheg-pythia8/NANOAODSIM/106X_upgrade2018_realistic_v16_L1v1-v1/2520000/56097D21-719D-564E-8E4A-C65214F252F9.root\",\n",
    "        redirector+\"/store/mc/RunIISummer20UL18NanoAODv9/ZH_HToBB_ZToLL_M-125_TuneCP5_13TeV-powheg-pythia8/NANOAODSIM/106X_upgrade2018_realistic_v16_L1v1-v1/2820000/FE6AF237-7A43-C640-A0C0-672C18B80526.root\"\n",
    "    ]\n",
    "}"
   ]
  },
  {
   "cell_type": "markdown",
   "id": "4fb47c9c-de93-4c8f-8138-6543637ea3fe",
   "metadata": {},
   "source": [
    "Now, we write the coffea processor. This contains the logic and \"physics\" of our analysis. To make sure the class has the right structure, we inherit from the class `coffea.processor.ProcessorABC`. Our analysis goes primarily under the `process` method, which is mandatory. It should return an accumulatable object, as in the previous example notebook on accumulators and Hist.\n",
    "\n",
    "For more examples of how processors (and other coffea analyses) can look, see [this Github discussion](https://github.com/CoffeaTeam/coffea/discussions/829)."
   ]
  },
  {
   "cell_type": "code",
   "execution_count": 18,
   "id": "67368ce1-6c38-415c-9a8d-f0e7c4e7eae0",
   "metadata": {
    "tags": []
   },
   "outputs": [],
   "source": [
    "class ExampleProcessor(processor.ProcessorABC):\n",
    "\n",
    "    def __init__(self):\n",
    "        #Initialize Coffea processor\n",
    "        ak.behavior.update(nanoaod.behavior)\n",
    "\n",
    "        ### Accumulator for holding histograms and value counts\n",
    "        self._accumulator = {}\n",
    "\n",
    "    @property\n",
    "    def accumulator(self):\n",
    "        return self._accumulator\n",
    "\n",
    "    def process(self,events):\n",
    "        dataset = events.metadata[\"dataset\"]\n",
    "\n",
    "        myAxis = axis.Regular(10,0,100,name='data',label='example data')\n",
    "\n",
    "        output = {}\n",
    "        output[dataset] = {\n",
    "            \"EventCount\": processor.value_accumulator(int),\n",
    "            \"Test\": processor.value_accumulator(int),\n",
    "            \"OtherTest\": processor.value_accumulator(int),\n",
    "            \"MyHist\": Hist(myAxis)\n",
    "        }\n",
    "\n",
    "        #Do some physics here (make cuts, select objects, calculate masses, etc.)\n",
    "        \n",
    "        #Fill in output\n",
    "        output[dataset][\"Test\"] += ak.sum(ak.ones_like(events.Electron.pt))\n",
    "        output[dataset][\"OtherTest\"] += ak.prod(ak.where(events.Electron.charge < 0, 5, -2))\n",
    "        output[dataset][\"EventCount\"] += len(events)\n",
    "        output[dataset][\"MyHist\"].fill(25)\n",
    "\n",
    "        return output\n",
    "\n",
    "    def postprocess(self,accumulator):\n",
    "        return accumulator"
   ]
  },
  {
   "cell_type": "markdown",
   "id": "45dd2865-de95-4162-bd68-80919468b4df",
   "metadata": {},
   "source": [
    "Now, we want to run this processor. We'll do it locally first, which is always good for testing, and then we'll run it on the cluster.\n",
    "\n",
    "We start by making an executor object, which tells coffea how we want to run our processor. In this case, we create an `IterativeExecutor`, which runs locally. Then, we pass that executor, our processor, and our fileset to a `Runner`, which actually runs our analysis code. Note that when we create the runner, we assume the tree of interest in each ROOT file is called \"Events\". One can also run on non-ROOT files like parquet, or with different tree names. For this, see the coffea documentation and examples linked above."
   ]
  },
  {
   "cell_type": "code",
   "execution_count": 19,
   "id": "2bdf52e5-294b-4657-8f27-f58a93da9697",
   "metadata": {},
   "outputs": [
    {
     "name": "stdout",
     "output_type": "stream",
     "text": [
      "Creating runner\n",
      "Using chunksize: 5000 and maxchunks None\n"
     ]
    }
   ],
   "source": [
    "#Create the executor, and have a status bar to show progress\n",
    "local_executor = processor.IterativeExecutor(status=True)\n",
    "\n",
    "#Create the runner\n",
    "print(\"Creating runner\")\n",
    "print(\"Using chunksize: {} and maxchunks {}\".format(CHUNKSIZE,MAX_CHUNKS))\n",
    "runner = processor.Runner(\n",
    "    executor=local_executor,\n",
    "    schema=NanoAODSchema,\n",
    "    chunksize=CHUNKSIZE,\n",
    "    maxchunks=MAX_CHUNKS,\n",
    "    skipbadfiles=True,\n",
    "    xrootdtimeout=300,\n",
    ")"
   ]
  },
  {
   "cell_type": "code",
   "execution_count": 20,
   "id": "3522a37a-821c-48d3-bd3d-53c7427f41ba",
   "metadata": {},
   "outputs": [
    {
     "data": {
      "application/vnd.jupyter.widget-view+json": {
       "model_id": "7a6a9df0d474495ab7666e72159c0c43",
       "version_major": 2,
       "version_minor": 0
      },
      "text/plain": [
       "Output()"
      ]
     },
     "metadata": {},
     "output_type": "display_data"
    },
    {
     "name": "stdout",
     "output_type": "stream",
     "text": [
      "Calling runner\n"
     ]
    },
    {
     "data": {
      "text/html": [
       "<pre style=\"white-space:pre;overflow-x:auto;line-height:normal;font-family:Menlo,'DejaVu Sans Mono',consolas,'Courier New',monospace\"></pre>\n"
      ],
      "text/plain": []
     },
     "metadata": {},
     "output_type": "display_data"
    },
    {
     "data": {
      "text/html": [
       "<pre style=\"white-space:pre;overflow-x:auto;line-height:normal;font-family:Menlo,'DejaVu Sans Mono',consolas,'Courier New',monospace\">\n",
       "</pre>\n"
      ],
      "text/plain": [
       "\n"
      ]
     },
     "metadata": {},
     "output_type": "display_data"
    }
   ],
   "source": [
    "print(\"Calling runner\")\n",
    "ll_results_local = runner(\n",
    "    ll_fileset,\n",
    "    treename=\"Events\",\n",
    "    processor_instance=ExampleProcessor(),\n",
    ")"
   ]
  },
  {
   "cell_type": "markdown",
   "id": "3068c867-6a98-47df-9ecf-69b9b6c995ce",
   "metadata": {},
   "source": [
    "Now that we ran our processor, we can examine the results, and then move on to running our jobs through Condor."
   ]
  },
  {
   "cell_type": "code",
   "execution_count": 21,
   "id": "24b793fe-b076-44a5-b15b-5a5e47c78ac9",
   "metadata": {},
   "outputs": [
    {
     "name": "stdout",
     "output_type": "stream",
     "text": [
      "Dataset: ZH_HToBB_ZToLL\n",
      "Event count: 300312\n",
      "Test value: value_accumulator(int, 337925.0)\n",
      "Other test value: value_accumulator(int, 0)\n",
      "Dataset: ggZH_HToBB_ZToLL\n",
      "Event count: 14000\n",
      "Test value: value_accumulator(int, 19245.0)\n",
      "Other test value: value_accumulator(int, 0)\n"
     ]
    },
    {
     "data": {
      "text/plain": [
       "[StairsArtists(stairs=<matplotlib.patches.StepPatch object at 0x7fe248cc48e0>, errorbar=None, legend_artist=None)]"
      ]
     },
     "execution_count": 21,
     "metadata": {},
     "output_type": "execute_result"
    },
    {
     "data": {
      "image/png": "[encoded data removed]",
      "text/plain": [
       "<Figure size 640x480 with 1 Axes>"
      ]
     },
     "metadata": {},
     "output_type": "display_data"
    }
   ],
   "source": [
    "for dset,results in ll_results_local.items():\n",
    "    print(f\"Dataset: {dset}\")\n",
    "    print(f\"Event count: {results['EventCount'].value}\")\n",
    "    print(f\"Test value: {results['Test']}\")\n",
    "    print(f\"Other test value: {results['OtherTest']}\")\n",
    "\n",
    "ll_results_local[\"ZH_HToBB_ZToLL\"][\"MyHist\"].plot()"
   ]
  },
  {
   "cell_type": "markdown",
   "id": "f17665f7-a823-4850-85b5-1037a6326ffb",
   "metadata": {},
   "source": [
    "This next cell gets you ready to run on Condor, including taking any specifications the user needs to make for the Condor cluster.\n",
    "\n",
    "It is important to make sure that the `+SingularityImage` ClassAd points to the same image as the one that is running JupyterLab right now. To check this, go to the top left corner of JupyterLab and click File->Hub Control Panel. <b>Make sure</b> that the image name there (starting with \"coffeateam/\") matches the `+SingularityImage` value in the cell below. This is a common source of errors."
   ]
  },
  {
   "cell_type": "code",
   "execution_count": 10,
   "id": "6b722d96-5452-4954-a285-95e2c003784e",
   "metadata": {
    "tags": []
   },
   "outputs": [
    {
     "name": "stdout",
     "output_type": "stream",
     "text": [
      "Transferring contents of /afs/hep.wisc.edu/user/rsimeon/examples to workers\n",
      "Condor logs, output files, error files in /scratch/rsimeon\n",
      "Executor created\n"
     ]
    },
    {
     "data": {
      "text/html": [
       "<div>\n",
       "    <div style=\"width: 24px; height: 24px; background-color: #e1e1e1; border: 3px solid #9D9D9D; border-radius: 5px; position: absolute;\"> </div>\n",
       "    <div style=\"margin-left: 48px;\">\n",
       "        <h3 style=\"margin-bottom: 0px;\">Client</h3>\n",
       "        <p style=\"color: #9D9D9D; margin-bottom: 0px;\">Client-b1f745ed-bee0-11ee-8c55-3cecefda85c8</p>\n",
       "        <table style=\"width: 100%; text-align: left;\">\n",
       "\n",
       "        <tr>\n",
       "        \n",
       "            <td style=\"text-align: left;\"><strong>Connection method:</strong> Cluster object</td>\n",
       "            <td style=\"text-align: left;\"><strong>Cluster type:</strong> dask_jobqueue.HTCondorCluster</td>\n",
       "        \n",
       "        </tr>\n",
       "\n",
       "        \n",
       "            <tr>\n",
       "                <td style=\"text-align: left;\">\n",
       "                    <strong>Dashboard: </strong> <a href=\"proxy/8787/status\" target=\"_blank\">proxy/8787/status</a>\n",
       "                </td>\n",
       "                <td style=\"text-align: left;\"></td>\n",
       "            </tr>\n",
       "        \n",
       "\n",
       "        </table>\n",
       "\n",
       "        \n",
       "            <button style=\"margin-bottom: 12px;\" data-commandlinker-command=\"dask:populate-and-launch-layout\" data-commandlinker-args='{\"url\": \"proxy/8787/status\" }'>\n",
       "                Launch dashboard in JupyterLab\n",
       "            </button>\n",
       "        \n",
       "\n",
       "        \n",
       "            <details>\n",
       "            <summary style=\"margin-bottom: 20px;\"><h3 style=\"display: inline;\">Cluster Info</h3></summary>\n",
       "            <div class=\"jp-RenderedHTMLCommon jp-RenderedHTML jp-mod-trusted jp-OutputArea-output\">\n",
       "    <div style=\"width: 24px; height: 24px; background-color: #e1e1e1; border: 3px solid #9D9D9D; border-radius: 5px; position: absolute;\">\n",
       "    </div>\n",
       "    <div style=\"margin-left: 48px;\">\n",
       "        <h3 style=\"margin-bottom: 0px; margin-top: 0px;\">HTCondorCluster</h3>\n",
       "        <p style=\"color: #9D9D9D; margin-bottom: 0px;\">c7c0101e</p>\n",
       "        <table style=\"width: 100%; text-align: left;\">\n",
       "            <tr>\n",
       "                <td style=\"text-align: left;\">\n",
       "                    <strong>Dashboard:</strong> <a href=\"proxy/8787/status\" target=\"_blank\">proxy/8787/status</a>\n",
       "                </td>\n",
       "                <td style=\"text-align: left;\">\n",
       "                    <strong>Workers:</strong> 0\n",
       "                </td>\n",
       "            </tr>\n",
       "            <tr>\n",
       "                <td style=\"text-align: left;\">\n",
       "                    <strong>Total threads:</strong> 0\n",
       "                </td>\n",
       "                <td style=\"text-align: left;\">\n",
       "                    <strong>Total memory:</strong> 0 B\n",
       "                </td>\n",
       "            </tr>\n",
       "            \n",
       "        </table>\n",
       "\n",
       "        <details>\n",
       "            <summary style=\"margin-bottom: 20px;\">\n",
       "                <h3 style=\"display: inline;\">Scheduler Info</h3>\n",
       "            </summary>\n",
       "\n",
       "            <div style=\"\">\n",
       "    <div>\n",
       "        <div style=\"width: 24px; height: 24px; background-color: #FFF7E5; border: 3px solid #FF6132; border-radius: 5px; position: absolute;\"> </div>\n",
       "        <div style=\"margin-left: 48px;\">\n",
       "            <h3 style=\"margin-bottom: 0px;\">Scheduler</h3>\n",
       "            <p style=\"color: #9D9D9D; margin-bottom: 0px;\">Scheduler-62bfa584-28c9-498c-88af-ae33f449f946</p>\n",
       "            <table style=\"width: 100%; text-align: left;\">\n",
       "                <tr>\n",
       "                    <td style=\"text-align: left;\">\n",
       "                        <strong>Comm:</strong> tcp://144.92.181.248:32681\n",
       "                    </td>\n",
       "                    <td style=\"text-align: left;\">\n",
       "                        <strong>Workers:</strong> 0\n",
       "                    </td>\n",
       "                </tr>\n",
       "                <tr>\n",
       "                    <td style=\"text-align: left;\">\n",
       "                        <strong>Dashboard:</strong> <a href=\"proxy/8787/status\" target=\"_blank\">proxy/8787/status</a>\n",
       "                    </td>\n",
       "                    <td style=\"text-align: left;\">\n",
       "                        <strong>Total threads:</strong> 0\n",
       "                    </td>\n",
       "                </tr>\n",
       "                <tr>\n",
       "                    <td style=\"text-align: left;\">\n",
       "                        <strong>Started:</strong> Just now\n",
       "                    </td>\n",
       "                    <td style=\"text-align: left;\">\n",
       "                        <strong>Total memory:</strong> 0 B\n",
       "                    </td>\n",
       "                </tr>\n",
       "            </table>\n",
       "        </div>\n",
       "    </div>\n",
       "\n",
       "    <details style=\"margin-left: 48px;\">\n",
       "        <summary style=\"margin-bottom: 20px;\">\n",
       "            <h3 style=\"display: inline;\">Workers</h3>\n",
       "        </summary>\n",
       "\n",
       "        \n",
       "\n",
       "    </details>\n",
       "</div>\n",
       "\n",
       "        </details>\n",
       "    </div>\n",
       "</div>\n",
       "            </details>\n",
       "        \n",
       "\n",
       "    </div>\n",
       "</div>"
      ],
      "text/plain": [
       "<Client: 'tcp://144.92.181.248:32681' processes=0 threads=0, memory=0 B>"
      ]
     },
     "execution_count": 10,
     "metadata": {},
     "output_type": "execute_result"
    }
   ],
   "source": [
    "os.environ[\"CONDOR_CONFIG\"] = \"/etc/condor/condor_config\"\n",
    "\n",
    "try:\n",
    "    _x509_localpath = (\n",
    "        [\n",
    "            line\n",
    "            for line in os.popen(\"voms-proxy-info\").read().split(\"\\n\")\n",
    "            if line.startswith(\"path\")\n",
    "        ][0]\n",
    "        .split(\":\")[-1]\n",
    "        .strip()\n",
    "    )\n",
    "except Exception as err:\n",
    "    raise RuntimeError(\n",
    "        \"x509 proxy could not be parsed, try creating it with 'voms-proxy-init'\"\n",
    "    ) from err\n",
    "_x509_path = f'/scratch/{os.environ[\"USER\"]}/{_x509_localpath.split(\"/\")[-1]}'\n",
    "os.system(f\"cp {_x509_localpath} {_x509_path}\")\n",
    "_x509_path = os.path.basename(_x509_localpath)\n",
    "\n",
    "PWD = os.getcwd()\n",
    "print(f'Transferring contents of {PWD} to workers')\n",
    "INITIAL_DIR = f'/scratch/{os.environ[\"USER\"]}'\n",
    "cluster = HTCondorCluster(\n",
    "    cores=1,\n",
    "    memory=\"2 GB\",\n",
    "    disk=\"1 GB\",\n",
    "    death_timeout = '60',\n",
    "    job_extra_directives={\n",
    "        \"+JobFlavour\": '\"tomorrow\"',\n",
    "        \"log\": \"dask_job_output.$(PROCESS).$(CLUSTER).log\",\n",
    "        \"output\": \"dask_job_output.$(PROCESS).$(CLUSTER).out\",\n",
    "        \"error\": \"dask_job_output.$(PROCESS).$(CLUSTER).err\",\n",
    "        \"should_transfer_files\": \"yes\",\n",
    "        \"when_to_transfer_output\": \"ON_EXIT_OR_EVICT\",\n",
    "        \"+SingularityImage\": '\"/cvmfs/unpacked.cern.ch/registry.hub.docker.com/coffeateam/coffea-dask:0.7.22-py3.10-g7cbcc\"',\n",
    "        \"Requirements\": \"HasSingularityJobStart\",\n",
    "        \"InitialDir\": INITIAL_DIR,\n",
    "        \"transfer_input_files\": f'{_x509_path}'\n",
    "    },\n",
    "    job_script_prologue=[\n",
    "        \"export XRD_RUNFORKHANDLER=1\",\n",
    "        f\"export X509_USER_PROXY={_x509_path}\",\n",
    "    ]\n",
    ")\n",
    "print('Condor logs, output files, error files in {}'.format(INITIAL_DIR))\n",
    "cluster.adapt(minimum=1, maximum=MAX_WORKERS)\n",
    "client = Client(cluster)\n",
    "dask_executor = processor.DaskExecutor(client=client, status=True)\n",
    "print(\"Executor created\")\n",
    "\n",
    "client"
   ]
  },
  {
   "cell_type": "markdown",
   "id": "da40e01b-dc1f-47fa-af29-bcb00e56af40",
   "metadata": {},
   "source": [
    "The above cell should have produced a `Client` object, with a button that says \"Launch dashboard in JupyterLab\". Clicking that button will allow you to see the memory usage and worker status of your Condor workers in roughly real time. We also created an executor object, much like when we ran locally, except now it is a `DaskExecutor`, which knows about our Condor workers and gives them jobs.\n",
    "\n",
    "The next cells create another runner with our Dask executor, and then runs the distributed jobs. You should be able to see your jobs moving in the dashboard, but it may take a few minutes. Running the jobs should finish in under 10 minutes."
   ]
  },
  {
   "cell_type": "code",
   "execution_count": 11,
   "id": "d5523bf3-a35b-4b68-be1c-31610b87b4e6",
   "metadata": {
    "tags": []
   },
   "outputs": [
    {
     "name": "stdout",
     "output_type": "stream",
     "text": [
      "Creating runner\n",
      "Using chunksize: 5000 and maxchunks None\n"
     ]
    }
   ],
   "source": [
    "print(\"Creating runner\")\n",
    "print(\"Using chunksize: {} and maxchunks {}\".format(CHUNKSIZE,MAX_CHUNKS))\n",
    "runner = processor.Runner(\n",
    "    executor=dask_executor,\n",
    "    schema=NanoAODSchema,\n",
    "    chunksize=CHUNKSIZE,\n",
    "    maxchunks=MAX_CHUNKS,\n",
    "    skipbadfiles=True,\n",
    "    xrootdtimeout=300,\n",
    ")"
   ]
  },
  {
   "cell_type": "code",
   "execution_count": 12,
   "id": "84bf82b8-cc93-4a4d-85a5-bc5116bdf381",
   "metadata": {
    "tags": []
   },
   "outputs": [
    {
     "name": "stdout",
     "output_type": "stream",
     "text": [
      "Calling runner\n",
      "[########################################] | 100% Completed |  5min 25.1s\u001b[2K\r"
     ]
    }
   ],
   "source": [
    "print(\"Calling runner\")\n",
    "ll_results_dask = runner(\n",
    "    ll_fileset,\n",
    "    treename=\"Events\",\n",
    "    processor_instance=ExampleProcessor(),\n",
    ")"
   ]
  },
  {
   "cell_type": "markdown",
   "id": "0e8ed6aa-44d6-4970-8573-1828c5f16347",
   "metadata": {},
   "source": [
    "Again, we can look at the results."
   ]
  },
  {
   "cell_type": "code",
   "execution_count": 13,
   "id": "4a6dc906-5961-4f86-aa0d-fd81754dbd0c",
   "metadata": {},
   "outputs": [
    {
     "name": "stdout",
     "output_type": "stream",
     "text": [
      "Dataset: ggZH_HToBB_ZToLL\n",
      "Event count: 14000\n",
      "Dataset: ZH_HToBB_ZToLL\n",
      "Event count: 300312\n"
     ]
    },
    {
     "data": {
      "text/plain": [
       "[StairsArtists(stairs=<matplotlib.patches.StepPatch object at 0x7fbd2a5a0460>, errorbar=None, legend_artist=None)]"
      ]
     },
     "execution_count": 13,
     "metadata": {},
     "output_type": "execute_result"
    },
    {
     "data": {
      "image/png": "[encoded data removed]",
      "text/plain": [
       "<Figure size 640x480 with 1 Axes>"
      ]
     },
     "metadata": {},
     "output_type": "display_data"
    }
   ],
   "source": [
    "for dset,results in ll_results_dask.items():\n",
    "    print(f\"Dataset: {dset}\")\n",
    "    print(f\"Event count: {results['EventCount'].value}\")\n",
    "\n",
    "ll_results_dask[\"ZH_HToBB_ZToLL\"][\"MyHist\"].plot()"
   ]
  },
  {
   "cell_type": "markdown",
   "id": "0cfdf329-6dbd-40d1-8086-0fbf6c991285",
   "metadata": {},
   "source": [
    "Finally, make sure to shut down your Condor client when you are done, just to avoid issues. If you forget, shutting down the notebook kernel also works."
   ]
  },
  {
   "cell_type": "code",
   "execution_count": 14,
   "id": "c2d16f26-61f3-4b36-a61d-7108ef88ec0f",
   "metadata": {
    "tags": []
   },
   "outputs": [],
   "source": [
    "client.shutdown()"
   ]
  },
  {
   "cell_type": "code",
   "execution_count": null,
   "id": "e38148c6-df86-477b-bda1-59b509b37b9b",
   "metadata": {},
   "outputs": [],
   "source": []
  }
 ],
 "metadata": {
  "kernelspec": {
   "display_name": "Python 3 (ipykernel)",
   "language": "python",
   "name": "python3"
  },
  "language_info": {
   "codemirror_mode": {
    "name": "ipython",
    "version": 3
   },
   "file_extension": ".py",
   "mimetype": "text/x-python",
   "name": "python",
   "nbconvert_exporter": "python",
   "pygments_lexer": "ipython3",
   "version": "3.10.8"
  }
 },
 "nbformat": 4,
 "nbformat_minor": 5
}
