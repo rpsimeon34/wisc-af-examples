{
 "cells": [
  {
   "cell_type": "markdown",
   "id": "5d72c0b5-7684-4e01-87ea-730ea5035f5d",
   "metadata": {},
   "source": [
    "# Event Selection Example\n",
    "\n",
    "This notebook gives some examples of how to do event selections in the columnar framework with Awkward Array. As in the other notebooks, make sure that you've run the appropriate `voms-proxy-init` command in order to access the file for this notebook."
   ]
  },
  {
   "cell_type": "code",
   "execution_count": 3,
   "id": "29da3f6f-7a0d-43cd-a7ff-85abe053b31b",
   "metadata": {
    "tags": []
   },
   "outputs": [
    {
     "name": "stdout",
     "output_type": "stream",
     "text": [
      "Events loaded\n"
     ]
    }
   ],
   "source": [
    "import awkward as ak\n",
    "import numpy as np\n",
    "from coffea.nanoevents import NanoEventsFactory, NanoAODSchema\n",
    "from coffea.analysis_tools import PackedSelection\n",
    "\n",
    "redirector = \"root://cmsxrootd.fnal.gov//\"\n",
    "filename = redirector+\"/store/mc/RunIISummer20UL17NanoAODv9/Z2JetsToNuNu_M-50_LHEFilterPtZ-400ToInf_MatchEWPDG20_TuneCP5_13TeV-amcatnloFXFX-pythia8/NANOAODSIM/106X_mc2017_realistic_v9-v2/2510000/012B57B0-38DB-8246-B875-2E5E4625C134.root\"\n",
    "events = NanoEventsFactory.from_root(\n",
    "        filename,\n",
    "        schemaclass=NanoAODSchema.v6,\n",
    "    ).events()\n",
    "print(\"Events loaded\")"
   ]
  },
  {
   "cell_type": "markdown",
   "id": "461062e6-3f46-4d7f-86f8-02a0550827d5",
   "metadata": {},
   "source": [
    "If we want to just pull out a certain subset of events by number, we can do that by slicing."
   ]
  },
  {
   "cell_type": "code",
   "execution_count": 6,
   "id": "c2e4191d-b234-4e21-8bbb-02c53a003606",
   "metadata": {},
   "outputs": [
    {
     "name": "stdout",
     "output_type": "stream",
     "text": [
      "There are 550083 total events in the file\n",
      "In our fewer_events, there are 5 events\n"
     ]
    }
   ],
   "source": [
    "print(f\"There are {len(events)} total events in the file\")\n",
    "fewer_events = events[10:15]\n",
    "print(f\"In our fewer_events, there are {len(fewer_events)} events\")"
   ]
  },
  {
   "cell_type": "markdown",
   "id": "68639f0a-3876-42df-b656-a6184bc0043e",
   "metadata": {},
   "source": [
    "To filter out events, we can use a 1D array of Booleans of the same length as the number of events.\n",
    "\n",
    "For example, we can ask for events with at least 3 AK4 jets. To see the number of jets per event, we use `ak.num`."
   ]
  },
  {
   "cell_type": "code",
   "execution_count": 9,
   "id": "6ad9c16f-d0be-43be-8c26-1f7c3110848e",
   "metadata": {},
   "outputs": [
    {
     "name": "stdout",
     "output_type": "stream",
     "text": [
      "The number of jets per event: [4, 4, 2, 6, 7]\n",
      "The filter for >= 3 jets: [True, True, False, True, True]\n",
      "The number of jets in remaining events: [4, 4, 6, 7]\n"
     ]
    }
   ],
   "source": [
    "print(f\"The number of jets per event: {ak.num(fewer_events.Jet)}\")\n",
    "jet3_filt = ak.num(fewer_events.Jet) >= 3\n",
    "print(f\"The filter for >= 3 jets: {jet3_filt}\")\n",
    "fewer_events_jet3 = fewer_events[jet3_filt]\n",
    "print(f\"The number of jets in remaining events: {ak.num(fewer_events_jet3.Jet)}\")"
   ]
  },
  {
   "cell_type": "markdown",
   "id": "292d06dd-5a9f-4e6c-91b3-27b968019e87",
   "metadata": {},
   "source": [
    "We could use this method for all of our event selection, but coffea provides a more memory-efficient way to do event selections. This is the coffea.analysis_tools.PackedSelection class.\n",
    "\n",
    "We'll create some 1D arrays of Booleans like above, and then add them to the PackedSelection object with a name. We can then apply different combinations of selections to our events."
   ]
  },
  {
   "cell_type": "code",
   "execution_count": 10,
   "id": "71e9e752-543a-49b9-88ea-90228b2307c8",
   "metadata": {
    "tags": []
   },
   "outputs": [],
   "source": [
    "selection = PackedSelection()\n",
    "selection.add(\"Nelectrons>=2\",ak.num(events.Electron)>=2)\n",
    "selection.add(\"Nmuons>=2\",ak.num(events.Muon)>=2)"
   ]
  },
  {
   "cell_type": "markdown",
   "id": "707fa47a-ebc4-4e6a-b846-3823a23bf9b9",
   "metadata": {},
   "source": [
    "This added two separate selections, one of which asks for at least 2 electrons, and one which asks for at least 2 muons in the event.\n",
    "\n",
    "We can also use High Level Trigger flags for selections. Here, we use a dielectron and a dimuon trigger."
   ]
  },
  {
   "cell_type": "code",
   "execution_count": 11,
   "id": "229f7887-ba42-46bf-a12f-1550518b0138",
   "metadata": {},
   "outputs": [],
   "source": [
    "selection.add(\"eeTrigger\", events.HLT.Ele23_Ele12_CaloIdL_TrackIdL_IsoVL_DZ)\n",
    "selection.add(\"mumuTrigger\",events.HLT.Mu17_TrkIsoVVL_Mu8_TrkIsoVVL_DZ_Mass3p8)"
   ]
  },
  {
   "cell_type": "markdown",
   "id": "c8a546a8-1bdf-4c95-8687-ba08fa7a487e",
   "metadata": {},
   "source": [
    "We can use the `all()` method of the PackedSelection to require that events pass $\\textbf{all}$ of the selections we give to the method. We can use this directly to filter, or we can use it to add new selections that are just combinations of other selections."
   ]
  },
  {
   "cell_type": "code",
   "execution_count": 12,
   "id": "89119373-d73a-41f9-9cd0-4f73c41c6e9f",
   "metadata": {},
   "outputs": [
    {
     "name": "stdout",
     "output_type": "stream",
     "text": [
      "We started with 550083 events\n",
      "We have 186 that pass the dimuon requirements\n",
      "We have 47 that pass the dielectron requirements\n"
     ]
    }
   ],
   "source": [
    "selection.add(\"dielectron\",selection.all(\"eeTrigger\",\"Nelectrons>=2\"))\n",
    "selection.add(\"dimuon\",selection.all(\"mumuTrigger\",\"Nmuons>=2\"))\n",
    "muEvents = events[selection.all(\"dimuon\")]\n",
    "eleEvents = events[selection.all(\"dielectron\")]\n",
    "print(f\"We started with {len(events)} events\")\n",
    "print(f\"We have {len(muEvents)} that pass the dimuon requirements\")\n",
    "print(f\"We have {len(eleEvents)} that pass the dielectron requirements\")"
   ]
  }
 ],
 "metadata": {
  "kernelspec": {
   "display_name": "Python 3 (ipykernel)",
   "language": "python",
   "name": "python3"
  },
  "language_info": {
   "codemirror_mode": {
    "name": "ipython",
    "version": 3
   },
   "file_extension": ".py",
   "mimetype": "text/x-python",
   "name": "python",
   "nbconvert_exporter": "python",
   "pygments_lexer": "ipython3",
   "version": "3.10.8"
  }
 },
 "nbformat": 4,
 "nbformat_minor": 5
}
