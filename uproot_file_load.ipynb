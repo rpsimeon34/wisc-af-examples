{
 "cells": [
  {
   "cell_type": "markdown",
   "id": "e47b324c-0d84-40c7-b3e0-298c1dd47604",
   "metadata": {},
   "source": [
    "# uproot File Open Example\n",
    "\n",
    "If a user wants to open a ROOT file without coffea, for example to make sure it is accessible, that can be done with bare `uproot`. The file accessed here is accessed through XRootD, and so requires the proper `voms-proxy-init` to be run."
   ]
  },
  {
   "cell_type": "code",
   "execution_count": 1,
   "id": "3a44dcd6-cd53-46b9-82fc-276f9f5ca2df",
   "metadata": {
    "tags": []
   },
   "outputs": [],
   "source": [
    "import uproot"
   ]
  },
  {
   "cell_type": "code",
   "execution_count": 2,
   "id": "7072abbb-823e-415a-8f7f-925f8e8fd444",
   "metadata": {
    "tags": []
   },
   "outputs": [
    {
     "name": "stdout",
     "output_type": "stream",
     "text": [
      "['tag;1', 'Events;1', 'LuminosityBlocks;1', 'Runs;1', 'MetaData;1', 'ParameterSets;1']\n",
      "<class 'uproot.models.TTree.Model_TTree_v20'>\n"
     ]
    }
   ],
   "source": [
    "redirector = \"root://cmsxrootd.fnal.gov//\"\n",
    "file = redirector+\"store/mc/RunIISummer20UL18NanoAODv9/ggZH_HToBB_ZToLL_M-125_TuneCP5_13TeV-powheg-pythia8/NANOAODSIM/106X_upgrade2018_realistic_v16_L1v1-v1/2520000/1412A75E-6CBA-5142-914D-2FE8356F680C.root\"\n",
    "with uproot.open(file) as f:\n",
    "    print(f.keys())\n",
    "    print(type(f['Events;1']))"
   ]
  },
  {
   "cell_type": "code",
   "execution_count": null,
   "id": "56b3b673-7b70-420f-a53b-ce11a1266d1d",
   "metadata": {},
   "outputs": [],
   "source": []
  }
 ],
 "metadata": {
  "kernelspec": {
   "display_name": "Python 3 (ipykernel)",
   "language": "python",
   "name": "python3"
  },
  "language_info": {
   "codemirror_mode": {
    "name": "ipython",
    "version": 3
   },
   "file_extension": ".py",
   "mimetype": "text/x-python",
   "name": "python",
   "nbconvert_exporter": "python",
   "pygments_lexer": "ipython3",
   "version": "3.10.8"
  }
 },
 "nbformat": 4,
 "nbformat_minor": 5
}
