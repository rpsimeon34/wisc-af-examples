{
 "cells": [
  {
   "cell_type": "markdown",
   "id": "37f409e4-7d48-4a13-97e0-a21288ef2a7a",
   "metadata": {},
   "source": [
    "# Histogram Example\n",
    "\n",
    "In coffea, histograms should use the `hist` package. This notebook walks through some basics of creating and filling a `hist` histogram, and also some basic plotting commands."
   ]
  },
  {
   "cell_type": "code",
   "execution_count": 1,
   "id": "b3d09f47-a732-4915-bb04-3feb504a4214",
   "metadata": {
    "tags": []
   },
   "outputs": [],
   "source": [
    "from hist import Hist, axis\n",
    "import awkward as ak\n",
    "import numpy as np\n",
    "import mplhep as hep"
   ]
  },
  {
   "cell_type": "markdown",
   "id": "be5da9a2-3314-4e84-9e9f-4128167c32b2",
   "metadata": {},
   "source": [
    "Most of the work in creating a histogram is in making the axes. This is where you decide binning, whether you want continuous or categorical variables, axis names, axis labels, and other things.\n",
    "\n",
    "Here, we define an axis for a continuous variable with `hist.axis.Regular`. We also define a categorical axis with fixed, defined possible entries (`FixedCategoryAxis`) and another without pre-defined possible entries (`VariableAxis`). These latter two are created with `hist.axis.StrCategory`, and accept strings when filling."
   ]
  },
  {
   "cell_type": "code",
   "execution_count": 2,
   "id": "f0efa63f-1113-49fb-a45e-3dbb2d4168fa",
   "metadata": {
    "tags": []
   },
   "outputs": [],
   "source": [
    "RealNumberAxis = axis.Regular(10,0.0,100.0,name=\"data\")\n",
    "FixedCategoryAxis = axis.StrCategory(['Cat','Dog'],name='animal',label='My Animal Axis')\n",
    "VariableAxis = axis.StrCategory([],growth=True,name='color')"
   ]
  },
  {
   "cell_type": "markdown",
   "id": "a5ac7492-c7c2-4254-9439-5717be03b980",
   "metadata": {},
   "source": [
    "Now, we can create histograms of different dimensions by passing in the axes."
   ]
  },
  {
   "cell_type": "code",
   "execution_count": 3,
   "id": "b01b6b1c-d61b-42cb-8752-d56a8bda2021",
   "metadata": {
    "tags": []
   },
   "outputs": [],
   "source": [
    "h1D = Hist(RealNumberAxis)\n",
    "h2D = Hist(RealNumberAxis,FixedCategoryAxis)\n",
    "h3D = Hist(RealNumberAxis,FixedCategoryAxis,VariableAxis)"
   ]
  },
  {
   "cell_type": "markdown",
   "id": "f0f66fe8-a4f8-41c1-977d-bd479e766392",
   "metadata": {},
   "source": [
    "Let's fill in some data. First, we'll fill the 1D histogram by passing it a 1D array of numbers. Notice that when we defined the axis `RealNumberAxis`, its name was `data`. That decides what the keyword argument should be when filling."
   ]
  },
  {
   "cell_type": "code",
   "execution_count": 4,
   "id": "4848760f-ac56-47c3-b2cc-2fce13f56642",
   "metadata": {
    "tags": []
   },
   "outputs": [
    {
     "data": {
      "text/html": [
       "<html>\n",
       "<div style=\"display:flex; align-items:center;\">\n",
       "<div style=\"width:290px;\">\n",
       "<svg xmlns=\"http://www.w3.org/2000/svg\" viewBox=\"-10 -105 270 120\">\n",
       "<line x1=\"-5\" y1=\"0\" x2=\"255\" y2=\"0\" style=\"fill:none;stroke-width:2;stroke:currentColor\"/>\n",
       "<text text-anchor=\"middle\" x=\"0\" y=\"15\" style=\"fill:currentColor;\">\n",
       "0\n",
       "</text>\n",
       "<text text-anchor=\"middle\" x=\"250\" y=\"15\" style=\"fill:currentColor;\">\n",
       "100\n",
       "</text>\n",
       "<text text-anchor=\"middle\" x=\"125.0\" y=\"15\" style=\"fill:currentColor;\">\n",
       "data\n",
       "</text>\n",
       "<polyline points=\"  0,0   0,-100  25,-100  25,-0  50,-0  50,-0  75,-0  75,-0 100,-0 100,-0 125,-0 125,-0 150,-0 150,-0 175,-0 175,-0 200,-0 200,-0 225,-0 225,-33.3 250,-33.3 250,0\" style=\"fill:none; stroke:currentColor;\"/>\n",
       "</svg>\n",
       "</div>\n",
       "<div style=\"flex=grow:1;\">\n",
       "Regular(10, 0, 100, name='data')<br/>\n",
       "<hr style=\"margin-top:.2em; margin-bottom:.2em;\"/>\n",
       "Double() Σ=4.0\n",
       "\n",
       "</div>\n",
       "</div>\n",
       "</html>"
      ],
      "text/plain": [
       "Hist(Regular(10, 0, 100, name='data'), storage=Double()) # Sum: 4.0"
      ]
     },
     "execution_count": 4,
     "metadata": {},
     "output_type": "execute_result"
    }
   ],
   "source": [
    "flat_data = ak.Array([1,2,3,95])\n",
    "h1D.fill(data=flat_data)"
   ]
  },
  {
   "cell_type": "markdown",
   "id": "0aaafb03-7468-425a-a3d8-787e6a1f9bda",
   "metadata": {},
   "source": [
    "When working with Awkward Array, we frequently end up with jagged (nested) arrays. We can only fill with 1D arrays of data, so the Awkward Array function `ak.ravel` is useful. This flattens the data and removes empty arrays, formatting it well for filling histograms."
   ]
  },
  {
   "cell_type": "code",
   "execution_count": 5,
   "id": "721db009-ee93-4022-acce-5d9cd6ce988e",
   "metadata": {
    "tags": []
   },
   "outputs": [
    {
     "data": {
      "text/html": [
       "<html>\n",
       "<div style=\"display:flex; align-items:center;\">\n",
       "<div style=\"width:290px;\">\n",
       "<svg xmlns=\"http://www.w3.org/2000/svg\" viewBox=\"-10 -105 270 120\">\n",
       "<line x1=\"-5\" y1=\"0\" x2=\"255\" y2=\"0\" style=\"fill:none;stroke-width:2;stroke:currentColor\"/>\n",
       "<text text-anchor=\"middle\" x=\"0\" y=\"15\" style=\"fill:currentColor;\">\n",
       "0\n",
       "</text>\n",
       "<text text-anchor=\"middle\" x=\"250\" y=\"15\" style=\"fill:currentColor;\">\n",
       "100\n",
       "</text>\n",
       "<text text-anchor=\"middle\" x=\"125.0\" y=\"15\" style=\"fill:currentColor;\">\n",
       "data\n",
       "</text>\n",
       "<polyline points=\"  0,0   0,-60  25,-60  25,-20  50,-20  50,-20  75,-20  75,-100 100,-100 100,-40 125,-40 125,-0 150,-0 150,-20 175,-20 175,-0 200,-0 200,-0 225,-0 225,-20 250,-20 250,0\" style=\"fill:none; stroke:currentColor;\"/>\n",
       "</svg>\n",
       "</div>\n",
       "<div style=\"flex=grow:1;\">\n",
       "Regular(10, 0, 100, name='data')<br/>\n",
       "<hr style=\"margin-top:.2em; margin-bottom:.2em;\"/>\n",
       "Double() Σ=14.0\n",
       "\n",
       "</div>\n",
       "</div>\n",
       "</html>"
      ],
      "text/plain": [
       "Hist(Regular(10, 0, 100, name='data'), storage=Double()) # Sum: 14.0"
      ]
     },
     "execution_count": 5,
     "metadata": {},
     "output_type": "execute_result"
    }
   ],
   "source": [
    "jagged_data = ak.Array([[10,20,30],[45.3,47],[61],[],[37,37,38,39]])\n",
    "h1D.fill(data=ak.ravel(jagged_data))"
   ]
  },
  {
   "cell_type": "markdown",
   "id": "e282b546-2196-40d3-bbea-72c5469ba12a",
   "metadata": {},
   "source": [
    "The `mplhep` package is useful for plotting HEP-style plots. It is built on top of matplotlib, but offers things like style sheets for some LHC experiments."
   ]
  },
  {
   "cell_type": "code",
   "execution_count": 6,
   "id": "da801b6b-0932-4258-b0c0-2c31a0417f5a",
   "metadata": {
    "tags": []
   },
   "outputs": [
    {
     "data": {
      "text/plain": [
       "[StairsArtists(stairs=<matplotlib.patches.StepPatch object at 0x7f781e9c36d0>, errorbar=None, legend_artist=None)]"
      ]
     },
     "execution_count": 6,
     "metadata": {},
     "output_type": "execute_result"
    },
    {
     "data": {
      "image/png": "[encoded data removed]",
      "text/plain": [
       "<Figure size 640x480 with 1 Axes>"
      ]
     },
     "metadata": {},
     "output_type": "display_data"
    }
   ],
   "source": [
    "hep.histplot(h1D,yerr=False)"
   ]
  },
  {
   "cell_type": "markdown",
   "id": "678cdc47-40d1-435d-9f57-7e11c66c3896",
   "metadata": {},
   "source": [
    "To fill the 2D histogram, we can either pass in one 1D array and a single value for the other axis, or two 1D arrays of equal length. In the former case, the single value is broadcasted to match every entry in the 1D array."
   ]
  },
  {
   "cell_type": "code",
   "execution_count": 7,
   "id": "b4ae296c-9f0f-4004-b677-dd2dfbe7864b",
   "metadata": {
    "tags": []
   },
   "outputs": [
    {
     "data": {
      "text/plain": [
       "ColormeshArtists(pcolormesh=<matplotlib.collections.QuadMesh object at 0x7f781685f310>, cbar=<matplotlib.colorbar.Colorbar object at 0x7f7816885d50>, text=[])"
      ]
     },
     "execution_count": 7,
     "metadata": {},
     "output_type": "execute_result"
    },
    {
     "data": {
      "image/png": "[encoded data removed]",
      "text/plain": [
       "<Figure size 640x480 with 2 Axes>"
      ]
     },
     "metadata": {},
     "output_type": "display_data"
    }
   ],
   "source": [
    "h2D.fill(data=ak.ravel(jagged_data),animal='Dog')\n",
    "h2D.fill(data=ak.ravel(flat_data),animal=['Cat','Cat','Dog','Cat'])\n",
    "hep.hist2dplot(h2D)"
   ]
  },
  {
   "cell_type": "markdown",
   "id": "df0d6752-526c-4fc5-a67a-1285ac0413c8",
   "metadata": {},
   "source": [
    "This extends to 3D histograms in the same way:"
   ]
  },
  {
   "cell_type": "code",
   "execution_count": 8,
   "id": "4439956b-8244-41d6-bb31-059aa17ee691",
   "metadata": {
    "tags": []
   },
   "outputs": [
    {
     "data": {
      "text/plain": [
       "Hist(\n",
       "  Regular(10, 0, 100, name='data'),\n",
       "  StrCategory(['Cat', 'Dog'], name='animal', label='My Animal Axis'),\n",
       "  StrCategory(['red', 'blue'], growth=True, name='color'),\n",
       "  storage=Double()) # Sum: 19.0"
      ]
     },
     "execution_count": 8,
     "metadata": {},
     "output_type": "execute_result"
    }
   ],
   "source": [
    "other_jagged_data = ak.Array([[52,30,35],[88,89]])\n",
    "h3D.fill(data=flat_data,animal='Cat',color='red')\n",
    "h3D.fill(data=ak.ravel(jagged_data),animal='Dog',color='blue')\n",
    "h3D.fill(data=ak.ravel(other_jagged_data),animal='Cat',color='red')"
   ]
  },
  {
   "cell_type": "markdown",
   "id": "6cc41b98-55f4-4f8e-b501-f6867ab52d8a",
   "metadata": {},
   "source": [
    "We can't plot all axes of the 3D histogram at the same time, but we can project down to 2 axes by summing/integrating over one of the axes. Here, we first sum over the `color` axis, so the resulting plot projects out that axis. Then, we instead sum over the `data` axis, just to see how we can project out a continuous variable's axis."
   ]
  },
  {
   "cell_type": "code",
   "execution_count": 9,
   "id": "a8aafeda-9bd0-420a-9e14-53b69b6b6c79",
   "metadata": {
    "tags": []
   },
   "outputs": [
    {
     "data": {
      "text/plain": [
       "ColormeshArtists(pcolormesh=<matplotlib.collections.QuadMesh object at 0x7f7816728550>, cbar=<matplotlib.colorbar.Colorbar object at 0x7f781674b4f0>, text=[])"
      ]
     },
     "execution_count": 9,
     "metadata": {},
     "output_type": "execute_result"
    },
    {
     "data": {
      "image/png": "[encoded data removed]",
      "text/plain": [
       "<Figure size 640x480 with 2 Axes>"
      ]
     },
     "metadata": {},
     "output_type": "display_data"
    }
   ],
   "source": [
    "hep.hist2dplot(h3D[{'color': sum}])"
   ]
  },
  {
   "cell_type": "code",
   "execution_count": 10,
   "id": "5356994f-48f8-4820-901a-d3dab5ca439d",
   "metadata": {
    "tags": []
   },
   "outputs": [
    {
     "data": {
      "text/plain": [
       "ColormeshArtists(pcolormesh=<matplotlib.collections.QuadMesh object at 0x7f78167f5f90>, cbar=<matplotlib.colorbar.Colorbar object at 0x7f781661caf0>, text=[])"
      ]
     },
     "execution_count": 10,
     "metadata": {},
     "output_type": "execute_result"
    },
    {
     "data": {
      "image/png": "[encoded data removed]",
      "text/plain": [
       "<Figure size 640x480 with 2 Axes>"
      ]
     },
     "metadata": {},
     "output_type": "display_data"
    }
   ],
   "source": [
    "hep.hist2dplot(h3D[{'data': sum}])"
   ]
  },
  {
   "cell_type": "markdown",
   "id": "4824d07a-a559-41e4-9964-a8bfafb5ca6d",
   "metadata": {},
   "source": [
    "We can also examine the actual values in the histogram's bins with `my_hist.values()`. This comes out as a nested numpy array, where the level of nesting corresponds to the number of dimensions of the histogram."
   ]
  },
  {
   "cell_type": "code",
   "execution_count": 12,
   "id": "15bf3ed4-c1ec-4494-b3b5-244df39910fb",
   "metadata": {
    "tags": []
   },
   "outputs": [
    {
     "data": {
      "text/plain": [
       "array([[[3., 0.],\n",
       "        [0., 0.]],\n",
       "\n",
       "       [[0., 0.],\n",
       "        [0., 1.]],\n",
       "\n",
       "       [[0., 0.],\n",
       "        [0., 1.]],\n",
       "\n",
       "       [[2., 0.],\n",
       "        [0., 5.]],\n",
       "\n",
       "       [[0., 0.],\n",
       "        [0., 2.]],\n",
       "\n",
       "       [[1., 0.],\n",
       "        [0., 0.]],\n",
       "\n",
       "       [[0., 0.],\n",
       "        [0., 1.]],\n",
       "\n",
       "       [[0., 0.],\n",
       "        [0., 0.]],\n",
       "\n",
       "       [[2., 0.],\n",
       "        [0., 0.]],\n",
       "\n",
       "       [[1., 0.],\n",
       "        [0., 0.]]])"
      ]
     },
     "execution_count": 12,
     "metadata": {},
     "output_type": "execute_result"
    }
   ],
   "source": [
    "h3D.values()"
   ]
  },
  {
   "cell_type": "markdown",
   "id": "7d8803dc-e697-4fb7-8768-c50a7752d834",
   "metadata": {},
   "source": [
    "Finally, information about the bins is accessible through the `axes` attribute of the histogram object. For example, we could get the centers of the bins for the continuous-valued variable."
   ]
  },
  {
   "cell_type": "code",
   "execution_count": 13,
   "id": "5f4a4b99-513a-468b-bc73-1e69588a871a",
   "metadata": {
    "tags": []
   },
   "outputs": [
    {
     "data": {
      "text/plain": [
       "array([ 5., 15., 25., 35., 45., 55., 65., 75., 85., 95.])"
      ]
     },
     "execution_count": 13,
     "metadata": {},
     "output_type": "execute_result"
    }
   ],
   "source": [
    "h3D.axes[0].centers"
   ]
  }
 ],
 "metadata": {
  "kernelspec": {
   "display_name": "Python 3 (ipykernel)",
   "language": "python",
   "name": "python3"
  },
  "language_info": {
   "codemirror_mode": {
    "name": "ipython",
    "version": 3
   },
   "file_extension": ".py",
   "mimetype": "text/x-python",
   "name": "python",
   "nbconvert_exporter": "python",
   "pygments_lexer": "ipython3",
   "version": "3.10.8"
  }
 },
 "nbformat": 4,
 "nbformat_minor": 5
}
